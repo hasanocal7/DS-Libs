{
  "nbformat": 4,
  "nbformat_minor": 0,
  "metadata": {
    "colab": {
      "provenance": [],
      "authorship_tag": "ABX9TyPp26yeVhiYk3a5wPHprJMm",
      "include_colab_link": true
    },
    "kernelspec": {
      "name": "python3",
      "display_name": "Python 3"
    },
    "language_info": {
      "name": "python"
    }
  },
  "cells": [
    {
      "cell_type": "markdown",
      "metadata": {
        "id": "view-in-github",
        "colab_type": "text"
      },
      "source": [
        "<a href=\"https://colab.research.google.com/github/hasanocal7/DS-Libs/blob/main/Pandas1_Series.ipynb\" target=\"_parent\"><img src=\"https://colab.research.google.com/assets/colab-badge.svg\" alt=\"Open In Colab\"/></a>"
      ]
    },
    {
      "cell_type": "markdown",
      "source": [
        "# Pandas"
      ],
      "metadata": {
        "id": "EQuDnxnaTcFp"
      }
    },
    {
      "cell_type": "markdown",
      "source": [
        "  Pandas, açık kaynaklı ve ücretsiz veri işleme, manipüle etme, temizleme ve \n",
        "benzeri işlemleri yapabileceğiniz oldukça efektif bir kütüphanedir.\n",
        "\n",
        "  Pandas kütüphanesi NumPy kütüphanesi üzerine kurulmuş bir kütüphanedir.\n",
        "\n",
        "  Pandas elimizdeki bilgiyi şekillendirip işlememize ve veriden anlamlı sonuçlar çıkarmamıza olanak sağlar.\n",
        "\n",
        "  Pandas kütüphanesinin temel elemanları Series ve DataFrameler'dir.\n",
        "\n",
        "  Series ve DataFrame nesneleri Excel tablolarına benzetilebilir."
      ],
      "metadata": {
        "id": "cDQ2D5WTTmLb"
      }
    },
    {
      "cell_type": "markdown",
      "source": [
        "# Pandas Import Etme"
      ],
      "metadata": {
        "id": "YWplhwyFWNfr"
      }
    },
    {
      "cell_type": "code",
      "execution_count": 1,
      "metadata": {
        "id": "dMTFIB8aQL-V"
      },
      "outputs": [],
      "source": [
        "import pandas as pd"
      ]
    },
    {
      "cell_type": "markdown",
      "source": [
        "# Series Oluşturma"
      ],
      "metadata": {
        "id": "30g28YrXWU9p"
      }
    },
    {
      "cell_type": "code",
      "source": [
        "my_data = ['Hasan','Ahmet','Bekir','Özlem','Berna']\n",
        "my_data"
      ],
      "metadata": {
        "colab": {
          "base_uri": "https://localhost:8080/"
        },
        "id": "E33BaoZ_WTfN",
        "outputId": "15ec91e8-2586-4a6e-b7ca-bcf0e1906115"
      },
      "execution_count": 2,
      "outputs": [
        {
          "output_type": "execute_result",
          "data": {
            "text/plain": [
              "['Hasan', 'Ahmet', 'Bekir', 'Özlem', 'Berna']"
            ]
          },
          "metadata": {},
          "execution_count": 2
        }
      ]
    },
    {
      "cell_type": "code",
      "source": [
        "#pd.Series() fonksiyonu ile Series oluştururuz."
      ],
      "metadata": {
        "id": "5Ech_o9FW-k4"
      },
      "execution_count": null,
      "outputs": []
    },
    {
      "cell_type": "code",
      "source": [
        "pd.Series(my_data)"
      ],
      "metadata": {
        "colab": {
          "base_uri": "https://localhost:8080/"
        },
        "id": "qnFDxHAiXExT",
        "outputId": "01504573-79c4-4a9c-a61a-5c1311209444"
      },
      "execution_count": 3,
      "outputs": [
        {
          "output_type": "execute_result",
          "data": {
            "text/plain": [
              "0    Hasan\n",
              "1    Ahmet\n",
              "2    Bekir\n",
              "3    Özlem\n",
              "4    Berna\n",
              "dtype: object"
            ]
          },
          "metadata": {},
          "execution_count": 3
        }
      ]
    },
    {
      "cell_type": "code",
      "source": [
        "my_data=[1923,1776,1876]\n",
        "my_idx=['Türkiye','USA','Canada']\n",
        "pd.Series(my_data,my_idx)"
      ],
      "metadata": {
        "colab": {
          "base_uri": "https://localhost:8080/"
        },
        "id": "AFPi7zunXb8_",
        "outputId": "d6af1275-77a2-40b3-880e-1b6c8fc9b266"
      },
      "execution_count": 5,
      "outputs": [
        {
          "output_type": "execute_result",
          "data": {
            "text/plain": [
              "Türkiye    1923\n",
              "USA        1776\n",
              "Canada     1876\n",
              "dtype: int64"
            ]
          },
          "metadata": {},
          "execution_count": 5
        }
      ]
    },
    {
      "cell_type": "code",
      "source": [
        "#pd.Series() fonksiyonu içerisine dictionary de alabilir. Dictionary'nin keyleri index, value'ları değer olur."
      ],
      "metadata": {
        "id": "3YJRN-g0YRu7"
      },
      "execution_count": null,
      "outputs": []
    },
    {
      "cell_type": "code",
      "source": [
        "my_dict={\n",
        "    'Hasan':22,\n",
        "    'Ahmet':28,\n",
        "    'Bekir':23,\n",
        "    'Özlem':29,\n",
        "    'Berna':22\n",
        "}"
      ],
      "metadata": {
        "id": "zFtnN4YiY29_"
      },
      "execution_count": 6,
      "outputs": []
    },
    {
      "cell_type": "code",
      "source": [
        "pd.Series(my_dict)"
      ],
      "metadata": {
        "colab": {
          "base_uri": "https://localhost:8080/"
        },
        "id": "mZHawkO_ZLe-",
        "outputId": "283f4eba-266d-44a4-e987-5908005764e7"
      },
      "execution_count": 8,
      "outputs": [
        {
          "output_type": "execute_result",
          "data": {
            "text/plain": [
              "Hasan    22\n",
              "Ahmet    28\n",
              "Bekir    23\n",
              "Özlem    29\n",
              "Berna    22\n",
              "dtype: int64"
            ]
          },
          "metadata": {},
          "execution_count": 8
        }
      ]
    },
    {
      "cell_type": "code",
      "source": [
        "# Soru : İstanbul 15.4 , İzmir 4.3 , Ankara 5.6 , Bursa 3 şeklinde seri oluşturun. Hem liste göndererek, \n",
        "# hem de dictionary göndererek iki yöntemle de yapın."
      ],
      "metadata": {
        "id": "hOvZ2xwaZN7s"
      },
      "execution_count": null,
      "outputs": []
    },
    {
      "cell_type": "code",
      "source": [
        "my_data = [15.4,4.3,5.6,3]\n",
        "my_idx = ['İstanbul','İzmir','Ankara','Bursa']\n",
        "pd.Series(my_data,my_idx)"
      ],
      "metadata": {
        "colab": {
          "base_uri": "https://localhost:8080/"
        },
        "id": "sK2NqILXZxAa",
        "outputId": "cb642658-7a19-458a-fd04-106c777426d9"
      },
      "execution_count": 9,
      "outputs": [
        {
          "output_type": "execute_result",
          "data": {
            "text/plain": [
              "İstanbul    15.4\n",
              "İzmir        4.3\n",
              "Ankara       5.6\n",
              "Bursa        3.0\n",
              "dtype: float64"
            ]
          },
          "metadata": {},
          "execution_count": 9
        }
      ]
    },
    {
      "cell_type": "code",
      "source": [
        "my_dict={\n",
        "    'İstanbul': 15.4,\n",
        "    'İzmir': 4.3,\n",
        "    'Ankara': 5.6,\n",
        "    'Bursa': 3\n",
        "}\n",
        "pd.Series(my_dict)"
      ],
      "metadata": {
        "colab": {
          "base_uri": "https://localhost:8080/"
        },
        "id": "eBQYvR9xaEnQ",
        "outputId": "78c72b9e-be50-4d42-f770-0f3d3f998547"
      },
      "execution_count": 10,
      "outputs": [
        {
          "output_type": "execute_result",
          "data": {
            "text/plain": [
              "İstanbul    15.4\n",
              "İzmir        4.3\n",
              "Ankara       5.6\n",
              "Bursa        3.0\n",
              "dtype: float64"
            ]
          },
          "metadata": {},
          "execution_count": 10
        }
      ]
    },
    {
      "cell_type": "markdown",
      "source": [
        "# Serilerde İşlemler"
      ],
      "metadata": {
        "id": "tSG_yg7Ga6L-"
      }
    },
    {
      "cell_type": "code",
      "source": [
        "q1 = {\n",
        "    'Japonya':80,\n",
        "    'Çin': 450,\n",
        "    'Türkiye':150,\n",
        "    'Hindistan':200\n",
        "}\n",
        "q2 = {\n",
        "    'Japonya':90,\n",
        "    'Çin': 420,\n",
        "    'Türkiye':230,\n",
        "    'Hindistan':195\n",
        "}"
      ],
      "metadata": {
        "id": "rdB6jL_EaUyq"
      },
      "execution_count": 11,
      "outputs": []
    },
    {
      "cell_type": "code",
      "source": [
        "sales_q1 = pd.Series(q1)\n",
        "sales_q2 = pd.Series(q2)"
      ],
      "metadata": {
        "id": "AbvGDgWrbWyp"
      },
      "execution_count": 12,
      "outputs": []
    },
    {
      "cell_type": "code",
      "source": [
        "sales_q1"
      ],
      "metadata": {
        "colab": {
          "base_uri": "https://localhost:8080/"
        },
        "id": "Q_ZCgK-Obg3n",
        "outputId": "2370b749-f7f4-48e1-aeb2-55a6ac7a2b05"
      },
      "execution_count": 13,
      "outputs": [
        {
          "output_type": "execute_result",
          "data": {
            "text/plain": [
              "Japonya       80\n",
              "Çin          450\n",
              "Türkiye      150\n",
              "Hindistan    200\n",
              "dtype: int64"
            ]
          },
          "metadata": {},
          "execution_count": 13
        }
      ]
    },
    {
      "cell_type": "code",
      "source": [
        "sales_q2"
      ],
      "metadata": {
        "colab": {
          "base_uri": "https://localhost:8080/"
        },
        "id": "m8tL7ZYobiM1",
        "outputId": "d7fd74ea-f39e-468a-9c5d-c4bc872ba508"
      },
      "execution_count": 14,
      "outputs": [
        {
          "output_type": "execute_result",
          "data": {
            "text/plain": [
              "Japonya       90\n",
              "Çin          420\n",
              "Türkiye      230\n",
              "Hindistan    195\n",
              "dtype: int64"
            ]
          },
          "metadata": {},
          "execution_count": 14
        }
      ]
    },
    {
      "cell_type": "code",
      "source": [
        "sales_total=sales_q1+sales_q2\n",
        "sales_total"
      ],
      "metadata": {
        "colab": {
          "base_uri": "https://localhost:8080/"
        },
        "id": "1Xejw_cObkVg",
        "outputId": "c4469235-a0e7-444d-fdd0-d12c4c0c33bc"
      },
      "execution_count": 17,
      "outputs": [
        {
          "output_type": "execute_result",
          "data": {
            "text/plain": [
              "Japonya      170\n",
              "Çin          870\n",
              "Türkiye      380\n",
              "Hindistan    395\n",
              "dtype: int64"
            ]
          },
          "metadata": {},
          "execution_count": 17
        }
      ]
    },
    {
      "cell_type": "code",
      "source": [
        "sales_total.index"
      ],
      "metadata": {
        "colab": {
          "base_uri": "https://localhost:8080/"
        },
        "id": "2RExvAwQb3GM",
        "outputId": "f15dd953-054b-43ee-ae84-e8de6bc88a1c"
      },
      "execution_count": 18,
      "outputs": [
        {
          "output_type": "execute_result",
          "data": {
            "text/plain": [
              "Index(['Japonya', 'Çin', 'Türkiye', 'Hindistan'], dtype='object')"
            ]
          },
          "metadata": {},
          "execution_count": 18
        }
      ]
    },
    {
      "cell_type": "code",
      "source": [
        "sales_total.keys()"
      ],
      "metadata": {
        "colab": {
          "base_uri": "https://localhost:8080/"
        },
        "id": "BTRipfaicK1K",
        "outputId": "3b542398-a568-44e5-ed82-5d2cafec5c00"
      },
      "execution_count": 19,
      "outputs": [
        {
          "output_type": "execute_result",
          "data": {
            "text/plain": [
              "Index(['Japonya', 'Çin', 'Türkiye', 'Hindistan'], dtype='object')"
            ]
          },
          "metadata": {},
          "execution_count": 19
        }
      ]
    },
    {
      "cell_type": "code",
      "source": [
        "sales_total.values"
      ],
      "metadata": {
        "colab": {
          "base_uri": "https://localhost:8080/"
        },
        "id": "Fhyyz8w1fnnE",
        "outputId": "3eca8234-1449-417f-eaee-0e533aa41643"
      },
      "execution_count": 21,
      "outputs": [
        {
          "output_type": "execute_result",
          "data": {
            "text/plain": [
              "array([170, 870, 380, 395])"
            ]
          },
          "metadata": {},
          "execution_count": 21
        }
      ]
    },
    {
      "cell_type": "code",
      "source": [
        "sales_total * 2 "
      ],
      "metadata": {
        "colab": {
          "base_uri": "https://localhost:8080/"
        },
        "id": "XxpsP8FVfvXo",
        "outputId": "11976631-49d0-4ba8-e9f2-606408a01cff"
      },
      "execution_count": 22,
      "outputs": [
        {
          "output_type": "execute_result",
          "data": {
            "text/plain": [
              "Japonya       340\n",
              "Çin          1740\n",
              "Türkiye       760\n",
              "Hindistan     790\n",
              "dtype: int64"
            ]
          },
          "metadata": {},
          "execution_count": 22
        }
      ]
    },
    {
      "cell_type": "code",
      "source": [
        "sales_total / 10"
      ],
      "metadata": {
        "colab": {
          "base_uri": "https://localhost:8080/"
        },
        "id": "iQZqQiNof9VV",
        "outputId": "bf51248d-a6d9-4e81-82fd-3a1728635a93"
      },
      "execution_count": 23,
      "outputs": [
        {
          "output_type": "execute_result",
          "data": {
            "text/plain": [
              "Japonya      17.0\n",
              "Çin          87.0\n",
              "Türkiye      38.0\n",
              "Hindistan    39.5\n",
              "dtype: float64"
            ]
          },
          "metadata": {},
          "execution_count": 23
        }
      ]
    },
    {
      "cell_type": "code",
      "source": [
        "sales_q2 - sales_q1"
      ],
      "metadata": {
        "colab": {
          "base_uri": "https://localhost:8080/"
        },
        "id": "hOGT2cFxgEyx",
        "outputId": "f1bad8de-cc6c-4cf0-ebf1-37ab47a7388a"
      },
      "execution_count": 26,
      "outputs": [
        {
          "output_type": "execute_result",
          "data": {
            "text/plain": [
              "Japonya      10\n",
              "Çin         -30\n",
              "Türkiye      80\n",
              "Hindistan    -5\n",
              "dtype: int64"
            ]
          },
          "metadata": {},
          "execution_count": 26
        }
      ]
    },
    {
      "cell_type": "code",
      "source": [
        "q1 = {\n",
        "    'Japonya':80,\n",
        "    'Çin': 450,\n",
        "    'Hindistan':150,\n",
        "    'Amerika':200\n",
        "}\n",
        "q2 = {\n",
        "    'Brezilya':90,\n",
        "    'Çin': 420,\n",
        "    'Hindistan':230,\n",
        "    'Amerika':195\n",
        "}"
      ],
      "metadata": {
        "id": "poh3Kxj-gPJG"
      },
      "execution_count": 27,
      "outputs": []
    },
    {
      "cell_type": "code",
      "source": [
        "sales_q1 = pd.Series(q1)\n",
        "sales_q2 = pd.Series(q2)"
      ],
      "metadata": {
        "id": "cHlooesggxmI"
      },
      "execution_count": 28,
      "outputs": []
    },
    {
      "cell_type": "code",
      "source": [
        "sales_q1"
      ],
      "metadata": {
        "colab": {
          "base_uri": "https://localhost:8080/"
        },
        "id": "R_MPXWUZgyv8",
        "outputId": "7193354c-0c87-472a-dbda-42696f1ec8b8"
      },
      "execution_count": 29,
      "outputs": [
        {
          "output_type": "execute_result",
          "data": {
            "text/plain": [
              "Japonya       80\n",
              "Çin          450\n",
              "Hindistan    150\n",
              "Amerika      200\n",
              "dtype: int64"
            ]
          },
          "metadata": {},
          "execution_count": 29
        }
      ]
    },
    {
      "cell_type": "code",
      "source": [
        "sales_q2"
      ],
      "metadata": {
        "colab": {
          "base_uri": "https://localhost:8080/"
        },
        "id": "cA7UL6WHgzkM",
        "outputId": "6172e6cf-8b61-4285-9bea-946a2732c735"
      },
      "execution_count": 30,
      "outputs": [
        {
          "output_type": "execute_result",
          "data": {
            "text/plain": [
              "Brezilya      90\n",
              "Çin          420\n",
              "Hindistan    230\n",
              "Amerika      195\n",
              "dtype: int64"
            ]
          },
          "metadata": {},
          "execution_count": 30
        }
      ]
    },
    {
      "cell_type": "code",
      "source": [
        "sales_q1 + sales_q2"
      ],
      "metadata": {
        "colab": {
          "base_uri": "https://localhost:8080/"
        },
        "id": "fjcTXTrig0nJ",
        "outputId": "1a2c9be3-27aa-4caa-a35f-2a8441f425a8"
      },
      "execution_count": 31,
      "outputs": [
        {
          "output_type": "execute_result",
          "data": {
            "text/plain": [
              "Amerika      395.0\n",
              "Brezilya       NaN\n",
              "Hindistan    380.0\n",
              "Japonya        NaN\n",
              "Çin          870.0\n",
              "dtype: float64"
            ]
          },
          "metadata": {},
          "execution_count": 31
        }
      ]
    },
    {
      "cell_type": "code",
      "source": [
        "sales_q1.add(sales_q2, fill_value=0)"
      ],
      "metadata": {
        "colab": {
          "base_uri": "https://localhost:8080/"
        },
        "id": "lxZptEscg6y4",
        "outputId": "30addb23-dfba-4ef5-8495-c5e4a7bf343f"
      },
      "execution_count": 33,
      "outputs": [
        {
          "output_type": "execute_result",
          "data": {
            "text/plain": [
              "Amerika      395.0\n",
              "Brezilya      90.0\n",
              "Hindistan    380.0\n",
              "Japonya       80.0\n",
              "Çin          870.0\n",
              "dtype: float64"
            ]
          },
          "metadata": {},
          "execution_count": 33
        }
      ]
    },
    {
      "cell_type": "code",
      "source": [
        "sales_q1.dtype"
      ],
      "metadata": {
        "colab": {
          "base_uri": "https://localhost:8080/"
        },
        "id": "hSHqu6HohSoS",
        "outputId": "2d119afb-1670-4272-a4b2-b99dd6cbc1dd"
      },
      "execution_count": 34,
      "outputs": [
        {
          "output_type": "execute_result",
          "data": {
            "text/plain": [
              "dtype('int64')"
            ]
          },
          "metadata": {},
          "execution_count": 34
        }
      ]
    },
    {
      "cell_type": "code",
      "source": [
        "# Soru : \n",
        "# Fenerbahce 51 , Galatasaray 60 , Besiktas 48 , Trabzonspor 41 şeklinde league_2022 adında bir seri oluşturun.\n",
        "# Fenerbahce 73 , Galatasaray 68 , Besiktas 59 , Trabzonspor 81 şeklinde league_2021 adında bir seri oluşturun.\n",
        "# Fenerbahce 82 , Galatasaray 84 , Besiktas 84 , Trabzonspor 71 şeklinde league_2020 adında bir seri oluşturun.\n",
        "\n",
        "# Bu 4 takımın son 3 yılda topladığı toplam puanları karşılaştırabileceğiniz yeni bir seri oluşturun"
      ],
      "metadata": {
        "id": "UOUrU-JjhseW"
      },
      "execution_count": null,
      "outputs": []
    },
    {
      "cell_type": "code",
      "source": [
        "league_2022 = pd.Series({'Fenerbahce': 51 , 'Galatasaray': 60 , 'Besiktas': 48 , 'Trabzonspor': 41})\n",
        "league_2021 = pd.Series({'Fenerbahce': 73 , 'Galatasaray': 68 , 'Besiktas': 59 , 'Trabzonspor': 81})\n",
        "league_2020 = pd.Series({'Fenerbahce': 82 , 'Galatasaray': 84 , 'Besiktas': 84 , 'Trabzonspor': 71})\n",
        "league_2022 + league_2021 + league_2020"
      ],
      "metadata": {
        "colab": {
          "base_uri": "https://localhost:8080/"
        },
        "id": "NaF3lfpth4rB",
        "outputId": "368037af-e951-42fe-a00a-3dfb8b4bf05a"
      },
      "execution_count": 36,
      "outputs": [
        {
          "output_type": "execute_result",
          "data": {
            "text/plain": [
              "Fenerbahce     206\n",
              "Galatasaray    212\n",
              "Besiktas       191\n",
              "Trabzonspor    193\n",
              "dtype: int64"
            ]
          },
          "metadata": {},
          "execution_count": 36
        }
      ]
    },
    {
      "cell_type": "code",
      "source": [
        "#Done"
      ],
      "metadata": {
        "id": "N5jqMTX8icUA"
      },
      "execution_count": null,
      "outputs": []
    }
  ]
}