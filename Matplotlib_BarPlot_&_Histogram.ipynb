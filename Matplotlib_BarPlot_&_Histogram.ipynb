{
  "nbformat": 4,
  "nbformat_minor": 0,
  "metadata": {
    "colab": {
      "provenance": [],
      "authorship_tag": "ABX9TyPx79oTMfHVFa8gByBWR0im",
      "include_colab_link": true
    },
    "kernelspec": {
      "name": "python3",
      "display_name": "Python 3"
    },
    "language_info": {
      "name": "python"
    }
  },
  "cells": [
    {
      "cell_type": "markdown",
      "metadata": {
        "id": "view-in-github",
        "colab_type": "text"
      },
      "source": [
        "<a href=\"https://colab.research.google.com/github/hasanocal7/DS-Libs/blob/main/Matplotlib_BarPlot_%26_Histogram.ipynb\" target=\"_parent\"><img src=\"https://colab.research.google.com/assets/colab-badge.svg\" alt=\"Open In Colab\"/></a>"
      ]
    },
    {
      "cell_type": "code",
      "execution_count": 1,
      "metadata": {
        "id": "PcZiQ3T0gJc-"
      },
      "outputs": [],
      "source": [
        "import numpy as np\n",
        "import pandas as pd\n",
        "import matplotlib.pyplot as plt"
      ]
    },
    {
      "cell_type": "markdown",
      "source": [
        "# Sahte Veri Oluşturma"
      ],
      "metadata": {
        "id": "WCGYC4iBg5Re"
      }
    },
    {
      "cell_type": "code",
      "source": [
        "np.arange(2010,2021)"
      ],
      "metadata": {
        "colab": {
          "base_uri": "https://localhost:8080/"
        },
        "id": "HJfQtMttgPz_",
        "outputId": "a84babdb-7386-4bb6-8856-4ebe3b024b4c"
      },
      "execution_count": 2,
      "outputs": [
        {
          "output_type": "execute_result",
          "data": {
            "text/plain": [
              "array([2010, 2011, 2012, 2013, 2014, 2015, 2016, 2017, 2018, 2019, 2020])"
            ]
          },
          "metadata": {},
          "execution_count": 2
        }
      ]
    },
    {
      "cell_type": "code",
      "source": [
        "data = {\n",
        "    \"Yıl\": np.arange(2010,2021),\n",
        "    \"Satış\": np.random.randint(100,500,11),\n",
        "    \"Masraf\": np.random.randint(50,400,11)\n",
        "}\n",
        "\n",
        "df = pd.DataFrame(data)\n",
        "\n",
        "regions = [\"Kuzey\",\"Güney\",\"Doğu\",\"Batı\"]\n",
        "\n",
        "df[\"Bölge\"] = np.random.choice(regions,df.shape[0])\n",
        "\n",
        "df"
      ],
      "metadata": {
        "colab": {
          "base_uri": "https://localhost:8080/",
          "height": 394
        },
        "id": "zOQrT4xDgTaf",
        "outputId": "20144a51-cc6b-4803-a489-d1853b9a1e4d"
      },
      "execution_count": 5,
      "outputs": [
        {
          "output_type": "execute_result",
          "data": {
            "text/plain": [
              "     Yıl  Satış  Masraf  Bölge\n",
              "0   2010    264      62  Kuzey\n",
              "1   2011    437     381   Batı\n",
              "2   2012    376     318   Batı\n",
              "3   2013    242     227  Kuzey\n",
              "4   2014    190     286  Kuzey\n",
              "5   2015    286     144  Güney\n",
              "6   2016    492     220   Batı\n",
              "7   2017    207     243  Kuzey\n",
              "8   2018    350     164   Doğu\n",
              "9   2019    379     394  Güney\n",
              "10  2020    372     398  Güney"
            ],
            "text/html": [
              "\n",
              "  <div id=\"df-02fac3e5-67cd-4048-8ec0-f36edbb0bf23\">\n",
              "    <div class=\"colab-df-container\">\n",
              "      <div>\n",
              "<style scoped>\n",
              "    .dataframe tbody tr th:only-of-type {\n",
              "        vertical-align: middle;\n",
              "    }\n",
              "\n",
              "    .dataframe tbody tr th {\n",
              "        vertical-align: top;\n",
              "    }\n",
              "\n",
              "    .dataframe thead th {\n",
              "        text-align: right;\n",
              "    }\n",
              "</style>\n",
              "<table border=\"1\" class=\"dataframe\">\n",
              "  <thead>\n",
              "    <tr style=\"text-align: right;\">\n",
              "      <th></th>\n",
              "      <th>Yıl</th>\n",
              "      <th>Satış</th>\n",
              "      <th>Masraf</th>\n",
              "      <th>Bölge</th>\n",
              "    </tr>\n",
              "  </thead>\n",
              "  <tbody>\n",
              "    <tr>\n",
              "      <th>0</th>\n",
              "      <td>2010</td>\n",
              "      <td>264</td>\n",
              "      <td>62</td>\n",
              "      <td>Kuzey</td>\n",
              "    </tr>\n",
              "    <tr>\n",
              "      <th>1</th>\n",
              "      <td>2011</td>\n",
              "      <td>437</td>\n",
              "      <td>381</td>\n",
              "      <td>Batı</td>\n",
              "    </tr>\n",
              "    <tr>\n",
              "      <th>2</th>\n",
              "      <td>2012</td>\n",
              "      <td>376</td>\n",
              "      <td>318</td>\n",
              "      <td>Batı</td>\n",
              "    </tr>\n",
              "    <tr>\n",
              "      <th>3</th>\n",
              "      <td>2013</td>\n",
              "      <td>242</td>\n",
              "      <td>227</td>\n",
              "      <td>Kuzey</td>\n",
              "    </tr>\n",
              "    <tr>\n",
              "      <th>4</th>\n",
              "      <td>2014</td>\n",
              "      <td>190</td>\n",
              "      <td>286</td>\n",
              "      <td>Kuzey</td>\n",
              "    </tr>\n",
              "    <tr>\n",
              "      <th>5</th>\n",
              "      <td>2015</td>\n",
              "      <td>286</td>\n",
              "      <td>144</td>\n",
              "      <td>Güney</td>\n",
              "    </tr>\n",
              "    <tr>\n",
              "      <th>6</th>\n",
              "      <td>2016</td>\n",
              "      <td>492</td>\n",
              "      <td>220</td>\n",
              "      <td>Batı</td>\n",
              "    </tr>\n",
              "    <tr>\n",
              "      <th>7</th>\n",
              "      <td>2017</td>\n",
              "      <td>207</td>\n",
              "      <td>243</td>\n",
              "      <td>Kuzey</td>\n",
              "    </tr>\n",
              "    <tr>\n",
              "      <th>8</th>\n",
              "      <td>2018</td>\n",
              "      <td>350</td>\n",
              "      <td>164</td>\n",
              "      <td>Doğu</td>\n",
              "    </tr>\n",
              "    <tr>\n",
              "      <th>9</th>\n",
              "      <td>2019</td>\n",
              "      <td>379</td>\n",
              "      <td>394</td>\n",
              "      <td>Güney</td>\n",
              "    </tr>\n",
              "    <tr>\n",
              "      <th>10</th>\n",
              "      <td>2020</td>\n",
              "      <td>372</td>\n",
              "      <td>398</td>\n",
              "      <td>Güney</td>\n",
              "    </tr>\n",
              "  </tbody>\n",
              "</table>\n",
              "</div>\n",
              "      <button class=\"colab-df-convert\" onclick=\"convertToInteractive('df-02fac3e5-67cd-4048-8ec0-f36edbb0bf23')\"\n",
              "              title=\"Convert this dataframe to an interactive table.\"\n",
              "              style=\"display:none;\">\n",
              "        \n",
              "  <svg xmlns=\"http://www.w3.org/2000/svg\" height=\"24px\"viewBox=\"0 0 24 24\"\n",
              "       width=\"24px\">\n",
              "    <path d=\"M0 0h24v24H0V0z\" fill=\"none\"/>\n",
              "    <path d=\"M18.56 5.44l.94 2.06.94-2.06 2.06-.94-2.06-.94-.94-2.06-.94 2.06-2.06.94zm-11 1L8.5 8.5l.94-2.06 2.06-.94-2.06-.94L8.5 2.5l-.94 2.06-2.06.94zm10 10l.94 2.06.94-2.06 2.06-.94-2.06-.94-.94-2.06-.94 2.06-2.06.94z\"/><path d=\"M17.41 7.96l-1.37-1.37c-.4-.4-.92-.59-1.43-.59-.52 0-1.04.2-1.43.59L10.3 9.45l-7.72 7.72c-.78.78-.78 2.05 0 2.83L4 21.41c.39.39.9.59 1.41.59.51 0 1.02-.2 1.41-.59l7.78-7.78 2.81-2.81c.8-.78.8-2.07 0-2.86zM5.41 20L4 18.59l7.72-7.72 1.47 1.35L5.41 20z\"/>\n",
              "  </svg>\n",
              "      </button>\n",
              "      \n",
              "  <style>\n",
              "    .colab-df-container {\n",
              "      display:flex;\n",
              "      flex-wrap:wrap;\n",
              "      gap: 12px;\n",
              "    }\n",
              "\n",
              "    .colab-df-convert {\n",
              "      background-color: #E8F0FE;\n",
              "      border: none;\n",
              "      border-radius: 50%;\n",
              "      cursor: pointer;\n",
              "      display: none;\n",
              "      fill: #1967D2;\n",
              "      height: 32px;\n",
              "      padding: 0 0 0 0;\n",
              "      width: 32px;\n",
              "    }\n",
              "\n",
              "    .colab-df-convert:hover {\n",
              "      background-color: #E2EBFA;\n",
              "      box-shadow: 0px 1px 2px rgba(60, 64, 67, 0.3), 0px 1px 3px 1px rgba(60, 64, 67, 0.15);\n",
              "      fill: #174EA6;\n",
              "    }\n",
              "\n",
              "    [theme=dark] .colab-df-convert {\n",
              "      background-color: #3B4455;\n",
              "      fill: #D2E3FC;\n",
              "    }\n",
              "\n",
              "    [theme=dark] .colab-df-convert:hover {\n",
              "      background-color: #434B5C;\n",
              "      box-shadow: 0px 1px 3px 1px rgba(0, 0, 0, 0.15);\n",
              "      filter: drop-shadow(0px 1px 2px rgba(0, 0, 0, 0.3));\n",
              "      fill: #FFFFFF;\n",
              "    }\n",
              "  </style>\n",
              "\n",
              "      <script>\n",
              "        const buttonEl =\n",
              "          document.querySelector('#df-02fac3e5-67cd-4048-8ec0-f36edbb0bf23 button.colab-df-convert');\n",
              "        buttonEl.style.display =\n",
              "          google.colab.kernel.accessAllowed ? 'block' : 'none';\n",
              "\n",
              "        async function convertToInteractive(key) {\n",
              "          const element = document.querySelector('#df-02fac3e5-67cd-4048-8ec0-f36edbb0bf23');\n",
              "          const dataTable =\n",
              "            await google.colab.kernel.invokeFunction('convertToInteractive',\n",
              "                                                     [key], {});\n",
              "          if (!dataTable) return;\n",
              "\n",
              "          const docLinkHtml = 'Like what you see? Visit the ' +\n",
              "            '<a target=\"_blank\" href=https://colab.research.google.com/notebooks/data_table.ipynb>data table notebook</a>'\n",
              "            + ' to learn more about interactive tables.';\n",
              "          element.innerHTML = '';\n",
              "          dataTable['output_type'] = 'display_data';\n",
              "          await google.colab.output.renderOutput(dataTable, element);\n",
              "          const docLink = document.createElement('div');\n",
              "          docLink.innerHTML = docLinkHtml;\n",
              "          element.appendChild(docLink);\n",
              "        }\n",
              "      </script>\n",
              "    </div>\n",
              "  </div>\n",
              "  "
            ]
          },
          "metadata": {},
          "execution_count": 5
        }
      ]
    },
    {
      "cell_type": "code",
      "source": [
        "plt.plot(df[\"Yıl\"], df[\"Satış\"], \n",
        "         color=\"black\", \n",
        "         label = \"Satışlar\", \n",
        "         linestyle = \"--\", \n",
        "         marker = \"o\", \n",
        "         markerfacecolor=\"black\")\n",
        "\n",
        "# Soru: Yıl ve Masrafı aynı plota ekleyin (marker = x)\n",
        "\n",
        "plt.plot(df[\"Yıl\"], df[\"Masraf\"], \n",
        "         color=\"green\", \n",
        "         label = \"Masraflar\", \n",
        "         linestyle = \"-\", \n",
        "         marker = \"x\", \n",
        "         markerfacecolor=\"green\")\n",
        "\n",
        "plt.title(\"Yıllık Satışlar ve Masraflar\", fontsize = 18)\n",
        "plt.xlabel(\"Yıllar\", fontsize = 16)\n",
        "plt.ylabel(\"TL\", fontsize = 16)\n",
        "plt.legend()\n",
        "plt.show()"
      ],
      "metadata": {
        "colab": {
          "base_uri": "https://localhost:8080/",
          "height": 483
        },
        "id": "sJkM_cOwgwp4",
        "outputId": "ca95fcf8-5291-4458-96f5-d5ffe4424105"
      },
      "execution_count": 19,
      "outputs": [
        {
          "output_type": "display_data",
          "data": {
            "text/plain": [
              "<Figure size 640x480 with 1 Axes>"
            ],
            "image/png": "[encoded data removed]"
          },
          "metadata": {}
        }
      ]
    },
    {
      "cell_type": "markdown",
      "source": [
        "# plt.bar()\n",
        "\n",
        "\n",
        "\n",
        "*   `plt.bar()`, bir sütun grafiği çizer.\n",
        "*   Farklı kategorilerin değerleri arasındaki ilişkileri gösterir."
      ],
      "metadata": {
        "id": "p1a8USfdkRMT"
      }
    },
    {
      "cell_type": "code",
      "source": [
        "categories = [\"A\", \"B\", \"C\", \"D\", \"E\"]\n",
        "values = [35, 20, 45, 51, 10]\n",
        "\n",
        "plt.bar(categories, values,\n",
        "        color = \"green\",\n",
        "        width = 0.5,\n",
        "        edgecolor= \"y\",\n",
        "        linewidth = 5)"
      ],
      "metadata": {
        "colab": {
          "base_uri": "https://localhost:8080/",
          "height": 447
        },
        "id": "ywFOuLNohnKy",
        "outputId": "2b440ffe-14e6-4a6f-d2af-b1387a514daf"
      },
      "execution_count": 28,
      "outputs": [
        {
          "output_type": "execute_result",
          "data": {
            "text/plain": [
              "<BarContainer object of 5 artists>"
            ]
          },
          "metadata": {},
          "execution_count": 28
        },
        {
          "output_type": "display_data",
          "data": {
            "text/plain": [
              "<Figure size 640x480 with 1 Axes>"
            ],
            "image/png": "[encoded data removed]"
          },
          "metadata": {}
        }
      ]
    },
    {
      "cell_type": "markdown",
      "source": [
        "### Soru: Aşağıda verilen veri kümesindeki şehir ve nüfus değerlerini kullanarak bir barplot çizelim."
      ],
      "metadata": {
        "id": "wkT0d7rgmVE3"
      }
    },
    {
      "cell_type": "code",
      "source": [
        "data = { 'Şehir': ['Ankara', 'İstanbul', 'İzmir', 'Bursa', 'Antalya'], \n",
        "         'Nüfus': [5503985, 15029231, 4367251, 3056120, 2444535] }\n",
        "\n",
        "plt.bar(data[\"Şehir\"], data[\"Nüfus\"],\n",
        "        color = \"green\",\n",
        "        width = 0.5,\n",
        "        edgecolor= \"y\",\n",
        "        linewidth = 3)\n",
        "\n",
        "#  Scientific Notation\n",
        "\n",
        "plt.xlabel(\"Şehirler\", fontsize = 15)\n",
        "plt.ylabel(\"Nüfus\", fontsize = 15)\n",
        "\n",
        "plt.show()"
      ],
      "metadata": {
        "colab": {
          "base_uri": "https://localhost:8080/",
          "height": 471
        },
        "id": "5ucfcdoXktZV",
        "outputId": "a287320e-55a2-4563-b987-33eff76e6730"
      },
      "execution_count": 35,
      "outputs": [
        {
          "output_type": "display_data",
          "data": {
            "text/plain": [
              "<Figure size 640x480 with 1 Axes>"
            ],
            "image/png": "[encoded data removed]"
          },
          "metadata": {}
        }
      ]
    },
    {
      "cell_type": "code",
      "source": [
        "sales_by_region = df.groupby(\"Bölge\")[\"Satış\"].sum()\n",
        "sales_by_region"
      ],
      "metadata": {
        "colab": {
          "base_uri": "https://localhost:8080/"
        },
        "id": "v0JXRG5hmyiU",
        "outputId": "dc2a08c3-aa8b-4f16-a8ba-89e98c638486"
      },
      "execution_count": 38,
      "outputs": [
        {
          "output_type": "execute_result",
          "data": {
            "text/plain": [
              "Bölge\n",
              "Batı     1305\n",
              "Doğu      350\n",
              "Güney    1037\n",
              "Kuzey     903\n",
              "Name: Satış, dtype: int64"
            ]
          },
          "metadata": {},
          "execution_count": 38
        }
      ]
    },
    {
      "cell_type": "code",
      "source": [
        "plt.bar(sales_by_region.index, sales_by_region.values,color=\"Orange\")\n",
        "\n",
        "plt.xlabel(\"Bölgeler\")\n",
        "plt.ylabel(\"Satışlar\")\n",
        "plt.title(\"Bölge Bazlı Satış Oranları\")\n",
        "\n",
        "plt.show()"
      ],
      "metadata": {
        "colab": {
          "base_uri": "https://localhost:8080/",
          "height": 472
        },
        "id": "F8-y8XuDqzk1",
        "outputId": "6744758a-13a9-4af8-f67f-9282332c3866"
      },
      "execution_count": 44,
      "outputs": [
        {
          "output_type": "display_data",
          "data": {
            "text/plain": [
              "<Figure size 640x480 with 1 Axes>"
            ],
            "image/png": "[encoded data removed]"
          },
          "metadata": {}
        }
      ]
    },
    {
      "cell_type": "code",
      "source": [
        "df"
      ],
      "metadata": {
        "colab": {
          "base_uri": "https://localhost:8080/",
          "height": 394
        },
        "id": "MwdpFiSVrP9X",
        "outputId": "61099969-b113-4dc0-e447-e9e993715919"
      },
      "execution_count": 45,
      "outputs": [
        {
          "output_type": "execute_result",
          "data": {
            "text/plain": [
              "     Yıl  Satış  Masraf  Bölge\n",
              "0   2010    264      62  Kuzey\n",
              "1   2011    437     381   Batı\n",
              "2   2012    376     318   Batı\n",
              "3   2013    242     227  Kuzey\n",
              "4   2014    190     286  Kuzey\n",
              "5   2015    286     144  Güney\n",
              "6   2016    492     220   Batı\n",
              "7   2017    207     243  Kuzey\n",
              "8   2018    350     164   Doğu\n",
              "9   2019    379     394  Güney\n",
              "10  2020    372     398  Güney"
            ],
            "text/html": [
              "\n",
              "  <div id=\"df-ca959b19-b452-4bec-b2ba-f482bf021a8e\">\n",
              "    <div class=\"colab-df-container\">\n",
              "      <div>\n",
              "<style scoped>\n",
              "    .dataframe tbody tr th:only-of-type {\n",
              "        vertical-align: middle;\n",
              "    }\n",
              "\n",
              "    .dataframe tbody tr th {\n",
              "        vertical-align: top;\n",
              "    }\n",
              "\n",
              "    .dataframe thead th {\n",
              "        text-align: right;\n",
              "    }\n",
              "</style>\n",
              "<table border=\"1\" class=\"dataframe\">\n",
              "  <thead>\n",
              "    <tr style=\"text-align: right;\">\n",
              "      <th></th>\n",
              "      <th>Yıl</th>\n",
              "      <th>Satış</th>\n",
              "      <th>Masraf</th>\n",
              "      <th>Bölge</th>\n",
              "    </tr>\n",
              "  </thead>\n",
              "  <tbody>\n",
              "    <tr>\n",
              "      <th>0</th>\n",
              "      <td>2010</td>\n",
              "      <td>264</td>\n",
              "      <td>62</td>\n",
              "      <td>Kuzey</td>\n",
              "    </tr>\n",
              "    <tr>\n",
              "      <th>1</th>\n",
              "      <td>2011</td>\n",
              "      <td>437</td>\n",
              "      <td>381</td>\n",
              "      <td>Batı</td>\n",
              "    </tr>\n",
              "    <tr>\n",
              "      <th>2</th>\n",
              "      <td>2012</td>\n",
              "      <td>376</td>\n",
              "      <td>318</td>\n",
              "      <td>Batı</td>\n",
              "    </tr>\n",
              "    <tr>\n",
              "      <th>3</th>\n",
              "      <td>2013</td>\n",
              "      <td>242</td>\n",
              "      <td>227</td>\n",
              "      <td>Kuzey</td>\n",
              "    </tr>\n",
              "    <tr>\n",
              "      <th>4</th>\n",
              "      <td>2014</td>\n",
              "      <td>190</td>\n",
              "      <td>286</td>\n",
              "      <td>Kuzey</td>\n",
              "    </tr>\n",
              "    <tr>\n",
              "      <th>5</th>\n",
              "      <td>2015</td>\n",
              "      <td>286</td>\n",
              "      <td>144</td>\n",
              "      <td>Güney</td>\n",
              "    </tr>\n",
              "    <tr>\n",
              "      <th>6</th>\n",
              "      <td>2016</td>\n",
              "      <td>492</td>\n",
              "      <td>220</td>\n",
              "      <td>Batı</td>\n",
              "    </tr>\n",
              "    <tr>\n",
              "      <th>7</th>\n",
              "      <td>2017</td>\n",
              "      <td>207</td>\n",
              "      <td>243</td>\n",
              "      <td>Kuzey</td>\n",
              "    </tr>\n",
              "    <tr>\n",
              "      <th>8</th>\n",
              "      <td>2018</td>\n",
              "      <td>350</td>\n",
              "      <td>164</td>\n",
              "      <td>Doğu</td>\n",
              "    </tr>\n",
              "    <tr>\n",
              "      <th>9</th>\n",
              "      <td>2019</td>\n",
              "      <td>379</td>\n",
              "      <td>394</td>\n",
              "      <td>Güney</td>\n",
              "    </tr>\n",
              "    <tr>\n",
              "      <th>10</th>\n",
              "      <td>2020</td>\n",
              "      <td>372</td>\n",
              "      <td>398</td>\n",
              "      <td>Güney</td>\n",
              "    </tr>\n",
              "  </tbody>\n",
              "</table>\n",
              "</div>\n",
              "      <button class=\"colab-df-convert\" onclick=\"convertToInteractive('df-ca959b19-b452-4bec-b2ba-f482bf021a8e')\"\n",
              "              title=\"Convert this dataframe to an interactive table.\"\n",
              "              style=\"display:none;\">\n",
              "        \n",
              "  <svg xmlns=\"http://www.w3.org/2000/svg\" height=\"24px\"viewBox=\"0 0 24 24\"\n",
              "       width=\"24px\">\n",
              "    <path d=\"M0 0h24v24H0V0z\" fill=\"none\"/>\n",
              "    <path d=\"M18.56 5.44l.94 2.06.94-2.06 2.06-.94-2.06-.94-.94-2.06-.94 2.06-2.06.94zm-11 1L8.5 8.5l.94-2.06 2.06-.94-2.06-.94L8.5 2.5l-.94 2.06-2.06.94zm10 10l.94 2.06.94-2.06 2.06-.94-2.06-.94-.94-2.06-.94 2.06-2.06.94z\"/><path d=\"M17.41 7.96l-1.37-1.37c-.4-.4-.92-.59-1.43-.59-.52 0-1.04.2-1.43.59L10.3 9.45l-7.72 7.72c-.78.78-.78 2.05 0 2.83L4 21.41c.39.39.9.59 1.41.59.51 0 1.02-.2 1.41-.59l7.78-7.78 2.81-2.81c.8-.78.8-2.07 0-2.86zM5.41 20L4 18.59l7.72-7.72 1.47 1.35L5.41 20z\"/>\n",
              "  </svg>\n",
              "      </button>\n",
              "      \n",
              "  <style>\n",
              "    .colab-df-container {\n",
              "      display:flex;\n",
              "      flex-wrap:wrap;\n",
              "      gap: 12px;\n",
              "    }\n",
              "\n",
              "    .colab-df-convert {\n",
              "      background-color: #E8F0FE;\n",
              "      border: none;\n",
              "      border-radius: 50%;\n",
              "      cursor: pointer;\n",
              "      display: none;\n",
              "      fill: #1967D2;\n",
              "      height: 32px;\n",
              "      padding: 0 0 0 0;\n",
              "      width: 32px;\n",
              "    }\n",
              "\n",
              "    .colab-df-convert:hover {\n",
              "      background-color: #E2EBFA;\n",
              "      box-shadow: 0px 1px 2px rgba(60, 64, 67, 0.3), 0px 1px 3px 1px rgba(60, 64, 67, 0.15);\n",
              "      fill: #174EA6;\n",
              "    }\n",
              "\n",
              "    [theme=dark] .colab-df-convert {\n",
              "      background-color: #3B4455;\n",
              "      fill: #D2E3FC;\n",
              "    }\n",
              "\n",
              "    [theme=dark] .colab-df-convert:hover {\n",
              "      background-color: #434B5C;\n",
              "      box-shadow: 0px 1px 3px 1px rgba(0, 0, 0, 0.15);\n",
              "      filter: drop-shadow(0px 1px 2px rgba(0, 0, 0, 0.3));\n",
              "      fill: #FFFFFF;\n",
              "    }\n",
              "  </style>\n",
              "\n",
              "      <script>\n",
              "        const buttonEl =\n",
              "          document.querySelector('#df-ca959b19-b452-4bec-b2ba-f482bf021a8e button.colab-df-convert');\n",
              "        buttonEl.style.display =\n",
              "          google.colab.kernel.accessAllowed ? 'block' : 'none';\n",
              "\n",
              "        async function convertToInteractive(key) {\n",
              "          const element = document.querySelector('#df-ca959b19-b452-4bec-b2ba-f482bf021a8e');\n",
              "          const dataTable =\n",
              "            await google.colab.kernel.invokeFunction('convertToInteractive',\n",
              "                                                     [key], {});\n",
              "          if (!dataTable) return;\n",
              "\n",
              "          const docLinkHtml = 'Like what you see? Visit the ' +\n",
              "            '<a target=\"_blank\" href=https://colab.research.google.com/notebooks/data_table.ipynb>data table notebook</a>'\n",
              "            + ' to learn more about interactive tables.';\n",
              "          element.innerHTML = '';\n",
              "          dataTable['output_type'] = 'display_data';\n",
              "          await google.colab.output.renderOutput(dataTable, element);\n",
              "          const docLink = document.createElement('div');\n",
              "          docLink.innerHTML = docLinkHtml;\n",
              "          element.appendChild(docLink);\n",
              "        }\n",
              "      </script>\n",
              "    </div>\n",
              "  </div>\n",
              "  "
            ]
          },
          "metadata": {},
          "execution_count": 45
        }
      ]
    },
    {
      "cell_type": "markdown",
      "source": [
        "# Histogram Mantığı"
      ],
      "metadata": {
        "id": "TXzd3RkbsFW0"
      }
    },
    {
      "cell_type": "code",
      "source": [
        "# İki fonksiyon var\n",
        "# pd.cut(): bin arası mesafe eşit\n",
        "# bin : nümerik datanın grubu olarak düşünülebilir.\n",
        "# pd.qcut(): bin arası mesafe eşit değil\n",
        "sales_bins = pd.cut(df[\"Satış\"], bins=10)\n",
        "sales_bins.value_counts()"
      ],
      "metadata": {
        "colab": {
          "base_uri": "https://localhost:8080/"
        },
        "id": "1q4cwvNxr0CH",
        "outputId": "b1413a7d-066c-41a0-b920-5a1647bc4785"
      },
      "execution_count": 55,
      "outputs": [
        {
          "output_type": "execute_result",
          "data": {
            "text/plain": [
              "(371.2, 401.4]      3\n",
              "(189.698, 220.2]    2\n",
              "(220.2, 250.4]      1\n",
              "(250.4, 280.6]      1\n",
              "(280.6, 310.8]      1\n",
              "(341.0, 371.2]      1\n",
              "(431.6, 461.8]      1\n",
              "(461.8, 492.0]      1\n",
              "(310.8, 341.0]      0\n",
              "(401.4, 431.6]      0\n",
              "Name: Satış, dtype: int64"
            ]
          },
          "metadata": {},
          "execution_count": 55
        }
      ]
    },
    {
      "cell_type": "code",
      "source": [
        "sales_qs = pd.qcut(df[\"Satış\"], q=10)\n",
        "sales_qs.value_counts()"
      ],
      "metadata": {
        "colab": {
          "base_uri": "https://localhost:8080/"
        },
        "id": "xFO7f8OvsOEB",
        "outputId": "021ff9eb-0020-4e01-f467-1859059dbf1a"
      },
      "execution_count": 56,
      "outputs": [
        {
          "output_type": "execute_result",
          "data": {
            "text/plain": [
              "(189.999, 207.0]    2\n",
              "(207.0, 242.0]      1\n",
              "(242.0, 264.0]      1\n",
              "(264.0, 286.0]      1\n",
              "(286.0, 350.0]      1\n",
              "(350.0, 372.0]      1\n",
              "(372.0, 376.0]      1\n",
              "(376.0, 379.0]      1\n",
              "(379.0, 437.0]      1\n",
              "(437.0, 492.0]      1\n",
              "Name: Satış, dtype: int64"
            ]
          },
          "metadata": {},
          "execution_count": 56
        }
      ]
    },
    {
      "cell_type": "code",
      "source": [
        "bin_counts = sales_bins.value_counts().sort_index()"
      ],
      "metadata": {
        "id": "mB05T6tps5nq"
      },
      "execution_count": 68,
      "outputs": []
    },
    {
      "cell_type": "code",
      "source": [
        "bin_counts.index"
      ],
      "metadata": {
        "colab": {
          "base_uri": "https://localhost:8080/"
        },
        "id": "cMgphJfktNJa",
        "outputId": "f8a6024b-4d5a-4d71-9d7f-ae1942b4fa61"
      },
      "execution_count": 69,
      "outputs": [
        {
          "output_type": "execute_result",
          "data": {
            "text/plain": [
              "CategoricalIndex([(189.698, 220.2],   (220.2, 250.4],   (250.4, 280.6],\n",
              "                    (280.6, 310.8],   (310.8, 341.0],   (341.0, 371.2],\n",
              "                    (371.2, 401.4],   (401.4, 431.6],   (431.6, 461.8],\n",
              "                    (461.8, 492.0]],\n",
              "                 categories=[(189.698, 220.2], (220.2, 250.4], (250.4, 280.6], (280.6, 310.8], (310.8, 341.0], (341.0, 371.2], (371.2, 401.4], (401.4, 431.6], ...], ordered=True, dtype='category')"
            ]
          },
          "metadata": {},
          "execution_count": 69
        }
      ]
    },
    {
      "cell_type": "code",
      "source": [
        "bin_means = [(interval.left + interval.right) / 2 for interval in bin_counts.index]"
      ],
      "metadata": {
        "id": "G2Wbh8hMtvVb"
      },
      "execution_count": 70,
      "outputs": []
    },
    {
      "cell_type": "code",
      "source": [
        "plt.bar(bin_means, bin_counts.values,\n",
        "        width = 20)"
      ],
      "metadata": {
        "colab": {
          "base_uri": "https://localhost:8080/",
          "height": 447
        },
        "id": "ceYBLz0ruOgs",
        "outputId": "4d59467e-675a-4349-81c1-3a8e5572f657"
      },
      "execution_count": 72,
      "outputs": [
        {
          "output_type": "execute_result",
          "data": {
            "text/plain": [
              "<BarContainer object of 10 artists>"
            ]
          },
          "metadata": {},
          "execution_count": 72
        },
        {
          "output_type": "display_data",
          "data": {
            "text/plain": [
              "<Figure size 640x480 with 1 Axes>"
            ],
            "image/png": "[encoded data removed]"
          },
          "metadata": {}
        }
      ]
    },
    {
      "cell_type": "markdown",
      "source": [
        "# plt.hist()\n",
        "Nümerik değerlerinizin dapğılımı sağlaya bir grafiktir, histogram çier.\n",
        "\n",
        "### Parametreler\n",
        "\n",
        "- bin: grup dağılımını belirler.\n",
        "- range: binlerin alt ve üst limitini belirler.\n",
        "- density: True olursa grfik yoğunluk belirler, false frekans belirler.\n"
      ],
      "metadata": {
        "id": "eKQC49V7ujyk"
      }
    },
    {
      "cell_type": "code",
      "source": [
        "plt.hist(df[\"Satış\"], bins = 10)"
      ],
      "metadata": {
        "colab": {
          "base_uri": "https://localhost:8080/",
          "height": 499
        },
        "id": "oec1y6gHudv9",
        "outputId": "96b7f8ca-f9c8-4e94-f523-12b285e78ead"
      },
      "execution_count": 74,
      "outputs": [
        {
          "output_type": "execute_result",
          "data": {
            "text/plain": [
              "(array([2., 1., 1., 1., 0., 1., 3., 0., 1., 1.]),\n",
              " array([190. , 220.2, 250.4, 280.6, 310.8, 341. , 371.2, 401.4, 431.6,\n",
              "        461.8, 492. ]),\n",
              " <BarContainer object of 10 artists>)"
            ]
          },
          "metadata": {},
          "execution_count": 74
        },
        {
          "output_type": "display_data",
          "data": {
            "text/plain": [
              "<Figure size 640x480 with 1 Axes>"
            ],
            "image/png": "[encoded data removed]"
          },
          "metadata": {}
        }
      ]
    },
    {
      "cell_type": "markdown",
      "source": [
        "## Soru: plt.hist() kullanrak NumPy ile random veri oluşturup plt.hist ile frekansı görselleştirin.\n",
        "- np.random.randn faydalanabilirsiniz.\n",
        "- bins = 30 olsun\n",
        "- renk vb. farketmez."
      ],
      "metadata": {
        "id": "Y2XcxvQpvTJW"
      }
    },
    {
      "cell_type": "code",
      "source": [
        "plt.hist(np.random.randn(1000), bins = 30, color = \"Orange\", label = \"Random Normal Dağılım\", range = (-5,5))\n",
        "plt.legend()\n",
        "plt.show()"
      ],
      "metadata": {
        "colab": {
          "base_uri": "https://localhost:8080/",
          "height": 430
        },
        "id": "OufCg7OxvMty",
        "outputId": "fc81f01e-01b6-4b58-e90e-1e24caba6251"
      },
      "execution_count": 80,
      "outputs": [
        {
          "output_type": "display_data",
          "data": {
            "text/plain": [
              "<Figure size 640x480 with 1 Axes>"
            ],
            "image/png": "[encoded data removed]"
          },
          "metadata": {}
        }
      ]
    },
    {
      "cell_type": "code",
      "source": [
        "plt.hist(np.random.randn(1000), bins = 30, color = \"Orange\", label = \"Random Normal Dağılım\", range = (-5,5), density = True)\n",
        "plt.legend()\n",
        "plt.show()"
      ],
      "metadata": {
        "colab": {
          "base_uri": "https://localhost:8080/",
          "height": 430
        },
        "id": "k5-FD_rwv1AB",
        "outputId": "0cc7c0df-c554-4847-af3a-df016e84138c"
      },
      "execution_count": 81,
      "outputs": [
        {
          "output_type": "display_data",
          "data": {
            "text/plain": [
              "<Figure size 640x480 with 1 Axes>"
            ],
            "image/png": "[encoded data removed]"
          },
          "metadata": {}
        }
      ]
    },
    {
      "cell_type": "code",
      "source": [],
      "metadata": {
        "id": "IPgQHtjAw-gO"
      },
      "execution_count": null,
      "outputs": []
    }
  ]
}