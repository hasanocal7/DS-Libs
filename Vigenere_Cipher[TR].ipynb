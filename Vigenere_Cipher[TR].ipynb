{
  "nbformat": 4,
  "nbformat_minor": 0,
  "metadata": {
    "colab": {
      "provenance": [],
      "authorship_tag": "ABX9TyPtR75OFyhK5PEiLQiLLBap",
      "include_colab_link": true
    },
    "kernelspec": {
      "name": "python3",
      "display_name": "Python 3"
    },
    "language_info": {
      "name": "python"
    }
  },
  "cells": [
    {
      "cell_type": "markdown",
      "metadata": {
        "id": "view-in-github",
        "colab_type": "text"
      },
      "source": [
        "<a href=\"https://colab.research.google.com/github/hasanocal7/DS-Libs/blob/main/Vigenere_Cipher%5BTR%5D.ipynb\" target=\"_parent\"><img src=\"https://colab.research.google.com/assets/colab-badge.svg\" alt=\"Open In Colab\"/></a>"
      ]
    },
    {
      "cell_type": "code",
      "source": [
        "import numpy as np"
      ],
      "metadata": {
        "id": "wPJHklrZaxaJ"
      },
      "execution_count": null,
      "outputs": []
    },
    {
      "cell_type": "code",
      "execution_count": null,
      "metadata": {
        "id": "mxes0W3QatYO"
      },
      "outputs": [],
      "source": [
        "tr_alp = \"ABCÇDEFGĞHIİJKLMNOÖPRSŞTUÜVYZ\""
      ]
    },
    {
      "cell_type": "code",
      "source": [
        "def vigenere_e(word, key):\n",
        "  new_word = \"\"\n",
        "  for i in range(len(word)):\n",
        "    result = tr_alp.find(word[i]) + tr_alp.find(key[i])\n",
        "    new_word += tr_alp[np.mod(result,29)]\n",
        "  return new_word\n",
        "\n",
        "def vigenere_d(word, key):\n",
        "  new_word = \"\"\n",
        "  for i in range(len(word)):\n",
        "    result = tr_alp.find(word[i]) - tr_alp.find(key[i])\n",
        "    new_word += tr_alp[np.mod(result,29)]\n",
        "  return new_word"
      ],
      "metadata": {
        "id": "tMEHf1cYa07c"
      },
      "execution_count": null,
      "outputs": []
    },
    {
      "cell_type": "code",
      "source": [
        "vigenere_e(\"TELEVİZYON\", \"BİLGİSAYAR\")"
      ],
      "metadata": {
        "colab": {
          "base_uri": "https://localhost:8080/",
          "height": 35
        },
        "id": "QUXrEY2RcGqn",
        "outputId": "f0bd0996-1218-41fb-ec08-b45a0561370a"
      },
      "execution_count": null,
      "outputs": [
        {
          "output_type": "execute_result",
          "data": {
            "text/plain": [
              "'UNZJĞÇZÜOG'"
            ],
            "application/vnd.google.colaboratory.intrinsic+json": {
              "type": "string"
            }
          },
          "metadata": {},
          "execution_count": 12
        }
      ]
    },
    {
      "cell_type": "code",
      "source": [
        "vigenere_d(\"UNZJĞÇZÜOG\", \"BİLGİSAYAR\")"
      ],
      "metadata": {
        "id": "6Tvnv0RicMxd",
        "colab": {
          "base_uri": "https://localhost:8080/",
          "height": 35
        },
        "outputId": "d2729b2b-5da9-4163-c917-55ad01a740d8"
      },
      "execution_count": null,
      "outputs": [
        {
          "output_type": "execute_result",
          "data": {
            "text/plain": [
              "'TELEVİZYON'"
            ],
            "application/vnd.google.colaboratory.intrinsic+json": {
              "type": "string"
            }
          },
          "metadata": {},
          "execution_count": 13
        }
      ]
    }
  ]
}