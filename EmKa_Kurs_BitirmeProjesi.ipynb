{
  "cells": [
    {
      "cell_type": "markdown",
      "metadata": {
        "id": "view-in-github",
        "colab_type": "text"
      },
      "source": [
        "<a href=\"https://colab.research.google.com/github/hasanocal7/DS-Libs/blob/main/EmKa_Kurs_BitirmeProjesi.ipynb\" target=\"_parent\"><img src=\"https://colab.research.google.com/assets/colab-badge.svg\" alt=\"Open In Colab\"/></a>"
      ]
    },
    {
      "cell_type": "markdown",
      "metadata": {
        "id": "6TjVHlk84bov"
      },
      "source": [
        "# EmKa Akademi Bitime Projesi\n",
        "## Ön tanıtım\n",
        "\n",
        "İnternetten bir film izlemek istediğinizi hayal edin. İnternetteki film puanlamalarına ne kadar güvenebilirsiniz ? *Özellikle* reytingi gösteren aynı şirket sinema bileti satarak da para kazanıyorsa. Sizce de derecelendirme konusunda insanları yanlış yönlendirmesi söz konusu olabilir mi ?\n",
        "\n",
        "### Hedef:\n",
        "\n",
        "**Amacınız aşağıdaki görevleri tamamlayarak *Fandango* websitesinin ratingler konusunda bir yanlış yapıp yapmadığını emin bir şekilde ispatlamak**\n",
        "\n",
        "---\n",
        "---\n",
        "\n",
        "** Bu da bir sorulu analizdir. Aşağıda sorulan sorulara cevap vermeye ve çıktılara yakın bir çıktı elde etmeye çalışmanız gerekmektedir. **\n",
        "\n",
        "---\n",
        "----\n",
        "\n",
        "## Part One: Datayı Anlamak"
      ]
    },
    {
      "cell_type": "markdown",
      "metadata": {
        "id": "k0IaqTF_4boy"
      },
      "source": [
        "### The Data\n",
        "\n",
        "Elimizde biri şüphelenilen *Fandango* sitsine ait yıldızlar ve film derecelendirmeleri içeriyor. Diğeri ise diğer film sitelerindeki film derecelendirmeleri için veriler içeren toplam 2 csv dosyası vardır.\n",
        "\n",
        "#### all_sites_scores.csv"
      ]
    },
    {
      "cell_type": "markdown",
      "metadata": {
        "id": "JcS0Bw0x4boz"
      },
      "source": [
        "-----\n",
        "\n",
        "`all_sites_scores.csv` Bütün benzeri sitelerin açıklama kullanıcı puanlamaları bilgilerini ve özellikle 'Rotten Tomatoes(Çürük Elma) adlı bir filme ait başka sitelerdeki puanları içermektedir.'"
      ]
    },
    {
      "cell_type": "markdown",
      "metadata": {
        "id": "EhjgZQMQ4bo0"
      },
      "source": [
        "Column | Definition\n",
        "--- | -----------\n",
        "FILM | The film in question\n",
        "RottenTomatoes | The Rotten Tomatoes Tomatometer score  for the film\n",
        "RottenTomatoes_User | The Rotten Tomatoes user score for the film\n",
        "Metacritic | The Metacritic critic score for the film\n",
        "Metacritic_User | The Metacritic user score for the film\n",
        "IMDB | The IMDb user score for the film\n",
        "Metacritic_user_vote_count | The number of user votes the film had on Metacritic\n",
        "IMDB_user_vote_count | The number of user votes the film had on IMDb"
      ]
    },
    {
      "cell_type": "markdown",
      "metadata": {
        "id": "GGFqRIvX4bo0"
      },
      "source": [
        "----\n",
        "----\n",
        "\n",
        "#### fandango_scape.csv"
      ]
    },
    {
      "cell_type": "markdown",
      "metadata": {
        "id": "Sw7wuwxT4bo1"
      },
      "source": [
        "`fandango_scrape.csv` Fandango sitesine ait 538 film içermektedir\n",
        "\n",
        "Column | Definiton\n",
        "--- | ---------\n",
        "FILM | The movie\n",
        "STARS | Number of stars presented on Fandango.com\n",
        "RATING |  The Fandango ratingValue for the film, as pulled from the HTML of each page. This is the actual average score the movie obtained.\n",
        "VOTES | number of people who had reviewed the film at the time we pulled it."
      ]
    },
    {
      "cell_type": "markdown",
      "metadata": {
        "id": "3jMgW17F4bo2"
      },
      "source": [
        "----\n",
        "\n",
        "**TASK: Analizinde işinize yarayacağını düşündüğünüz kütüphanaleri import edin:**"
      ]
    },
    {
      "cell_type": "code",
      "execution_count": null,
      "metadata": {
        "id": "pSzPL9N_4bo3"
      },
      "outputs": [],
      "source": [
        "# Buraya import ediyorsunuz!"
      ]
    },
    {
      "cell_type": "code",
      "execution_count": null,
      "metadata": {
        "id": "TbscRI0m4bo4"
      },
      "outputs": [],
      "source": [
        "import numpy as np\n",
        "import pandas as pd\n",
        "import matplotlib.pyplot as plt\n",
        "import seaborn as sns"
      ]
    },
    {
      "cell_type": "markdown",
      "metadata": {
        "id": "_i2ch8Cu4bo4"
      },
      "source": [
        "## Part Two: Fandango sitesini keşfetmeye çalışalım. Gerçek kullanıcı derecelendirmelerini ve site puanlarını yavaştan karşılaştıralım\n",
        "\n",
        "Fandangonun filmleri puanlama ve derecelendirme konusunda taraflı davranıp davranmadığını analiz etmeye başlayalım !\n",
        "\n",
        "**TASK: Aşağıdaki fandango_scrape.csv dosyasını çalıştırın**"
      ]
    },
    {
      "cell_type": "code",
      "execution_count": null,
      "metadata": {
        "id": "QJXp1JHp4bo5"
      },
      "outputs": [],
      "source": [
        "fandango = pd.read_csv(\"fandango_scrape.csv\")"
      ]
    },
    {
      "cell_type": "markdown",
      "metadata": {
        "id": "lrJZdi5T4bo6"
      },
      "source": [
        "**TASK: Fandango verilerini keşfetmeye çalışın. Aşağıdakine benzer çıktılar elde edin.**\n",
        "\n",
        "# Uyarı ! çıktının tam üstünü kullanmayın. Bir üst hücre satırında çalışmalar yapın."
      ]
    },
    {
      "cell_type": "code",
      "execution_count": null,
      "metadata": {
        "colab": {
          "base_uri": "https://localhost:8080/",
          "height": 206
        },
        "id": "uOYUB_Le4bo6",
        "outputId": "fc3eba8b-bccd-402d-d4b9-a2a707204fdd"
      },
      "outputs": [
        {
          "output_type": "execute_result",
          "data": {
            "text/plain": [
              "                          FILM  STARS  RATING  VOTES\n",
              "0  Fifty Shades of Grey (2015)    4.0     3.9  34846\n",
              "1        Jurassic World (2015)    4.5     4.5  34390\n",
              "2       American Sniper (2015)    5.0     4.8  34085\n",
              "3             Furious 7 (2015)    5.0     4.8  33538\n",
              "4            Inside Out (2015)    4.5     4.5  15749"
            ],
            "text/html": [
              "\n",
              "  <div id=\"df-2d36d6f1-9661-400d-b946-b09d7f80952e\">\n",
              "    <div class=\"colab-df-container\">\n",
              "      <div>\n",
              "<style scoped>\n",
              "    .dataframe tbody tr th:only-of-type {\n",
              "        vertical-align: middle;\n",
              "    }\n",
              "\n",
              "    .dataframe tbody tr th {\n",
              "        vertical-align: top;\n",
              "    }\n",
              "\n",
              "    .dataframe thead th {\n",
              "        text-align: right;\n",
              "    }\n",
              "</style>\n",
              "<table border=\"1\" class=\"dataframe\">\n",
              "  <thead>\n",
              "    <tr style=\"text-align: right;\">\n",
              "      <th></th>\n",
              "      <th>FILM</th>\n",
              "      <th>STARS</th>\n",
              "      <th>RATING</th>\n",
              "      <th>VOTES</th>\n",
              "    </tr>\n",
              "  </thead>\n",
              "  <tbody>\n",
              "    <tr>\n",
              "      <th>0</th>\n",
              "      <td>Fifty Shades of Grey (2015)</td>\n",
              "      <td>4.0</td>\n",
              "      <td>3.9</td>\n",
              "      <td>34846</td>\n",
              "    </tr>\n",
              "    <tr>\n",
              "      <th>1</th>\n",
              "      <td>Jurassic World (2015)</td>\n",
              "      <td>4.5</td>\n",
              "      <td>4.5</td>\n",
              "      <td>34390</td>\n",
              "    </tr>\n",
              "    <tr>\n",
              "      <th>2</th>\n",
              "      <td>American Sniper (2015)</td>\n",
              "      <td>5.0</td>\n",
              "      <td>4.8</td>\n",
              "      <td>34085</td>\n",
              "    </tr>\n",
              "    <tr>\n",
              "      <th>3</th>\n",
              "      <td>Furious 7 (2015)</td>\n",
              "      <td>5.0</td>\n",
              "      <td>4.8</td>\n",
              "      <td>33538</td>\n",
              "    </tr>\n",
              "    <tr>\n",
              "      <th>4</th>\n",
              "      <td>Inside Out (2015)</td>\n",
              "      <td>4.5</td>\n",
              "      <td>4.5</td>\n",
              "      <td>15749</td>\n",
              "    </tr>\n",
              "  </tbody>\n",
              "</table>\n",
              "</div>\n",
              "      <button class=\"colab-df-convert\" onclick=\"convertToInteractive('df-2d36d6f1-9661-400d-b946-b09d7f80952e')\"\n",
              "              title=\"Convert this dataframe to an interactive table.\"\n",
              "              style=\"display:none;\">\n",
              "        \n",
              "  <svg xmlns=\"http://www.w3.org/2000/svg\" height=\"24px\"viewBox=\"0 0 24 24\"\n",
              "       width=\"24px\">\n",
              "    <path d=\"M0 0h24v24H0V0z\" fill=\"none\"/>\n",
              "    <path d=\"M18.56 5.44l.94 2.06.94-2.06 2.06-.94-2.06-.94-.94-2.06-.94 2.06-2.06.94zm-11 1L8.5 8.5l.94-2.06 2.06-.94-2.06-.94L8.5 2.5l-.94 2.06-2.06.94zm10 10l.94 2.06.94-2.06 2.06-.94-2.06-.94-.94-2.06-.94 2.06-2.06.94z\"/><path d=\"M17.41 7.96l-1.37-1.37c-.4-.4-.92-.59-1.43-.59-.52 0-1.04.2-1.43.59L10.3 9.45l-7.72 7.72c-.78.78-.78 2.05 0 2.83L4 21.41c.39.39.9.59 1.41.59.51 0 1.02-.2 1.41-.59l7.78-7.78 2.81-2.81c.8-.78.8-2.07 0-2.86zM5.41 20L4 18.59l7.72-7.72 1.47 1.35L5.41 20z\"/>\n",
              "  </svg>\n",
              "      </button>\n",
              "      \n",
              "  <style>\n",
              "    .colab-df-container {\n",
              "      display:flex;\n",
              "      flex-wrap:wrap;\n",
              "      gap: 12px;\n",
              "    }\n",
              "\n",
              "    .colab-df-convert {\n",
              "      background-color: #E8F0FE;\n",
              "      border: none;\n",
              "      border-radius: 50%;\n",
              "      cursor: pointer;\n",
              "      display: none;\n",
              "      fill: #1967D2;\n",
              "      height: 32px;\n",
              "      padding: 0 0 0 0;\n",
              "      width: 32px;\n",
              "    }\n",
              "\n",
              "    .colab-df-convert:hover {\n",
              "      background-color: #E2EBFA;\n",
              "      box-shadow: 0px 1px 2px rgba(60, 64, 67, 0.3), 0px 1px 3px 1px rgba(60, 64, 67, 0.15);\n",
              "      fill: #174EA6;\n",
              "    }\n",
              "\n",
              "    [theme=dark] .colab-df-convert {\n",
              "      background-color: #3B4455;\n",
              "      fill: #D2E3FC;\n",
              "    }\n",
              "\n",
              "    [theme=dark] .colab-df-convert:hover {\n",
              "      background-color: #434B5C;\n",
              "      box-shadow: 0px 1px 3px 1px rgba(0, 0, 0, 0.15);\n",
              "      filter: drop-shadow(0px 1px 2px rgba(0, 0, 0, 0.3));\n",
              "      fill: #FFFFFF;\n",
              "    }\n",
              "  </style>\n",
              "\n",
              "      <script>\n",
              "        const buttonEl =\n",
              "          document.querySelector('#df-2d36d6f1-9661-400d-b946-b09d7f80952e button.colab-df-convert');\n",
              "        buttonEl.style.display =\n",
              "          google.colab.kernel.accessAllowed ? 'block' : 'none';\n",
              "\n",
              "        async function convertToInteractive(key) {\n",
              "          const element = document.querySelector('#df-2d36d6f1-9661-400d-b946-b09d7f80952e');\n",
              "          const dataTable =\n",
              "            await google.colab.kernel.invokeFunction('convertToInteractive',\n",
              "                                                     [key], {});\n",
              "          if (!dataTable) return;\n",
              "\n",
              "          const docLinkHtml = 'Like what you see? Visit the ' +\n",
              "            '<a target=\"_blank\" href=https://colab.research.google.com/notebooks/data_table.ipynb>data table notebook</a>'\n",
              "            + ' to learn more about interactive tables.';\n",
              "          element.innerHTML = '';\n",
              "          dataTable['output_type'] = 'display_data';\n",
              "          await google.colab.output.renderOutput(dataTable, element);\n",
              "          const docLink = document.createElement('div');\n",
              "          docLink.innerHTML = docLinkHtml;\n",
              "          element.appendChild(docLink);\n",
              "        }\n",
              "      </script>\n",
              "    </div>\n",
              "  </div>\n",
              "  "
            ]
          },
          "metadata": {},
          "execution_count": 159
        }
      ],
      "source": [
        "# Buraya kodlar yazın\n",
        "fandango.head()"
      ]
    },
    {
      "cell_type": "code",
      "execution_count": null,
      "metadata": {
        "id": "t9cn2GcW4bo7"
      },
      "outputs": [],
      "source": [
        "# Buraya kod yazmayın !"
      ]
    },
    {
      "cell_type": "code",
      "source": [
        "fandango.info()"
      ],
      "metadata": {
        "colab": {
          "base_uri": "https://localhost:8080/"
        },
        "id": "adumeUqA5EBb",
        "outputId": "e2cf99fb-5f16-487c-dcd1-853f25803b76"
      },
      "execution_count": null,
      "outputs": [
        {
          "output_type": "stream",
          "name": "stdout",
          "text": [
            "<class 'pandas.core.frame.DataFrame'>\n",
            "RangeIndex: 504 entries, 0 to 503\n",
            "Data columns (total 4 columns):\n",
            " #   Column  Non-Null Count  Dtype  \n",
            "---  ------  --------------  -----  \n",
            " 0   FILM    504 non-null    object \n",
            " 1   STARS   504 non-null    float64\n",
            " 2   RATING  504 non-null    float64\n",
            " 3   VOTES   504 non-null    int64  \n",
            "dtypes: float64(2), int64(1), object(1)\n",
            "memory usage: 15.9+ KB\n"
          ]
        }
      ]
    },
    {
      "cell_type": "code",
      "execution_count": null,
      "metadata": {
        "id": "wkBmzXkj4bo8"
      },
      "outputs": [],
      "source": [
        "# Buraya kod yazmayın, üstte yeni bir kod hücresi ekleyip oraya kodlar yazıp aşağıdaki çıktıyı almaya çalışın."
      ]
    },
    {
      "cell_type": "code",
      "source": [
        "fandango.describe()"
      ],
      "metadata": {
        "colab": {
          "base_uri": "https://localhost:8080/",
          "height": 300
        },
        "id": "N1FUbH3O5I1f",
        "outputId": "5418ab3e-13b1-4844-e6f4-96262cc57d53"
      },
      "execution_count": null,
      "outputs": [
        {
          "output_type": "execute_result",
          "data": {
            "text/plain": [
              "            STARS      RATING         VOTES\n",
              "count  504.000000  504.000000    504.000000\n",
              "mean     3.558532    3.375794   1147.863095\n",
              "std      1.563133    1.491223   3830.583136\n",
              "min      0.000000    0.000000      0.000000\n",
              "25%      3.500000    3.100000      3.000000\n",
              "50%      4.000000    3.800000     18.500000\n",
              "75%      4.500000    4.300000    189.750000\n",
              "max      5.000000    5.000000  34846.000000"
            ],
            "text/html": [
              "\n",
              "  <div id=\"df-e2210ced-fdfc-447c-a2bf-ca34448dfd14\">\n",
              "    <div class=\"colab-df-container\">\n",
              "      <div>\n",
              "<style scoped>\n",
              "    .dataframe tbody tr th:only-of-type {\n",
              "        vertical-align: middle;\n",
              "    }\n",
              "\n",
              "    .dataframe tbody tr th {\n",
              "        vertical-align: top;\n",
              "    }\n",
              "\n",
              "    .dataframe thead th {\n",
              "        text-align: right;\n",
              "    }\n",
              "</style>\n",
              "<table border=\"1\" class=\"dataframe\">\n",
              "  <thead>\n",
              "    <tr style=\"text-align: right;\">\n",
              "      <th></th>\n",
              "      <th>STARS</th>\n",
              "      <th>RATING</th>\n",
              "      <th>VOTES</th>\n",
              "    </tr>\n",
              "  </thead>\n",
              "  <tbody>\n",
              "    <tr>\n",
              "      <th>count</th>\n",
              "      <td>504.000000</td>\n",
              "      <td>504.000000</td>\n",
              "      <td>504.000000</td>\n",
              "    </tr>\n",
              "    <tr>\n",
              "      <th>mean</th>\n",
              "      <td>3.558532</td>\n",
              "      <td>3.375794</td>\n",
              "      <td>1147.863095</td>\n",
              "    </tr>\n",
              "    <tr>\n",
              "      <th>std</th>\n",
              "      <td>1.563133</td>\n",
              "      <td>1.491223</td>\n",
              "      <td>3830.583136</td>\n",
              "    </tr>\n",
              "    <tr>\n",
              "      <th>min</th>\n",
              "      <td>0.000000</td>\n",
              "      <td>0.000000</td>\n",
              "      <td>0.000000</td>\n",
              "    </tr>\n",
              "    <tr>\n",
              "      <th>25%</th>\n",
              "      <td>3.500000</td>\n",
              "      <td>3.100000</td>\n",
              "      <td>3.000000</td>\n",
              "    </tr>\n",
              "    <tr>\n",
              "      <th>50%</th>\n",
              "      <td>4.000000</td>\n",
              "      <td>3.800000</td>\n",
              "      <td>18.500000</td>\n",
              "    </tr>\n",
              "    <tr>\n",
              "      <th>75%</th>\n",
              "      <td>4.500000</td>\n",
              "      <td>4.300000</td>\n",
              "      <td>189.750000</td>\n",
              "    </tr>\n",
              "    <tr>\n",
              "      <th>max</th>\n",
              "      <td>5.000000</td>\n",
              "      <td>5.000000</td>\n",
              "      <td>34846.000000</td>\n",
              "    </tr>\n",
              "  </tbody>\n",
              "</table>\n",
              "</div>\n",
              "      <button class=\"colab-df-convert\" onclick=\"convertToInteractive('df-e2210ced-fdfc-447c-a2bf-ca34448dfd14')\"\n",
              "              title=\"Convert this dataframe to an interactive table.\"\n",
              "              style=\"display:none;\">\n",
              "        \n",
              "  <svg xmlns=\"http://www.w3.org/2000/svg\" height=\"24px\"viewBox=\"0 0 24 24\"\n",
              "       width=\"24px\">\n",
              "    <path d=\"M0 0h24v24H0V0z\" fill=\"none\"/>\n",
              "    <path d=\"M18.56 5.44l.94 2.06.94-2.06 2.06-.94-2.06-.94-.94-2.06-.94 2.06-2.06.94zm-11 1L8.5 8.5l.94-2.06 2.06-.94-2.06-.94L8.5 2.5l-.94 2.06-2.06.94zm10 10l.94 2.06.94-2.06 2.06-.94-2.06-.94-.94-2.06-.94 2.06-2.06.94z\"/><path d=\"M17.41 7.96l-1.37-1.37c-.4-.4-.92-.59-1.43-.59-.52 0-1.04.2-1.43.59L10.3 9.45l-7.72 7.72c-.78.78-.78 2.05 0 2.83L4 21.41c.39.39.9.59 1.41.59.51 0 1.02-.2 1.41-.59l7.78-7.78 2.81-2.81c.8-.78.8-2.07 0-2.86zM5.41 20L4 18.59l7.72-7.72 1.47 1.35L5.41 20z\"/>\n",
              "  </svg>\n",
              "      </button>\n",
              "      \n",
              "  <style>\n",
              "    .colab-df-container {\n",
              "      display:flex;\n",
              "      flex-wrap:wrap;\n",
              "      gap: 12px;\n",
              "    }\n",
              "\n",
              "    .colab-df-convert {\n",
              "      background-color: #E8F0FE;\n",
              "      border: none;\n",
              "      border-radius: 50%;\n",
              "      cursor: pointer;\n",
              "      display: none;\n",
              "      fill: #1967D2;\n",
              "      height: 32px;\n",
              "      padding: 0 0 0 0;\n",
              "      width: 32px;\n",
              "    }\n",
              "\n",
              "    .colab-df-convert:hover {\n",
              "      background-color: #E2EBFA;\n",
              "      box-shadow: 0px 1px 2px rgba(60, 64, 67, 0.3), 0px 1px 3px 1px rgba(60, 64, 67, 0.15);\n",
              "      fill: #174EA6;\n",
              "    }\n",
              "\n",
              "    [theme=dark] .colab-df-convert {\n",
              "      background-color: #3B4455;\n",
              "      fill: #D2E3FC;\n",
              "    }\n",
              "\n",
              "    [theme=dark] .colab-df-convert:hover {\n",
              "      background-color: #434B5C;\n",
              "      box-shadow: 0px 1px 3px 1px rgba(0, 0, 0, 0.15);\n",
              "      filter: drop-shadow(0px 1px 2px rgba(0, 0, 0, 0.3));\n",
              "      fill: #FFFFFF;\n",
              "    }\n",
              "  </style>\n",
              "\n",
              "      <script>\n",
              "        const buttonEl =\n",
              "          document.querySelector('#df-e2210ced-fdfc-447c-a2bf-ca34448dfd14 button.colab-df-convert');\n",
              "        buttonEl.style.display =\n",
              "          google.colab.kernel.accessAllowed ? 'block' : 'none';\n",
              "\n",
              "        async function convertToInteractive(key) {\n",
              "          const element = document.querySelector('#df-e2210ced-fdfc-447c-a2bf-ca34448dfd14');\n",
              "          const dataTable =\n",
              "            await google.colab.kernel.invokeFunction('convertToInteractive',\n",
              "                                                     [key], {});\n",
              "          if (!dataTable) return;\n",
              "\n",
              "          const docLinkHtml = 'Like what you see? Visit the ' +\n",
              "            '<a target=\"_blank\" href=https://colab.research.google.com/notebooks/data_table.ipynb>data table notebook</a>'\n",
              "            + ' to learn more about interactive tables.';\n",
              "          element.innerHTML = '';\n",
              "          dataTable['output_type'] = 'display_data';\n",
              "          await google.colab.output.renderOutput(dataTable, element);\n",
              "          const docLink = document.createElement('div');\n",
              "          docLink.innerHTML = docLinkHtml;\n",
              "          element.appendChild(docLink);\n",
              "        }\n",
              "      </script>\n",
              "    </div>\n",
              "  </div>\n",
              "  "
            ]
          },
          "metadata": {},
          "execution_count": 163
        }
      ]
    },
    {
      "cell_type": "code",
      "execution_count": null,
      "metadata": {
        "id": "2WSOV2Qj4bo9"
      },
      "outputs": [],
      "source": [
        "# Buraya kod yazmayın, üstte yeni bir kod hücresi ekleyip oraya kodlar yazıp aşağıdaki çıktıyı almaya çalışın."
      ]
    },
    {
      "cell_type": "markdown",
      "metadata": {
        "id": "mv2eujqd4bo9"
      },
      "source": [
        "**TASK: Verimizdeki filmlere ait votes ile rating arasındaki ilişkiyi keşfedelim. Derecelendirme ve oylar arasındaki ilişkiyi gösteren bir scatterplot grafiği oluşturun. Görsel stil eklemeler tamamen size kalmış**"
      ]
    },
    {
      "cell_type": "code",
      "execution_count": null,
      "metadata": {
        "colab": {
          "base_uri": "https://localhost:8080/",
          "height": 564
        },
        "id": "9UZASQqx4bo9",
        "outputId": "b0b38c3e-70d6-40ae-9861-76e175fa2875"
      },
      "outputs": [
        {
          "output_type": "display_data",
          "data": {
            "text/plain": [
              "<Figure size 1400x600 with 1 Axes>"
            ],
            "image/png": "[encoded data removed]"
          },
          "metadata": {}
        }
      ],
      "source": [
        "# Buraya kod yazın\n",
        "plt.figure(figsize = (14,6))\n",
        "sns.scatterplot(fandango,\n",
        "                x = \"RATING\",\n",
        "                y = \"VOTES\")\n",
        "plt.title(\"Ratinglere göre oylar\")\n",
        "plt.show()"
      ]
    },
    {
      "cell_type": "code",
      "execution_count": null,
      "metadata": {
        "id": "Ej7GyGaR4bo-"
      },
      "outputs": [],
      "source": []
    },
    {
      "cell_type": "markdown",
      "metadata": {
        "id": "haluev0F4bo-"
      },
      "source": [
        "**TASK: Bütün columnlar arasındaki ilişkiye bakın**"
      ]
    },
    {
      "cell_type": "code",
      "execution_count": null,
      "metadata": {
        "colab": {
          "base_uri": "https://localhost:8080/",
          "height": 143
        },
        "id": "z3jtlJjT4bo-",
        "outputId": "09594f3d-4238-4dd6-b882-06584aa2fb48"
      },
      "outputs": [
        {
          "output_type": "execute_result",
          "data": {
            "text/plain": [
              "           STARS    RATING     VOTES\n",
              "STARS   1.000000  0.994696  0.164218\n",
              "RATING  0.994696  1.000000  0.163764\n",
              "VOTES   0.164218  0.163764  1.000000"
            ],
            "text/html": [
              "\n",
              "  <div id=\"df-188cf6d0-3598-4927-9d4c-d101671a8588\">\n",
              "    <div class=\"colab-df-container\">\n",
              "      <div>\n",
              "<style scoped>\n",
              "    .dataframe tbody tr th:only-of-type {\n",
              "        vertical-align: middle;\n",
              "    }\n",
              "\n",
              "    .dataframe tbody tr th {\n",
              "        vertical-align: top;\n",
              "    }\n",
              "\n",
              "    .dataframe thead th {\n",
              "        text-align: right;\n",
              "    }\n",
              "</style>\n",
              "<table border=\"1\" class=\"dataframe\">\n",
              "  <thead>\n",
              "    <tr style=\"text-align: right;\">\n",
              "      <th></th>\n",
              "      <th>STARS</th>\n",
              "      <th>RATING</th>\n",
              "      <th>VOTES</th>\n",
              "    </tr>\n",
              "  </thead>\n",
              "  <tbody>\n",
              "    <tr>\n",
              "      <th>STARS</th>\n",
              "      <td>1.000000</td>\n",
              "      <td>0.994696</td>\n",
              "      <td>0.164218</td>\n",
              "    </tr>\n",
              "    <tr>\n",
              "      <th>RATING</th>\n",
              "      <td>0.994696</td>\n",
              "      <td>1.000000</td>\n",
              "      <td>0.163764</td>\n",
              "    </tr>\n",
              "    <tr>\n",
              "      <th>VOTES</th>\n",
              "      <td>0.164218</td>\n",
              "      <td>0.163764</td>\n",
              "      <td>1.000000</td>\n",
              "    </tr>\n",
              "  </tbody>\n",
              "</table>\n",
              "</div>\n",
              "      <button class=\"colab-df-convert\" onclick=\"convertToInteractive('df-188cf6d0-3598-4927-9d4c-d101671a8588')\"\n",
              "              title=\"Convert this dataframe to an interactive table.\"\n",
              "              style=\"display:none;\">\n",
              "        \n",
              "  <svg xmlns=\"http://www.w3.org/2000/svg\" height=\"24px\"viewBox=\"0 0 24 24\"\n",
              "       width=\"24px\">\n",
              "    <path d=\"M0 0h24v24H0V0z\" fill=\"none\"/>\n",
              "    <path d=\"M18.56 5.44l.94 2.06.94-2.06 2.06-.94-2.06-.94-.94-2.06-.94 2.06-2.06.94zm-11 1L8.5 8.5l.94-2.06 2.06-.94-2.06-.94L8.5 2.5l-.94 2.06-2.06.94zm10 10l.94 2.06.94-2.06 2.06-.94-2.06-.94-.94-2.06-.94 2.06-2.06.94z\"/><path d=\"M17.41 7.96l-1.37-1.37c-.4-.4-.92-.59-1.43-.59-.52 0-1.04.2-1.43.59L10.3 9.45l-7.72 7.72c-.78.78-.78 2.05 0 2.83L4 21.41c.39.39.9.59 1.41.59.51 0 1.02-.2 1.41-.59l7.78-7.78 2.81-2.81c.8-.78.8-2.07 0-2.86zM5.41 20L4 18.59l7.72-7.72 1.47 1.35L5.41 20z\"/>\n",
              "  </svg>\n",
              "      </button>\n",
              "      \n",
              "  <style>\n",
              "    .colab-df-container {\n",
              "      display:flex;\n",
              "      flex-wrap:wrap;\n",
              "      gap: 12px;\n",
              "    }\n",
              "\n",
              "    .colab-df-convert {\n",
              "      background-color: #E8F0FE;\n",
              "      border: none;\n",
              "      border-radius: 50%;\n",
              "      cursor: pointer;\n",
              "      display: none;\n",
              "      fill: #1967D2;\n",
              "      height: 32px;\n",
              "      padding: 0 0 0 0;\n",
              "      width: 32px;\n",
              "    }\n",
              "\n",
              "    .colab-df-convert:hover {\n",
              "      background-color: #E2EBFA;\n",
              "      box-shadow: 0px 1px 2px rgba(60, 64, 67, 0.3), 0px 1px 3px 1px rgba(60, 64, 67, 0.15);\n",
              "      fill: #174EA6;\n",
              "    }\n",
              "\n",
              "    [theme=dark] .colab-df-convert {\n",
              "      background-color: #3B4455;\n",
              "      fill: #D2E3FC;\n",
              "    }\n",
              "\n",
              "    [theme=dark] .colab-df-convert:hover {\n",
              "      background-color: #434B5C;\n",
              "      box-shadow: 0px 1px 3px 1px rgba(0, 0, 0, 0.15);\n",
              "      filter: drop-shadow(0px 1px 2px rgba(0, 0, 0, 0.3));\n",
              "      fill: #FFFFFF;\n",
              "    }\n",
              "  </style>\n",
              "\n",
              "      <script>\n",
              "        const buttonEl =\n",
              "          document.querySelector('#df-188cf6d0-3598-4927-9d4c-d101671a8588 button.colab-df-convert');\n",
              "        buttonEl.style.display =\n",
              "          google.colab.kernel.accessAllowed ? 'block' : 'none';\n",
              "\n",
              "        async function convertToInteractive(key) {\n",
              "          const element = document.querySelector('#df-188cf6d0-3598-4927-9d4c-d101671a8588');\n",
              "          const dataTable =\n",
              "            await google.colab.kernel.invokeFunction('convertToInteractive',\n",
              "                                                     [key], {});\n",
              "          if (!dataTable) return;\n",
              "\n",
              "          const docLinkHtml = 'Like what you see? Visit the ' +\n",
              "            '<a target=\"_blank\" href=https://colab.research.google.com/notebooks/data_table.ipynb>data table notebook</a>'\n",
              "            + ' to learn more about interactive tables.';\n",
              "          element.innerHTML = '';\n",
              "          dataTable['output_type'] = 'display_data';\n",
              "          await google.colab.output.renderOutput(dataTable, element);\n",
              "          const docLink = document.createElement('div');\n",
              "          docLink.innerHTML = docLinkHtml;\n",
              "          element.appendChild(docLink);\n",
              "        }\n",
              "      </script>\n",
              "    </div>\n",
              "  </div>\n",
              "  "
            ]
          },
          "metadata": {},
          "execution_count": 166
        }
      ],
      "source": [
        "# Buraya kod yazın.\n",
        "fandango.corr(numeric_only=True)"
      ]
    },
    {
      "cell_type": "code",
      "execution_count": null,
      "metadata": {
        "id": "ctpuEult4bo_"
      },
      "outputs": [],
      "source": []
    },
    {
      "cell_type": "markdown",
      "metadata": {
        "id": "f947EVSY4bo_"
      },
      "source": [
        "**TASK: Bir şekilde 'Yıl' sütunu ekleyin**"
      ]
    },
    {
      "cell_type": "code",
      "execution_count": null,
      "metadata": {
        "colab": {
          "base_uri": "https://localhost:8080/",
          "height": 423
        },
        "id": "yTWbIhcG4bo_",
        "outputId": "8e148c32-9477-4340-f09a-f747f1e3449f"
      },
      "outputs": [
        {
          "output_type": "execute_result",
          "data": {
            "text/plain": [
              "                                     FILM  STARS  RATING  VOTES  YEAR\n",
              "0             Fifty Shades of Grey (2015)    4.0     3.9  34846  2015\n",
              "1                   Jurassic World (2015)    4.5     4.5  34390  2015\n",
              "2                  American Sniper (2015)    5.0     4.8  34085  2015\n",
              "3                        Furious 7 (2015)    5.0     4.8  33538  2015\n",
              "4                       Inside Out (2015)    4.5     4.5  15749  2015\n",
              "..                                    ...    ...     ...    ...   ...\n",
              "499                      Valiyavan (2015)    0.0     0.0      0  2015\n",
              "500            WWE SummerSlam 2015 (2015)    0.0     0.0      0  2015\n",
              "501       Yagavarayinum Naa Kaakka (2015)    0.0     0.0      0  2015\n",
              "502  Yesterday, Today and Tomorrow (1964)    0.0     0.0      0  1964\n",
              "503                         Zarafa (2012)    0.0     0.0      0  2012\n",
              "\n",
              "[504 rows x 5 columns]"
            ],
            "text/html": [
              "\n",
              "  <div id=\"df-0dc1f318-c324-48e6-be87-cb1161369a26\">\n",
              "    <div class=\"colab-df-container\">\n",
              "      <div>\n",
              "<style scoped>\n",
              "    .dataframe tbody tr th:only-of-type {\n",
              "        vertical-align: middle;\n",
              "    }\n",
              "\n",
              "    .dataframe tbody tr th {\n",
              "        vertical-align: top;\n",
              "    }\n",
              "\n",
              "    .dataframe thead th {\n",
              "        text-align: right;\n",
              "    }\n",
              "</style>\n",
              "<table border=\"1\" class=\"dataframe\">\n",
              "  <thead>\n",
              "    <tr style=\"text-align: right;\">\n",
              "      <th></th>\n",
              "      <th>FILM</th>\n",
              "      <th>STARS</th>\n",
              "      <th>RATING</th>\n",
              "      <th>VOTES</th>\n",
              "      <th>YEAR</th>\n",
              "    </tr>\n",
              "  </thead>\n",
              "  <tbody>\n",
              "    <tr>\n",
              "      <th>0</th>\n",
              "      <td>Fifty Shades of Grey (2015)</td>\n",
              "      <td>4.0</td>\n",
              "      <td>3.9</td>\n",
              "      <td>34846</td>\n",
              "      <td>2015</td>\n",
              "    </tr>\n",
              "    <tr>\n",
              "      <th>1</th>\n",
              "      <td>Jurassic World (2015)</td>\n",
              "      <td>4.5</td>\n",
              "      <td>4.5</td>\n",
              "      <td>34390</td>\n",
              "      <td>2015</td>\n",
              "    </tr>\n",
              "    <tr>\n",
              "      <th>2</th>\n",
              "      <td>American Sniper (2015)</td>\n",
              "      <td>5.0</td>\n",
              "      <td>4.8</td>\n",
              "      <td>34085</td>\n",
              "      <td>2015</td>\n",
              "    </tr>\n",
              "    <tr>\n",
              "      <th>3</th>\n",
              "      <td>Furious 7 (2015)</td>\n",
              "      <td>5.0</td>\n",
              "      <td>4.8</td>\n",
              "      <td>33538</td>\n",
              "      <td>2015</td>\n",
              "    </tr>\n",
              "    <tr>\n",
              "      <th>4</th>\n",
              "      <td>Inside Out (2015)</td>\n",
              "      <td>4.5</td>\n",
              "      <td>4.5</td>\n",
              "      <td>15749</td>\n",
              "      <td>2015</td>\n",
              "    </tr>\n",
              "    <tr>\n",
              "      <th>...</th>\n",
              "      <td>...</td>\n",
              "      <td>...</td>\n",
              "      <td>...</td>\n",
              "      <td>...</td>\n",
              "      <td>...</td>\n",
              "    </tr>\n",
              "    <tr>\n",
              "      <th>499</th>\n",
              "      <td>Valiyavan (2015)</td>\n",
              "      <td>0.0</td>\n",
              "      <td>0.0</td>\n",
              "      <td>0</td>\n",
              "      <td>2015</td>\n",
              "    </tr>\n",
              "    <tr>\n",
              "      <th>500</th>\n",
              "      <td>WWE SummerSlam 2015 (2015)</td>\n",
              "      <td>0.0</td>\n",
              "      <td>0.0</td>\n",
              "      <td>0</td>\n",
              "      <td>2015</td>\n",
              "    </tr>\n",
              "    <tr>\n",
              "      <th>501</th>\n",
              "      <td>Yagavarayinum Naa Kaakka (2015)</td>\n",
              "      <td>0.0</td>\n",
              "      <td>0.0</td>\n",
              "      <td>0</td>\n",
              "      <td>2015</td>\n",
              "    </tr>\n",
              "    <tr>\n",
              "      <th>502</th>\n",
              "      <td>Yesterday, Today and Tomorrow (1964)</td>\n",
              "      <td>0.0</td>\n",
              "      <td>0.0</td>\n",
              "      <td>0</td>\n",
              "      <td>1964</td>\n",
              "    </tr>\n",
              "    <tr>\n",
              "      <th>503</th>\n",
              "      <td>Zarafa (2012)</td>\n",
              "      <td>0.0</td>\n",
              "      <td>0.0</td>\n",
              "      <td>0</td>\n",
              "      <td>2012</td>\n",
              "    </tr>\n",
              "  </tbody>\n",
              "</table>\n",
              "<p>504 rows × 5 columns</p>\n",
              "</div>\n",
              "      <button class=\"colab-df-convert\" onclick=\"convertToInteractive('df-0dc1f318-c324-48e6-be87-cb1161369a26')\"\n",
              "              title=\"Convert this dataframe to an interactive table.\"\n",
              "              style=\"display:none;\">\n",
              "        \n",
              "  <svg xmlns=\"http://www.w3.org/2000/svg\" height=\"24px\"viewBox=\"0 0 24 24\"\n",
              "       width=\"24px\">\n",
              "    <path d=\"M0 0h24v24H0V0z\" fill=\"none\"/>\n",
              "    <path d=\"M18.56 5.44l.94 2.06.94-2.06 2.06-.94-2.06-.94-.94-2.06-.94 2.06-2.06.94zm-11 1L8.5 8.5l.94-2.06 2.06-.94-2.06-.94L8.5 2.5l-.94 2.06-2.06.94zm10 10l.94 2.06.94-2.06 2.06-.94-2.06-.94-.94-2.06-.94 2.06-2.06.94z\"/><path d=\"M17.41 7.96l-1.37-1.37c-.4-.4-.92-.59-1.43-.59-.52 0-1.04.2-1.43.59L10.3 9.45l-7.72 7.72c-.78.78-.78 2.05 0 2.83L4 21.41c.39.39.9.59 1.41.59.51 0 1.02-.2 1.41-.59l7.78-7.78 2.81-2.81c.8-.78.8-2.07 0-2.86zM5.41 20L4 18.59l7.72-7.72 1.47 1.35L5.41 20z\"/>\n",
              "  </svg>\n",
              "      </button>\n",
              "      \n",
              "  <style>\n",
              "    .colab-df-container {\n",
              "      display:flex;\n",
              "      flex-wrap:wrap;\n",
              "      gap: 12px;\n",
              "    }\n",
              "\n",
              "    .colab-df-convert {\n",
              "      background-color: #E8F0FE;\n",
              "      border: none;\n",
              "      border-radius: 50%;\n",
              "      cursor: pointer;\n",
              "      display: none;\n",
              "      fill: #1967D2;\n",
              "      height: 32px;\n",
              "      padding: 0 0 0 0;\n",
              "      width: 32px;\n",
              "    }\n",
              "\n",
              "    .colab-df-convert:hover {\n",
              "      background-color: #E2EBFA;\n",
              "      box-shadow: 0px 1px 2px rgba(60, 64, 67, 0.3), 0px 1px 3px 1px rgba(60, 64, 67, 0.15);\n",
              "      fill: #174EA6;\n",
              "    }\n",
              "\n",
              "    [theme=dark] .colab-df-convert {\n",
              "      background-color: #3B4455;\n",
              "      fill: #D2E3FC;\n",
              "    }\n",
              "\n",
              "    [theme=dark] .colab-df-convert:hover {\n",
              "      background-color: #434B5C;\n",
              "      box-shadow: 0px 1px 3px 1px rgba(0, 0, 0, 0.15);\n",
              "      filter: drop-shadow(0px 1px 2px rgba(0, 0, 0, 0.3));\n",
              "      fill: #FFFFFF;\n",
              "    }\n",
              "  </style>\n",
              "\n",
              "      <script>\n",
              "        const buttonEl =\n",
              "          document.querySelector('#df-0dc1f318-c324-48e6-be87-cb1161369a26 button.colab-df-convert');\n",
              "        buttonEl.style.display =\n",
              "          google.colab.kernel.accessAllowed ? 'block' : 'none';\n",
              "\n",
              "        async function convertToInteractive(key) {\n",
              "          const element = document.querySelector('#df-0dc1f318-c324-48e6-be87-cb1161369a26');\n",
              "          const dataTable =\n",
              "            await google.colab.kernel.invokeFunction('convertToInteractive',\n",
              "                                                     [key], {});\n",
              "          if (!dataTable) return;\n",
              "\n",
              "          const docLinkHtml = 'Like what you see? Visit the ' +\n",
              "            '<a target=\"_blank\" href=https://colab.research.google.com/notebooks/data_table.ipynb>data table notebook</a>'\n",
              "            + ' to learn more about interactive tables.';\n",
              "          element.innerHTML = '';\n",
              "          dataTable['output_type'] = 'display_data';\n",
              "          await google.colab.output.renderOutput(dataTable, element);\n",
              "          const docLink = document.createElement('div');\n",
              "          docLink.innerHTML = docLinkHtml;\n",
              "          element.appendChild(docLink);\n",
              "        }\n",
              "      </script>\n",
              "    </div>\n",
              "  </div>\n",
              "  "
            ]
          },
          "metadata": {},
          "execution_count": 167
        }
      ],
      "source": [
        "# Buraya kod yazın\n",
        "fandango[\"YEAR\"] = fandango[\"FILM\"].astype(str).str[-5:-1]\n",
        "fandango"
      ]
    },
    {
      "cell_type": "code",
      "execution_count": null,
      "metadata": {
        "id": "bkgJnIL04bpA"
      },
      "outputs": [],
      "source": []
    },
    {
      "cell_type": "markdown",
      "metadata": {
        "id": "-S1CUD2z4bpA"
      },
      "source": [
        "**TASK: Elimizdeki Fandango verilerinde yıl başına düşen film sayılarını bulun**"
      ]
    },
    {
      "cell_type": "code",
      "execution_count": null,
      "metadata": {
        "colab": {
          "base_uri": "https://localhost:8080/"
        },
        "id": "TkI7jZBW4bpA",
        "outputId": "66405df1-10e5-4e59-a30f-8e11cb233f89"
      },
      "outputs": [
        {
          "output_type": "execute_result",
          "data": {
            "text/plain": [
              "YEAR\n",
              "2015    478\n",
              "2014     23\n",
              "1964      1\n",
              "2012      1\n",
              "2016      1\n",
              "Name: FILM, dtype: int64"
            ]
          },
          "metadata": {},
          "execution_count": 168
        }
      ],
      "source": [
        "# Buraya kod yazın\n",
        "fandango.groupby(\"YEAR\")[\"FILM\"].size().sort_values(ascending = False)"
      ]
    },
    {
      "cell_type": "code",
      "execution_count": null,
      "metadata": {
        "id": "FCokjCno4bpA"
      },
      "outputs": [],
      "source": []
    },
    {
      "cell_type": "markdown",
      "metadata": {
        "id": "fP8DgQVY4bpB"
      },
      "source": [
        "**TASK: Bir plot ile yıllara düşen film sayılarını görselleştirin:**"
      ]
    },
    {
      "cell_type": "code",
      "execution_count": null,
      "metadata": {
        "colab": {
          "base_uri": "https://localhost:8080/",
          "height": 471
        },
        "id": "Z2dD137O4bpB",
        "outputId": "7baca379-694c-4702-96cf-537f7caf7fe9"
      },
      "outputs": [
        {
          "output_type": "execute_result",
          "data": {
            "text/plain": [
              "<Axes: xlabel='YEAR', ylabel='count'>"
            ]
          },
          "metadata": {},
          "execution_count": 169
        },
        {
          "output_type": "display_data",
          "data": {
            "text/plain": [
              "<Figure size 640x480 with 1 Axes>"
            ],
            "image/png": "[encoded data removed]"
          },
          "metadata": {}
        }
      ],
      "source": [
        "# Buraya kod yazın\n",
        "film_count = fandango.groupby(\"YEAR\")[\"FILM\"].size().sort_values(ascending = False).reset_index(name = \"count\")\n",
        "\n",
        "sns.barplot(film_count,\n",
        "            x = \"YEAR\",\n",
        "            y = \"count\")"
      ]
    },
    {
      "cell_type": "code",
      "execution_count": null,
      "metadata": {
        "id": "hCoNfNuZ4bpB"
      },
      "outputs": [],
      "source": []
    },
    {
      "cell_type": "markdown",
      "metadata": {
        "id": "avEIL8SA4bpC"
      },
      "source": [
        "**TASK: En fazla oyu alan 10 film hangileridir?**"
      ]
    },
    {
      "cell_type": "code",
      "execution_count": null,
      "metadata": {
        "colab": {
          "base_uri": "https://localhost:8080/",
          "height": 363
        },
        "id": "PZ5tvbED4bpC",
        "outputId": "7b6178e5-160c-4b13-c416-ee936ebc8096"
      },
      "outputs": [
        {
          "output_type": "execute_result",
          "data": {
            "text/plain": [
              "                                               FILM  STARS  RATING  VOTES  \\\n",
              "0                       Fifty Shades of Grey (2015)    4.0     3.9  34846   \n",
              "1                             Jurassic World (2015)    4.5     4.5  34390   \n",
              "2                            American Sniper (2015)    5.0     4.8  34085   \n",
              "3                                  Furious 7 (2015)    5.0     4.8  33538   \n",
              "4                                 Inside Out (2015)    4.5     4.5  15749   \n",
              "5  The Hobbit: The Battle of the Five Armies (2014)    4.5     4.3  15337   \n",
              "6               Kingsman: The Secret Service (2015)    4.5     4.2  15205   \n",
              "7                                    Minions (2015)    4.0     4.0  14998   \n",
              "8                    Avengers: Age of Ultron (2015)    5.0     4.5  14846   \n",
              "9                             Into the Woods (2014)    3.5     3.4  13055   \n",
              "\n",
              "   YEAR  \n",
              "0  2015  \n",
              "1  2015  \n",
              "2  2015  \n",
              "3  2015  \n",
              "4  2015  \n",
              "5  2014  \n",
              "6  2015  \n",
              "7  2015  \n",
              "8  2015  \n",
              "9  2014  "
            ],
            "text/html": [
              "\n",
              "  <div id=\"df-14c4ed97-fe07-48e0-a9d1-35a1752d6e72\">\n",
              "    <div class=\"colab-df-container\">\n",
              "      <div>\n",
              "<style scoped>\n",
              "    .dataframe tbody tr th:only-of-type {\n",
              "        vertical-align: middle;\n",
              "    }\n",
              "\n",
              "    .dataframe tbody tr th {\n",
              "        vertical-align: top;\n",
              "    }\n",
              "\n",
              "    .dataframe thead th {\n",
              "        text-align: right;\n",
              "    }\n",
              "</style>\n",
              "<table border=\"1\" class=\"dataframe\">\n",
              "  <thead>\n",
              "    <tr style=\"text-align: right;\">\n",
              "      <th></th>\n",
              "      <th>FILM</th>\n",
              "      <th>STARS</th>\n",
              "      <th>RATING</th>\n",
              "      <th>VOTES</th>\n",
              "      <th>YEAR</th>\n",
              "    </tr>\n",
              "  </thead>\n",
              "  <tbody>\n",
              "    <tr>\n",
              "      <th>0</th>\n",
              "      <td>Fifty Shades of Grey (2015)</td>\n",
              "      <td>4.0</td>\n",
              "      <td>3.9</td>\n",
              "      <td>34846</td>\n",
              "      <td>2015</td>\n",
              "    </tr>\n",
              "    <tr>\n",
              "      <th>1</th>\n",
              "      <td>Jurassic World (2015)</td>\n",
              "      <td>4.5</td>\n",
              "      <td>4.5</td>\n",
              "      <td>34390</td>\n",
              "      <td>2015</td>\n",
              "    </tr>\n",
              "    <tr>\n",
              "      <th>2</th>\n",
              "      <td>American Sniper (2015)</td>\n",
              "      <td>5.0</td>\n",
              "      <td>4.8</td>\n",
              "      <td>34085</td>\n",
              "      <td>2015</td>\n",
              "    </tr>\n",
              "    <tr>\n",
              "      <th>3</th>\n",
              "      <td>Furious 7 (2015)</td>\n",
              "      <td>5.0</td>\n",
              "      <td>4.8</td>\n",
              "      <td>33538</td>\n",
              "      <td>2015</td>\n",
              "    </tr>\n",
              "    <tr>\n",
              "      <th>4</th>\n",
              "      <td>Inside Out (2015)</td>\n",
              "      <td>4.5</td>\n",
              "      <td>4.5</td>\n",
              "      <td>15749</td>\n",
              "      <td>2015</td>\n",
              "    </tr>\n",
              "    <tr>\n",
              "      <th>5</th>\n",
              "      <td>The Hobbit: The Battle of the Five Armies (2014)</td>\n",
              "      <td>4.5</td>\n",
              "      <td>4.3</td>\n",
              "      <td>15337</td>\n",
              "      <td>2014</td>\n",
              "    </tr>\n",
              "    <tr>\n",
              "      <th>6</th>\n",
              "      <td>Kingsman: The Secret Service (2015)</td>\n",
              "      <td>4.5</td>\n",
              "      <td>4.2</td>\n",
              "      <td>15205</td>\n",
              "      <td>2015</td>\n",
              "    </tr>\n",
              "    <tr>\n",
              "      <th>7</th>\n",
              "      <td>Minions (2015)</td>\n",
              "      <td>4.0</td>\n",
              "      <td>4.0</td>\n",
              "      <td>14998</td>\n",
              "      <td>2015</td>\n",
              "    </tr>\n",
              "    <tr>\n",
              "      <th>8</th>\n",
              "      <td>Avengers: Age of Ultron (2015)</td>\n",
              "      <td>5.0</td>\n",
              "      <td>4.5</td>\n",
              "      <td>14846</td>\n",
              "      <td>2015</td>\n",
              "    </tr>\n",
              "    <tr>\n",
              "      <th>9</th>\n",
              "      <td>Into the Woods (2014)</td>\n",
              "      <td>3.5</td>\n",
              "      <td>3.4</td>\n",
              "      <td>13055</td>\n",
              "      <td>2014</td>\n",
              "    </tr>\n",
              "  </tbody>\n",
              "</table>\n",
              "</div>\n",
              "      <button class=\"colab-df-convert\" onclick=\"convertToInteractive('df-14c4ed97-fe07-48e0-a9d1-35a1752d6e72')\"\n",
              "              title=\"Convert this dataframe to an interactive table.\"\n",
              "              style=\"display:none;\">\n",
              "        \n",
              "  <svg xmlns=\"http://www.w3.org/2000/svg\" height=\"24px\"viewBox=\"0 0 24 24\"\n",
              "       width=\"24px\">\n",
              "    <path d=\"M0 0h24v24H0V0z\" fill=\"none\"/>\n",
              "    <path d=\"M18.56 5.44l.94 2.06.94-2.06 2.06-.94-2.06-.94-.94-2.06-.94 2.06-2.06.94zm-11 1L8.5 8.5l.94-2.06 2.06-.94-2.06-.94L8.5 2.5l-.94 2.06-2.06.94zm10 10l.94 2.06.94-2.06 2.06-.94-2.06-.94-.94-2.06-.94 2.06-2.06.94z\"/><path d=\"M17.41 7.96l-1.37-1.37c-.4-.4-.92-.59-1.43-.59-.52 0-1.04.2-1.43.59L10.3 9.45l-7.72 7.72c-.78.78-.78 2.05 0 2.83L4 21.41c.39.39.9.59 1.41.59.51 0 1.02-.2 1.41-.59l7.78-7.78 2.81-2.81c.8-.78.8-2.07 0-2.86zM5.41 20L4 18.59l7.72-7.72 1.47 1.35L5.41 20z\"/>\n",
              "  </svg>\n",
              "      </button>\n",
              "      \n",
              "  <style>\n",
              "    .colab-df-container {\n",
              "      display:flex;\n",
              "      flex-wrap:wrap;\n",
              "      gap: 12px;\n",
              "    }\n",
              "\n",
              "    .colab-df-convert {\n",
              "      background-color: #E8F0FE;\n",
              "      border: none;\n",
              "      border-radius: 50%;\n",
              "      cursor: pointer;\n",
              "      display: none;\n",
              "      fill: #1967D2;\n",
              "      height: 32px;\n",
              "      padding: 0 0 0 0;\n",
              "      width: 32px;\n",
              "    }\n",
              "\n",
              "    .colab-df-convert:hover {\n",
              "      background-color: #E2EBFA;\n",
              "      box-shadow: 0px 1px 2px rgba(60, 64, 67, 0.3), 0px 1px 3px 1px rgba(60, 64, 67, 0.15);\n",
              "      fill: #174EA6;\n",
              "    }\n",
              "\n",
              "    [theme=dark] .colab-df-convert {\n",
              "      background-color: #3B4455;\n",
              "      fill: #D2E3FC;\n",
              "    }\n",
              "\n",
              "    [theme=dark] .colab-df-convert:hover {\n",
              "      background-color: #434B5C;\n",
              "      box-shadow: 0px 1px 3px 1px rgba(0, 0, 0, 0.15);\n",
              "      filter: drop-shadow(0px 1px 2px rgba(0, 0, 0, 0.3));\n",
              "      fill: #FFFFFF;\n",
              "    }\n",
              "  </style>\n",
              "\n",
              "      <script>\n",
              "        const buttonEl =\n",
              "          document.querySelector('#df-14c4ed97-fe07-48e0-a9d1-35a1752d6e72 button.colab-df-convert');\n",
              "        buttonEl.style.display =\n",
              "          google.colab.kernel.accessAllowed ? 'block' : 'none';\n",
              "\n",
              "        async function convertToInteractive(key) {\n",
              "          const element = document.querySelector('#df-14c4ed97-fe07-48e0-a9d1-35a1752d6e72');\n",
              "          const dataTable =\n",
              "            await google.colab.kernel.invokeFunction('convertToInteractive',\n",
              "                                                     [key], {});\n",
              "          if (!dataTable) return;\n",
              "\n",
              "          const docLinkHtml = 'Like what you see? Visit the ' +\n",
              "            '<a target=\"_blank\" href=https://colab.research.google.com/notebooks/data_table.ipynb>data table notebook</a>'\n",
              "            + ' to learn more about interactive tables.';\n",
              "          element.innerHTML = '';\n",
              "          dataTable['output_type'] = 'display_data';\n",
              "          await google.colab.output.renderOutput(dataTable, element);\n",
              "          const docLink = document.createElement('div');\n",
              "          docLink.innerHTML = docLinkHtml;\n",
              "          element.appendChild(docLink);\n",
              "        }\n",
              "      </script>\n",
              "    </div>\n",
              "  </div>\n",
              "  "
            ]
          },
          "metadata": {},
          "execution_count": 170
        }
      ],
      "source": [
        "# Buraya kod yazın\n",
        "fandango.sort_values(by = \"VOTES\", ascending=False).head(10)"
      ]
    },
    {
      "cell_type": "code",
      "execution_count": null,
      "metadata": {
        "id": "HMJi3msT4bpC"
      },
      "outputs": [],
      "source": []
    },
    {
      "cell_type": "markdown",
      "metadata": {
        "id": "j8EqIUu94bpC"
      },
      "source": [
        "**TASK: Kaç tane film 0 vote'u aldı ?**"
      ]
    },
    {
      "cell_type": "code",
      "execution_count": null,
      "metadata": {
        "id": "A-2cdH0Z4bpD",
        "colab": {
          "base_uri": "https://localhost:8080/"
        },
        "outputId": "8931170b-1240-41be-f9ba-d3d92f4f663e"
      },
      "outputs": [
        {
          "output_type": "execute_result",
          "data": {
            "text/plain": [
              "69"
            ]
          },
          "metadata": {},
          "execution_count": 171
        }
      ],
      "source": [
        "# Buraya kod yazın\n",
        "fandango[fandango[\"VOTES\"] == 0].count()[\"FILM\"]"
      ]
    },
    {
      "cell_type": "code",
      "execution_count": null,
      "metadata": {
        "id": "RH4Q-HrG4bpD"
      },
      "outputs": [],
      "source": []
    },
    {
      "cell_type": "markdown",
      "metadata": {
        "id": "HO4sSlYI4bpD"
      },
      "source": [
        "**TASK: Sıfır oyu olan filmleri kaldırarak yalnızca incelenen filmlerin dataframe'ini oluşturun.**"
      ]
    },
    {
      "cell_type": "code",
      "execution_count": null,
      "metadata": {
        "id": "ej6RkIlR4bpD"
      },
      "outputs": [],
      "source": [
        "# Buraya kod yazın\n",
        "fandango = fandango[fandango[\"VOTES\"] != 0]"
      ]
    },
    {
      "cell_type": "code",
      "execution_count": null,
      "metadata": {
        "id": "7lIhMUud4bpE"
      },
      "outputs": [],
      "source": []
    },
    {
      "cell_type": "markdown",
      "metadata": {
        "id": "7BbDGuX64bpE"
      },
      "source": [
        "**TASK: Bazı filmlerde usulsüzlük yapıldığı ve kullanıcılara gösterilen STARS değerlerinin gerçek RATING değerlerinden biraz daha fazla çıktığı düşünüyoruz. 'STARS_DIFF' adında yeni bir column ekleyerek STARS ile RATING arasındaki farkları bu column'da tutun.**"
      ]
    },
    {
      "cell_type": "code",
      "execution_count": null,
      "metadata": {
        "id": "xi_VCVSr4bpE"
      },
      "outputs": [],
      "source": [
        "# Buraya kod yazın"
      ]
    },
    {
      "cell_type": "code",
      "execution_count": null,
      "metadata": {
        "id": "GL8OHvMg4bpF",
        "colab": {
          "base_uri": "https://localhost:8080/",
          "height": 532
        },
        "outputId": "5ec22918-a129-483e-f97f-6bbe896495f2"
      },
      "outputs": [
        {
          "output_type": "stream",
          "name": "stderr",
          "text": [
            "<ipython-input-174-d79fbd69b32c>:1: SettingWithCopyWarning: \n",
            "A value is trying to be set on a copy of a slice from a DataFrame.\n",
            "Try using .loc[row_indexer,col_indexer] = value instead\n",
            "\n",
            "See the caveats in the documentation: https://pandas.pydata.org/pandas-docs/stable/user_guide/indexing.html#returning-a-view-versus-a-copy\n",
            "  fandango[\"STARS_DIFF\"] = fandango[\"STARS\"] - fandango[\"RATING\"]\n"
          ]
        },
        {
          "output_type": "execute_result",
          "data": {
            "text/plain": [
              "                            FILM  STARS  RATING  VOTES  YEAR  STARS_DIFF\n",
              "0    Fifty Shades of Grey (2015)    4.0     3.9  34846  2015         0.1\n",
              "1          Jurassic World (2015)    4.5     4.5  34390  2015         0.0\n",
              "2         American Sniper (2015)    5.0     4.8  34085  2015         0.2\n",
              "3               Furious 7 (2015)    5.0     4.8  33538  2015         0.2\n",
              "4              Inside Out (2015)    4.5     4.5  15749  2015         0.0\n",
              "..                           ...    ...     ...    ...   ...         ...\n",
              "430       That Sugar Film (2015)    5.0     5.0      1  2015         0.0\n",
              "431            The Intern (2015)    5.0     5.0      1  2015         0.0\n",
              "432        The Park Bench (2015)    5.0     5.0      1  2015         0.0\n",
              "433         The Wanted 18 (2015)    5.0     5.0      1  2015         0.0\n",
              "434       Z For Zachariah (2015)    5.0     5.0      1  2015         0.0\n",
              "\n",
              "[435 rows x 6 columns]"
            ],
            "text/html": [
              "\n",
              "  <div id=\"df-83ed9ae3-5317-4dce-be9f-930560aca57c\">\n",
              "    <div class=\"colab-df-container\">\n",
              "      <div>\n",
              "<style scoped>\n",
              "    .dataframe tbody tr th:only-of-type {\n",
              "        vertical-align: middle;\n",
              "    }\n",
              "\n",
              "    .dataframe tbody tr th {\n",
              "        vertical-align: top;\n",
              "    }\n",
              "\n",
              "    .dataframe thead th {\n",
              "        text-align: right;\n",
              "    }\n",
              "</style>\n",
              "<table border=\"1\" class=\"dataframe\">\n",
              "  <thead>\n",
              "    <tr style=\"text-align: right;\">\n",
              "      <th></th>\n",
              "      <th>FILM</th>\n",
              "      <th>STARS</th>\n",
              "      <th>RATING</th>\n",
              "      <th>VOTES</th>\n",
              "      <th>YEAR</th>\n",
              "      <th>STARS_DIFF</th>\n",
              "    </tr>\n",
              "  </thead>\n",
              "  <tbody>\n",
              "    <tr>\n",
              "      <th>0</th>\n",
              "      <td>Fifty Shades of Grey (2015)</td>\n",
              "      <td>4.0</td>\n",
              "      <td>3.9</td>\n",
              "      <td>34846</td>\n",
              "      <td>2015</td>\n",
              "      <td>0.1</td>\n",
              "    </tr>\n",
              "    <tr>\n",
              "      <th>1</th>\n",
              "      <td>Jurassic World (2015)</td>\n",
              "      <td>4.5</td>\n",
              "      <td>4.5</td>\n",
              "      <td>34390</td>\n",
              "      <td>2015</td>\n",
              "      <td>0.0</td>\n",
              "    </tr>\n",
              "    <tr>\n",
              "      <th>2</th>\n",
              "      <td>American Sniper (2015)</td>\n",
              "      <td>5.0</td>\n",
              "      <td>4.8</td>\n",
              "      <td>34085</td>\n",
              "      <td>2015</td>\n",
              "      <td>0.2</td>\n",
              "    </tr>\n",
              "    <tr>\n",
              "      <th>3</th>\n",
              "      <td>Furious 7 (2015)</td>\n",
              "      <td>5.0</td>\n",
              "      <td>4.8</td>\n",
              "      <td>33538</td>\n",
              "      <td>2015</td>\n",
              "      <td>0.2</td>\n",
              "    </tr>\n",
              "    <tr>\n",
              "      <th>4</th>\n",
              "      <td>Inside Out (2015)</td>\n",
              "      <td>4.5</td>\n",
              "      <td>4.5</td>\n",
              "      <td>15749</td>\n",
              "      <td>2015</td>\n",
              "      <td>0.0</td>\n",
              "    </tr>\n",
              "    <tr>\n",
              "      <th>...</th>\n",
              "      <td>...</td>\n",
              "      <td>...</td>\n",
              "      <td>...</td>\n",
              "      <td>...</td>\n",
              "      <td>...</td>\n",
              "      <td>...</td>\n",
              "    </tr>\n",
              "    <tr>\n",
              "      <th>430</th>\n",
              "      <td>That Sugar Film (2015)</td>\n",
              "      <td>5.0</td>\n",
              "      <td>5.0</td>\n",
              "      <td>1</td>\n",
              "      <td>2015</td>\n",
              "      <td>0.0</td>\n",
              "    </tr>\n",
              "    <tr>\n",
              "      <th>431</th>\n",
              "      <td>The Intern (2015)</td>\n",
              "      <td>5.0</td>\n",
              "      <td>5.0</td>\n",
              "      <td>1</td>\n",
              "      <td>2015</td>\n",
              "      <td>0.0</td>\n",
              "    </tr>\n",
              "    <tr>\n",
              "      <th>432</th>\n",
              "      <td>The Park Bench (2015)</td>\n",
              "      <td>5.0</td>\n",
              "      <td>5.0</td>\n",
              "      <td>1</td>\n",
              "      <td>2015</td>\n",
              "      <td>0.0</td>\n",
              "    </tr>\n",
              "    <tr>\n",
              "      <th>433</th>\n",
              "      <td>The Wanted 18 (2015)</td>\n",
              "      <td>5.0</td>\n",
              "      <td>5.0</td>\n",
              "      <td>1</td>\n",
              "      <td>2015</td>\n",
              "      <td>0.0</td>\n",
              "    </tr>\n",
              "    <tr>\n",
              "      <th>434</th>\n",
              "      <td>Z For Zachariah (2015)</td>\n",
              "      <td>5.0</td>\n",
              "      <td>5.0</td>\n",
              "      <td>1</td>\n",
              "      <td>2015</td>\n",
              "      <td>0.0</td>\n",
              "    </tr>\n",
              "  </tbody>\n",
              "</table>\n",
              "<p>435 rows × 6 columns</p>\n",
              "</div>\n",
              "      <button class=\"colab-df-convert\" onclick=\"convertToInteractive('df-83ed9ae3-5317-4dce-be9f-930560aca57c')\"\n",
              "              title=\"Convert this dataframe to an interactive table.\"\n",
              "              style=\"display:none;\">\n",
              "        \n",
              "  <svg xmlns=\"http://www.w3.org/2000/svg\" height=\"24px\"viewBox=\"0 0 24 24\"\n",
              "       width=\"24px\">\n",
              "    <path d=\"M0 0h24v24H0V0z\" fill=\"none\"/>\n",
              "    <path d=\"M18.56 5.44l.94 2.06.94-2.06 2.06-.94-2.06-.94-.94-2.06-.94 2.06-2.06.94zm-11 1L8.5 8.5l.94-2.06 2.06-.94-2.06-.94L8.5 2.5l-.94 2.06-2.06.94zm10 10l.94 2.06.94-2.06 2.06-.94-2.06-.94-.94-2.06-.94 2.06-2.06.94z\"/><path d=\"M17.41 7.96l-1.37-1.37c-.4-.4-.92-.59-1.43-.59-.52 0-1.04.2-1.43.59L10.3 9.45l-7.72 7.72c-.78.78-.78 2.05 0 2.83L4 21.41c.39.39.9.59 1.41.59.51 0 1.02-.2 1.41-.59l7.78-7.78 2.81-2.81c.8-.78.8-2.07 0-2.86zM5.41 20L4 18.59l7.72-7.72 1.47 1.35L5.41 20z\"/>\n",
              "  </svg>\n",
              "      </button>\n",
              "      \n",
              "  <style>\n",
              "    .colab-df-container {\n",
              "      display:flex;\n",
              "      flex-wrap:wrap;\n",
              "      gap: 12px;\n",
              "    }\n",
              "\n",
              "    .colab-df-convert {\n",
              "      background-color: #E8F0FE;\n",
              "      border: none;\n",
              "      border-radius: 50%;\n",
              "      cursor: pointer;\n",
              "      display: none;\n",
              "      fill: #1967D2;\n",
              "      height: 32px;\n",
              "      padding: 0 0 0 0;\n",
              "      width: 32px;\n",
              "    }\n",
              "\n",
              "    .colab-df-convert:hover {\n",
              "      background-color: #E2EBFA;\n",
              "      box-shadow: 0px 1px 2px rgba(60, 64, 67, 0.3), 0px 1px 3px 1px rgba(60, 64, 67, 0.15);\n",
              "      fill: #174EA6;\n",
              "    }\n",
              "\n",
              "    [theme=dark] .colab-df-convert {\n",
              "      background-color: #3B4455;\n",
              "      fill: #D2E3FC;\n",
              "    }\n",
              "\n",
              "    [theme=dark] .colab-df-convert:hover {\n",
              "      background-color: #434B5C;\n",
              "      box-shadow: 0px 1px 3px 1px rgba(0, 0, 0, 0.15);\n",
              "      filter: drop-shadow(0px 1px 2px rgba(0, 0, 0, 0.3));\n",
              "      fill: #FFFFFF;\n",
              "    }\n",
              "  </style>\n",
              "\n",
              "      <script>\n",
              "        const buttonEl =\n",
              "          document.querySelector('#df-83ed9ae3-5317-4dce-be9f-930560aca57c button.colab-df-convert');\n",
              "        buttonEl.style.display =\n",
              "          google.colab.kernel.accessAllowed ? 'block' : 'none';\n",
              "\n",
              "        async function convertToInteractive(key) {\n",
              "          const element = document.querySelector('#df-83ed9ae3-5317-4dce-be9f-930560aca57c');\n",
              "          const dataTable =\n",
              "            await google.colab.kernel.invokeFunction('convertToInteractive',\n",
              "                                                     [key], {});\n",
              "          if (!dataTable) return;\n",
              "\n",
              "          const docLinkHtml = 'Like what you see? Visit the ' +\n",
              "            '<a target=\"_blank\" href=https://colab.research.google.com/notebooks/data_table.ipynb>data table notebook</a>'\n",
              "            + ' to learn more about interactive tables.';\n",
              "          element.innerHTML = '';\n",
              "          dataTable['output_type'] = 'display_data';\n",
              "          await google.colab.output.renderOutput(dataTable, element);\n",
              "          const docLink = document.createElement('div');\n",
              "          docLink.innerHTML = docLinkHtml;\n",
              "          element.appendChild(docLink);\n",
              "        }\n",
              "      </script>\n",
              "    </div>\n",
              "  </div>\n",
              "  "
            ]
          },
          "metadata": {},
          "execution_count": 174
        }
      ],
      "source": [
        "fandango[\"STARS_DIFF\"] = fandango[\"STARS\"] - fandango[\"RATING\"]\n",
        "fandango"
      ]
    },
    {
      "cell_type": "code",
      "execution_count": null,
      "metadata": {
        "id": "a0zSexZB4bpF"
      },
      "outputs": [],
      "source": []
    },
    {
      "cell_type": "markdown",
      "metadata": {
        "id": "s37TWy3Z4bpF"
      },
      "source": [
        "**TASK: STARS_DIFF sütunundaki verilerin kaçar kez oluştuğunu count edin ve plotlayın**"
      ]
    },
    {
      "cell_type": "code",
      "execution_count": null,
      "metadata": {
        "id": "Pp3CeeHx4bpG",
        "colab": {
          "base_uri": "https://localhost:8080/",
          "height": 542
        },
        "outputId": "b590c8ea-1f8b-4d15-be12-87ffd3ef4cbf"
      },
      "outputs": [
        {
          "output_type": "display_data",
          "data": {
            "text/plain": [
              "<Figure size 1400x600 with 1 Axes>"
            ],
            "image/png": "[encoded data removed]"
          },
          "metadata": {}
        }
      ],
      "source": [
        "# Buraya kod yazın\n",
        "data = fandango[\"STARS_DIFF\"].value_counts().reset_index()\n",
        "data = data.rename(columns = {\"index\":\"STARS_DIFF\",\"STARS_DIFF\":\"COUNT\"})\n",
        "\n",
        "data[\"STARS_DIFF\"] = data[\"STARS_DIFF\"].apply(lambda x: round(x, 1))\n",
        "\n",
        "\n",
        "plt.figure(figsize = (14,6))\n",
        "sns.barplot(data,\n",
        "            x = \"STARS_DIFF\",\n",
        "            y = \"COUNT\",\n",
        "            errorbar = None,\n",
        "            palette = \"rocket\")\n",
        "\n",
        "plt.show()"
      ]
    },
    {
      "cell_type": "code",
      "execution_count": null,
      "metadata": {
        "id": "avYMo9YY4bpG"
      },
      "outputs": [],
      "source": []
    },
    {
      "cell_type": "markdown",
      "metadata": {
        "id": "0O1QvQ5a4bpG"
      },
      "source": [
        "**TASK Üstteki plot'dan gördüğümüz üzere STARS_DIFF'i 1 olan film bile var. Bu çok yoğun usulsüzlük yapılan filmi getirin ve inceleyelim.**"
      ]
    },
    {
      "cell_type": "code",
      "execution_count": null,
      "metadata": {
        "id": "a2X4osjl4bpG",
        "colab": {
          "base_uri": "https://localhost:8080/",
          "height": 81
        },
        "outputId": "df3beb99-9581-43cd-e800-afb39760d5a4"
      },
      "outputs": [
        {
          "output_type": "execute_result",
          "data": {
            "text/plain": [
              "                 FILM  STARS  RATING  VOTES  YEAR  STARS_DIFF\n",
              "381  Turbo Kid (2015)    5.0     4.0      2  2015         1.0"
            ],
            "text/html": [
              "\n",
              "  <div id=\"df-a9ac1324-3dfb-4fe1-be18-5fa1f5b2c0e1\">\n",
              "    <div class=\"colab-df-container\">\n",
              "      <div>\n",
              "<style scoped>\n",
              "    .dataframe tbody tr th:only-of-type {\n",
              "        vertical-align: middle;\n",
              "    }\n",
              "\n",
              "    .dataframe tbody tr th {\n",
              "        vertical-align: top;\n",
              "    }\n",
              "\n",
              "    .dataframe thead th {\n",
              "        text-align: right;\n",
              "    }\n",
              "</style>\n",
              "<table border=\"1\" class=\"dataframe\">\n",
              "  <thead>\n",
              "    <tr style=\"text-align: right;\">\n",
              "      <th></th>\n",
              "      <th>FILM</th>\n",
              "      <th>STARS</th>\n",
              "      <th>RATING</th>\n",
              "      <th>VOTES</th>\n",
              "      <th>YEAR</th>\n",
              "      <th>STARS_DIFF</th>\n",
              "    </tr>\n",
              "  </thead>\n",
              "  <tbody>\n",
              "    <tr>\n",
              "      <th>381</th>\n",
              "      <td>Turbo Kid (2015)</td>\n",
              "      <td>5.0</td>\n",
              "      <td>4.0</td>\n",
              "      <td>2</td>\n",
              "      <td>2015</td>\n",
              "      <td>1.0</td>\n",
              "    </tr>\n",
              "  </tbody>\n",
              "</table>\n",
              "</div>\n",
              "      <button class=\"colab-df-convert\" onclick=\"convertToInteractive('df-a9ac1324-3dfb-4fe1-be18-5fa1f5b2c0e1')\"\n",
              "              title=\"Convert this dataframe to an interactive table.\"\n",
              "              style=\"display:none;\">\n",
              "        \n",
              "  <svg xmlns=\"http://www.w3.org/2000/svg\" height=\"24px\"viewBox=\"0 0 24 24\"\n",
              "       width=\"24px\">\n",
              "    <path d=\"M0 0h24v24H0V0z\" fill=\"none\"/>\n",
              "    <path d=\"M18.56 5.44l.94 2.06.94-2.06 2.06-.94-2.06-.94-.94-2.06-.94 2.06-2.06.94zm-11 1L8.5 8.5l.94-2.06 2.06-.94-2.06-.94L8.5 2.5l-.94 2.06-2.06.94zm10 10l.94 2.06.94-2.06 2.06-.94-2.06-.94-.94-2.06-.94 2.06-2.06.94z\"/><path d=\"M17.41 7.96l-1.37-1.37c-.4-.4-.92-.59-1.43-.59-.52 0-1.04.2-1.43.59L10.3 9.45l-7.72 7.72c-.78.78-.78 2.05 0 2.83L4 21.41c.39.39.9.59 1.41.59.51 0 1.02-.2 1.41-.59l7.78-7.78 2.81-2.81c.8-.78.8-2.07 0-2.86zM5.41 20L4 18.59l7.72-7.72 1.47 1.35L5.41 20z\"/>\n",
              "  </svg>\n",
              "      </button>\n",
              "      \n",
              "  <style>\n",
              "    .colab-df-container {\n",
              "      display:flex;\n",
              "      flex-wrap:wrap;\n",
              "      gap: 12px;\n",
              "    }\n",
              "\n",
              "    .colab-df-convert {\n",
              "      background-color: #E8F0FE;\n",
              "      border: none;\n",
              "      border-radius: 50%;\n",
              "      cursor: pointer;\n",
              "      display: none;\n",
              "      fill: #1967D2;\n",
              "      height: 32px;\n",
              "      padding: 0 0 0 0;\n",
              "      width: 32px;\n",
              "    }\n",
              "\n",
              "    .colab-df-convert:hover {\n",
              "      background-color: #E2EBFA;\n",
              "      box-shadow: 0px 1px 2px rgba(60, 64, 67, 0.3), 0px 1px 3px 1px rgba(60, 64, 67, 0.15);\n",
              "      fill: #174EA6;\n",
              "    }\n",
              "\n",
              "    [theme=dark] .colab-df-convert {\n",
              "      background-color: #3B4455;\n",
              "      fill: #D2E3FC;\n",
              "    }\n",
              "\n",
              "    [theme=dark] .colab-df-convert:hover {\n",
              "      background-color: #434B5C;\n",
              "      box-shadow: 0px 1px 3px 1px rgba(0, 0, 0, 0.15);\n",
              "      filter: drop-shadow(0px 1px 2px rgba(0, 0, 0, 0.3));\n",
              "      fill: #FFFFFF;\n",
              "    }\n",
              "  </style>\n",
              "\n",
              "      <script>\n",
              "        const buttonEl =\n",
              "          document.querySelector('#df-a9ac1324-3dfb-4fe1-be18-5fa1f5b2c0e1 button.colab-df-convert');\n",
              "        buttonEl.style.display =\n",
              "          google.colab.kernel.accessAllowed ? 'block' : 'none';\n",
              "\n",
              "        async function convertToInteractive(key) {\n",
              "          const element = document.querySelector('#df-a9ac1324-3dfb-4fe1-be18-5fa1f5b2c0e1');\n",
              "          const dataTable =\n",
              "            await google.colab.kernel.invokeFunction('convertToInteractive',\n",
              "                                                     [key], {});\n",
              "          if (!dataTable) return;\n",
              "\n",
              "          const docLinkHtml = 'Like what you see? Visit the ' +\n",
              "            '<a target=\"_blank\" href=https://colab.research.google.com/notebooks/data_table.ipynb>data table notebook</a>'\n",
              "            + ' to learn more about interactive tables.';\n",
              "          element.innerHTML = '';\n",
              "          dataTable['output_type'] = 'display_data';\n",
              "          await google.colab.output.renderOutput(dataTable, element);\n",
              "          const docLink = document.createElement('div');\n",
              "          docLink.innerHTML = docLinkHtml;\n",
              "          element.appendChild(docLink);\n",
              "        }\n",
              "      </script>\n",
              "    </div>\n",
              "  </div>\n",
              "  "
            ]
          },
          "metadata": {},
          "execution_count": 176
        }
      ],
      "source": [
        "# Buraya kod yazın\n",
        "fandango[fandango[\"STARS_DIFF\"] == 1.0]"
      ]
    },
    {
      "cell_type": "code",
      "execution_count": null,
      "metadata": {
        "id": "awJStJca4bpG"
      },
      "outputs": [],
      "source": []
    },
    {
      "cell_type": "markdown",
      "metadata": {
        "id": "x5el0o2R4bpH"
      },
      "source": [
        "## Part Three: Fandango Puanlamalarını Başka Sitelerle Karşılaştıralım\n",
        "\n",
        "**TASK: \"all_sites_scores.csv\" dosyasını okuyun**"
      ]
    },
    {
      "cell_type": "code",
      "execution_count": null,
      "metadata": {
        "id": "7c-IZ46T4bpH"
      },
      "outputs": [],
      "source": [
        "all_sites = pd.read_csv(\"all_sites_scores.csv\")"
      ]
    },
    {
      "cell_type": "markdown",
      "metadata": {
        "id": "mVEIYLpk4bpH"
      },
      "source": [
        "**TASK: Bu csv dosyasını da keşfetmek için temel analiz başlangıcı kodlarını yazın.**"
      ]
    },
    {
      "cell_type": "code",
      "execution_count": null,
      "metadata": {
        "id": "rBQN9Sea4bpI",
        "outputId": "142914d6-cd89-4ab6-ae64-46a086949fc0",
        "colab": {
          "base_uri": "https://localhost:8080/",
          "height": 206
        }
      },
      "outputs": [
        {
          "output_type": "execute_result",
          "data": {
            "text/plain": [
              "                             FILM  RottenTomatoes  RottenTomatoes_User  \\\n",
              "0  Avengers: Age of Ultron (2015)              74                   86   \n",
              "1               Cinderella (2015)              85                   80   \n",
              "2                  Ant-Man (2015)              80                   90   \n",
              "3          Do You Believe? (2015)              18                   84   \n",
              "4   Hot Tub Time Machine 2 (2015)              14                   28   \n",
              "\n",
              "   Metacritic  Metacritic_User  IMDB  Metacritic_user_vote_count  \\\n",
              "0          66              7.1   7.8                        1330   \n",
              "1          67              7.5   7.1                         249   \n",
              "2          64              8.1   7.8                         627   \n",
              "3          22              4.7   5.4                          31   \n",
              "4          29              3.4   5.1                          88   \n",
              "\n",
              "   IMDB_user_vote_count  \n",
              "0                271107  \n",
              "1                 65709  \n",
              "2                103660  \n",
              "3                  3136  \n",
              "4                 19560  "
            ],
            "text/html": [
              "\n",
              "  <div id=\"df-654ce856-8aff-4f80-bdcf-6f5ebf369d49\">\n",
              "    <div class=\"colab-df-container\">\n",
              "      <div>\n",
              "<style scoped>\n",
              "    .dataframe tbody tr th:only-of-type {\n",
              "        vertical-align: middle;\n",
              "    }\n",
              "\n",
              "    .dataframe tbody tr th {\n",
              "        vertical-align: top;\n",
              "    }\n",
              "\n",
              "    .dataframe thead th {\n",
              "        text-align: right;\n",
              "    }\n",
              "</style>\n",
              "<table border=\"1\" class=\"dataframe\">\n",
              "  <thead>\n",
              "    <tr style=\"text-align: right;\">\n",
              "      <th></th>\n",
              "      <th>FILM</th>\n",
              "      <th>RottenTomatoes</th>\n",
              "      <th>RottenTomatoes_User</th>\n",
              "      <th>Metacritic</th>\n",
              "      <th>Metacritic_User</th>\n",
              "      <th>IMDB</th>\n",
              "      <th>Metacritic_user_vote_count</th>\n",
              "      <th>IMDB_user_vote_count</th>\n",
              "    </tr>\n",
              "  </thead>\n",
              "  <tbody>\n",
              "    <tr>\n",
              "      <th>0</th>\n",
              "      <td>Avengers: Age of Ultron (2015)</td>\n",
              "      <td>74</td>\n",
              "      <td>86</td>\n",
              "      <td>66</td>\n",
              "      <td>7.1</td>\n",
              "      <td>7.8</td>\n",
              "      <td>1330</td>\n",
              "      <td>271107</td>\n",
              "    </tr>\n",
              "    <tr>\n",
              "      <th>1</th>\n",
              "      <td>Cinderella (2015)</td>\n",
              "      <td>85</td>\n",
              "      <td>80</td>\n",
              "      <td>67</td>\n",
              "      <td>7.5</td>\n",
              "      <td>7.1</td>\n",
              "      <td>249</td>\n",
              "      <td>65709</td>\n",
              "    </tr>\n",
              "    <tr>\n",
              "      <th>2</th>\n",
              "      <td>Ant-Man (2015)</td>\n",
              "      <td>80</td>\n",
              "      <td>90</td>\n",
              "      <td>64</td>\n",
              "      <td>8.1</td>\n",
              "      <td>7.8</td>\n",
              "      <td>627</td>\n",
              "      <td>103660</td>\n",
              "    </tr>\n",
              "    <tr>\n",
              "      <th>3</th>\n",
              "      <td>Do You Believe? (2015)</td>\n",
              "      <td>18</td>\n",
              "      <td>84</td>\n",
              "      <td>22</td>\n",
              "      <td>4.7</td>\n",
              "      <td>5.4</td>\n",
              "      <td>31</td>\n",
              "      <td>3136</td>\n",
              "    </tr>\n",
              "    <tr>\n",
              "      <th>4</th>\n",
              "      <td>Hot Tub Time Machine 2 (2015)</td>\n",
              "      <td>14</td>\n",
              "      <td>28</td>\n",
              "      <td>29</td>\n",
              "      <td>3.4</td>\n",
              "      <td>5.1</td>\n",
              "      <td>88</td>\n",
              "      <td>19560</td>\n",
              "    </tr>\n",
              "  </tbody>\n",
              "</table>\n",
              "</div>\n",
              "      <button class=\"colab-df-convert\" onclick=\"convertToInteractive('df-654ce856-8aff-4f80-bdcf-6f5ebf369d49')\"\n",
              "              title=\"Convert this dataframe to an interactive table.\"\n",
              "              style=\"display:none;\">\n",
              "        \n",
              "  <svg xmlns=\"http://www.w3.org/2000/svg\" height=\"24px\"viewBox=\"0 0 24 24\"\n",
              "       width=\"24px\">\n",
              "    <path d=\"M0 0h24v24H0V0z\" fill=\"none\"/>\n",
              "    <path d=\"M18.56 5.44l.94 2.06.94-2.06 2.06-.94-2.06-.94-.94-2.06-.94 2.06-2.06.94zm-11 1L8.5 8.5l.94-2.06 2.06-.94-2.06-.94L8.5 2.5l-.94 2.06-2.06.94zm10 10l.94 2.06.94-2.06 2.06-.94-2.06-.94-.94-2.06-.94 2.06-2.06.94z\"/><path d=\"M17.41 7.96l-1.37-1.37c-.4-.4-.92-.59-1.43-.59-.52 0-1.04.2-1.43.59L10.3 9.45l-7.72 7.72c-.78.78-.78 2.05 0 2.83L4 21.41c.39.39.9.59 1.41.59.51 0 1.02-.2 1.41-.59l7.78-7.78 2.81-2.81c.8-.78.8-2.07 0-2.86zM5.41 20L4 18.59l7.72-7.72 1.47 1.35L5.41 20z\"/>\n",
              "  </svg>\n",
              "      </button>\n",
              "      \n",
              "  <style>\n",
              "    .colab-df-container {\n",
              "      display:flex;\n",
              "      flex-wrap:wrap;\n",
              "      gap: 12px;\n",
              "    }\n",
              "\n",
              "    .colab-df-convert {\n",
              "      background-color: #E8F0FE;\n",
              "      border: none;\n",
              "      border-radius: 50%;\n",
              "      cursor: pointer;\n",
              "      display: none;\n",
              "      fill: #1967D2;\n",
              "      height: 32px;\n",
              "      padding: 0 0 0 0;\n",
              "      width: 32px;\n",
              "    }\n",
              "\n",
              "    .colab-df-convert:hover {\n",
              "      background-color: #E2EBFA;\n",
              "      box-shadow: 0px 1px 2px rgba(60, 64, 67, 0.3), 0px 1px 3px 1px rgba(60, 64, 67, 0.15);\n",
              "      fill: #174EA6;\n",
              "    }\n",
              "\n",
              "    [theme=dark] .colab-df-convert {\n",
              "      background-color: #3B4455;\n",
              "      fill: #D2E3FC;\n",
              "    }\n",
              "\n",
              "    [theme=dark] .colab-df-convert:hover {\n",
              "      background-color: #434B5C;\n",
              "      box-shadow: 0px 1px 3px 1px rgba(0, 0, 0, 0.15);\n",
              "      filter: drop-shadow(0px 1px 2px rgba(0, 0, 0, 0.3));\n",
              "      fill: #FFFFFF;\n",
              "    }\n",
              "  </style>\n",
              "\n",
              "      <script>\n",
              "        const buttonEl =\n",
              "          document.querySelector('#df-654ce856-8aff-4f80-bdcf-6f5ebf369d49 button.colab-df-convert');\n",
              "        buttonEl.style.display =\n",
              "          google.colab.kernel.accessAllowed ? 'block' : 'none';\n",
              "\n",
              "        async function convertToInteractive(key) {\n",
              "          const element = document.querySelector('#df-654ce856-8aff-4f80-bdcf-6f5ebf369d49');\n",
              "          const dataTable =\n",
              "            await google.colab.kernel.invokeFunction('convertToInteractive',\n",
              "                                                     [key], {});\n",
              "          if (!dataTable) return;\n",
              "\n",
              "          const docLinkHtml = 'Like what you see? Visit the ' +\n",
              "            '<a target=\"_blank\" href=https://colab.research.google.com/notebooks/data_table.ipynb>data table notebook</a>'\n",
              "            + ' to learn more about interactive tables.';\n",
              "          element.innerHTML = '';\n",
              "          dataTable['output_type'] = 'display_data';\n",
              "          await google.colab.output.renderOutput(dataTable, element);\n",
              "          const docLink = document.createElement('div');\n",
              "          docLink.innerHTML = docLinkHtml;\n",
              "          element.appendChild(docLink);\n",
              "        }\n",
              "      </script>\n",
              "    </div>\n",
              "  </div>\n",
              "  "
            ]
          },
          "metadata": {},
          "execution_count": 178
        }
      ],
      "source": [
        "all_sites.head()"
      ]
    },
    {
      "cell_type": "code",
      "execution_count": null,
      "metadata": {
        "id": "QVACfLG84bpI",
        "outputId": "938908d1-7fed-4bb7-9e76-d2b754170569",
        "colab": {
          "base_uri": "https://localhost:8080/"
        }
      },
      "outputs": [
        {
          "output_type": "stream",
          "name": "stdout",
          "text": [
            "<class 'pandas.core.frame.DataFrame'>\n",
            "RangeIndex: 146 entries, 0 to 145\n",
            "Data columns (total 8 columns):\n",
            " #   Column                      Non-Null Count  Dtype  \n",
            "---  ------                      --------------  -----  \n",
            " 0   FILM                        146 non-null    object \n",
            " 1   RottenTomatoes              146 non-null    int64  \n",
            " 2   RottenTomatoes_User         146 non-null    int64  \n",
            " 3   Metacritic                  146 non-null    int64  \n",
            " 4   Metacritic_User             146 non-null    float64\n",
            " 5   IMDB                        146 non-null    float64\n",
            " 6   Metacritic_user_vote_count  146 non-null    int64  \n",
            " 7   IMDB_user_vote_count        146 non-null    int64  \n",
            "dtypes: float64(2), int64(5), object(1)\n",
            "memory usage: 9.2+ KB\n"
          ]
        }
      ],
      "source": [
        "all_sites.info()"
      ]
    },
    {
      "cell_type": "code",
      "execution_count": null,
      "metadata": {
        "id": "eYK_TrCv4bpI",
        "outputId": "5a881f12-1501-4c8e-fafe-e5647306df30",
        "colab": {
          "base_uri": "https://localhost:8080/",
          "height": 300
        }
      },
      "outputs": [
        {
          "output_type": "execute_result",
          "data": {
            "text/plain": [
              "       RottenTomatoes  RottenTomatoes_User  Metacritic  Metacritic_User  \\\n",
              "count      146.000000           146.000000  146.000000       146.000000   \n",
              "mean        60.849315            63.876712   58.808219         6.519178   \n",
              "std         30.168799            20.024430   19.517389         1.510712   \n",
              "min          5.000000            20.000000   13.000000         2.400000   \n",
              "25%         31.250000            50.000000   43.500000         5.700000   \n",
              "50%         63.500000            66.500000   59.000000         6.850000   \n",
              "75%         89.000000            81.000000   75.000000         7.500000   \n",
              "max        100.000000            94.000000   94.000000         9.600000   \n",
              "\n",
              "             IMDB  Metacritic_user_vote_count  IMDB_user_vote_count  \n",
              "count  146.000000                  146.000000            146.000000  \n",
              "mean     6.736986                  185.705479          42846.205479  \n",
              "std      0.958736                  316.606515          67406.509171  \n",
              "min      4.000000                    4.000000            243.000000  \n",
              "25%      6.300000                   33.250000           5627.000000  \n",
              "50%      6.900000                   72.500000          19103.000000  \n",
              "75%      7.400000                  168.500000          45185.750000  \n",
              "max      8.600000                 2375.000000         334164.000000  "
            ],
            "text/html": [
              "\n",
              "  <div id=\"df-e7173910-d342-4d6d-a68b-117bd8801118\">\n",
              "    <div class=\"colab-df-container\">\n",
              "      <div>\n",
              "<style scoped>\n",
              "    .dataframe tbody tr th:only-of-type {\n",
              "        vertical-align: middle;\n",
              "    }\n",
              "\n",
              "    .dataframe tbody tr th {\n",
              "        vertical-align: top;\n",
              "    }\n",
              "\n",
              "    .dataframe thead th {\n",
              "        text-align: right;\n",
              "    }\n",
              "</style>\n",
              "<table border=\"1\" class=\"dataframe\">\n",
              "  <thead>\n",
              "    <tr style=\"text-align: right;\">\n",
              "      <th></th>\n",
              "      <th>RottenTomatoes</th>\n",
              "      <th>RottenTomatoes_User</th>\n",
              "      <th>Metacritic</th>\n",
              "      <th>Metacritic_User</th>\n",
              "      <th>IMDB</th>\n",
              "      <th>Metacritic_user_vote_count</th>\n",
              "      <th>IMDB_user_vote_count</th>\n",
              "    </tr>\n",
              "  </thead>\n",
              "  <tbody>\n",
              "    <tr>\n",
              "      <th>count</th>\n",
              "      <td>146.000000</td>\n",
              "      <td>146.000000</td>\n",
              "      <td>146.000000</td>\n",
              "      <td>146.000000</td>\n",
              "      <td>146.000000</td>\n",
              "      <td>146.000000</td>\n",
              "      <td>146.000000</td>\n",
              "    </tr>\n",
              "    <tr>\n",
              "      <th>mean</th>\n",
              "      <td>60.849315</td>\n",
              "      <td>63.876712</td>\n",
              "      <td>58.808219</td>\n",
              "      <td>6.519178</td>\n",
              "      <td>6.736986</td>\n",
              "      <td>185.705479</td>\n",
              "      <td>42846.205479</td>\n",
              "    </tr>\n",
              "    <tr>\n",
              "      <th>std</th>\n",
              "      <td>30.168799</td>\n",
              "      <td>20.024430</td>\n",
              "      <td>19.517389</td>\n",
              "      <td>1.510712</td>\n",
              "      <td>0.958736</td>\n",
              "      <td>316.606515</td>\n",
              "      <td>67406.509171</td>\n",
              "    </tr>\n",
              "    <tr>\n",
              "      <th>min</th>\n",
              "      <td>5.000000</td>\n",
              "      <td>20.000000</td>\n",
              "      <td>13.000000</td>\n",
              "      <td>2.400000</td>\n",
              "      <td>4.000000</td>\n",
              "      <td>4.000000</td>\n",
              "      <td>243.000000</td>\n",
              "    </tr>\n",
              "    <tr>\n",
              "      <th>25%</th>\n",
              "      <td>31.250000</td>\n",
              "      <td>50.000000</td>\n",
              "      <td>43.500000</td>\n",
              "      <td>5.700000</td>\n",
              "      <td>6.300000</td>\n",
              "      <td>33.250000</td>\n",
              "      <td>5627.000000</td>\n",
              "    </tr>\n",
              "    <tr>\n",
              "      <th>50%</th>\n",
              "      <td>63.500000</td>\n",
              "      <td>66.500000</td>\n",
              "      <td>59.000000</td>\n",
              "      <td>6.850000</td>\n",
              "      <td>6.900000</td>\n",
              "      <td>72.500000</td>\n",
              "      <td>19103.000000</td>\n",
              "    </tr>\n",
              "    <tr>\n",
              "      <th>75%</th>\n",
              "      <td>89.000000</td>\n",
              "      <td>81.000000</td>\n",
              "      <td>75.000000</td>\n",
              "      <td>7.500000</td>\n",
              "      <td>7.400000</td>\n",
              "      <td>168.500000</td>\n",
              "      <td>45185.750000</td>\n",
              "    </tr>\n",
              "    <tr>\n",
              "      <th>max</th>\n",
              "      <td>100.000000</td>\n",
              "      <td>94.000000</td>\n",
              "      <td>94.000000</td>\n",
              "      <td>9.600000</td>\n",
              "      <td>8.600000</td>\n",
              "      <td>2375.000000</td>\n",
              "      <td>334164.000000</td>\n",
              "    </tr>\n",
              "  </tbody>\n",
              "</table>\n",
              "</div>\n",
              "      <button class=\"colab-df-convert\" onclick=\"convertToInteractive('df-e7173910-d342-4d6d-a68b-117bd8801118')\"\n",
              "              title=\"Convert this dataframe to an interactive table.\"\n",
              "              style=\"display:none;\">\n",
              "        \n",
              "  <svg xmlns=\"http://www.w3.org/2000/svg\" height=\"24px\"viewBox=\"0 0 24 24\"\n",
              "       width=\"24px\">\n",
              "    <path d=\"M0 0h24v24H0V0z\" fill=\"none\"/>\n",
              "    <path d=\"M18.56 5.44l.94 2.06.94-2.06 2.06-.94-2.06-.94-.94-2.06-.94 2.06-2.06.94zm-11 1L8.5 8.5l.94-2.06 2.06-.94-2.06-.94L8.5 2.5l-.94 2.06-2.06.94zm10 10l.94 2.06.94-2.06 2.06-.94-2.06-.94-.94-2.06-.94 2.06-2.06.94z\"/><path d=\"M17.41 7.96l-1.37-1.37c-.4-.4-.92-.59-1.43-.59-.52 0-1.04.2-1.43.59L10.3 9.45l-7.72 7.72c-.78.78-.78 2.05 0 2.83L4 21.41c.39.39.9.59 1.41.59.51 0 1.02-.2 1.41-.59l7.78-7.78 2.81-2.81c.8-.78.8-2.07 0-2.86zM5.41 20L4 18.59l7.72-7.72 1.47 1.35L5.41 20z\"/>\n",
              "  </svg>\n",
              "      </button>\n",
              "      \n",
              "  <style>\n",
              "    .colab-df-container {\n",
              "      display:flex;\n",
              "      flex-wrap:wrap;\n",
              "      gap: 12px;\n",
              "    }\n",
              "\n",
              "    .colab-df-convert {\n",
              "      background-color: #E8F0FE;\n",
              "      border: none;\n",
              "      border-radius: 50%;\n",
              "      cursor: pointer;\n",
              "      display: none;\n",
              "      fill: #1967D2;\n",
              "      height: 32px;\n",
              "      padding: 0 0 0 0;\n",
              "      width: 32px;\n",
              "    }\n",
              "\n",
              "    .colab-df-convert:hover {\n",
              "      background-color: #E2EBFA;\n",
              "      box-shadow: 0px 1px 2px rgba(60, 64, 67, 0.3), 0px 1px 3px 1px rgba(60, 64, 67, 0.15);\n",
              "      fill: #174EA6;\n",
              "    }\n",
              "\n",
              "    [theme=dark] .colab-df-convert {\n",
              "      background-color: #3B4455;\n",
              "      fill: #D2E3FC;\n",
              "    }\n",
              "\n",
              "    [theme=dark] .colab-df-convert:hover {\n",
              "      background-color: #434B5C;\n",
              "      box-shadow: 0px 1px 3px 1px rgba(0, 0, 0, 0.15);\n",
              "      filter: drop-shadow(0px 1px 2px rgba(0, 0, 0, 0.3));\n",
              "      fill: #FFFFFF;\n",
              "    }\n",
              "  </style>\n",
              "\n",
              "      <script>\n",
              "        const buttonEl =\n",
              "          document.querySelector('#df-e7173910-d342-4d6d-a68b-117bd8801118 button.colab-df-convert');\n",
              "        buttonEl.style.display =\n",
              "          google.colab.kernel.accessAllowed ? 'block' : 'none';\n",
              "\n",
              "        async function convertToInteractive(key) {\n",
              "          const element = document.querySelector('#df-e7173910-d342-4d6d-a68b-117bd8801118');\n",
              "          const dataTable =\n",
              "            await google.colab.kernel.invokeFunction('convertToInteractive',\n",
              "                                                     [key], {});\n",
              "          if (!dataTable) return;\n",
              "\n",
              "          const docLinkHtml = 'Like what you see? Visit the ' +\n",
              "            '<a target=\"_blank\" href=https://colab.research.google.com/notebooks/data_table.ipynb>data table notebook</a>'\n",
              "            + ' to learn more about interactive tables.';\n",
              "          element.innerHTML = '';\n",
              "          dataTable['output_type'] = 'display_data';\n",
              "          await google.colab.output.renderOutput(dataTable, element);\n",
              "          const docLink = document.createElement('div');\n",
              "          docLink.innerHTML = docLinkHtml;\n",
              "          element.appendChild(docLink);\n",
              "        }\n",
              "      </script>\n",
              "    </div>\n",
              "  </div>\n",
              "  "
            ]
          },
          "metadata": {},
          "execution_count": 180
        }
      ],
      "source": [
        "all_sites.describe()"
      ]
    },
    {
      "cell_type": "markdown",
      "metadata": {
        "id": "_6BZnJxp4bpI"
      },
      "source": [
        "### Rotten Tomatoes\n",
        "\n",
        "Önce Rotten Tomatoes'i inceleyelim. RottenTomatoes adında gerçek yorumcuların derecelendirmeleri ve RottenTomatoes_User adında kullanıcıların derecelendirmelerini içeren bir sütun bulunuyor. Bu sütunları plot edelim.\n",
        "\n",
        "**TASK: Aşağıdaki gibi bir scatterplot oluşturun.**"
      ]
    },
    {
      "cell_type": "code",
      "execution_count": null,
      "metadata": {
        "id": "qaZlThBr4bpI",
        "colab": {
          "base_uri": "https://localhost:8080/",
          "height": 560
        },
        "outputId": "dd870d85-b0f4-498b-9eb4-3ca5f6bd616f"
      },
      "outputs": [
        {
          "output_type": "execute_result",
          "data": {
            "text/plain": [
              "<Axes: xlabel='RottenTomatoes', ylabel='RottenTomatoes_User'>"
            ]
          },
          "metadata": {},
          "execution_count": 181
        },
        {
          "output_type": "display_data",
          "data": {
            "text/plain": [
              "<Figure size 1400x600 with 1 Axes>"
            ],
            "image/png": "[encoded data removed]"
          },
          "metadata": {}
        }
      ],
      "source": [
        "# Buraya kod yazın\n",
        "plt.figure(figsize = (14,6))\n",
        "\n",
        "sns.scatterplot(all_sites,\n",
        "                x = \"RottenTomatoes\",\n",
        "                y = \"RottenTomatoes_User\")"
      ]
    },
    {
      "cell_type": "code",
      "execution_count": null,
      "metadata": {
        "id": "6my51RN44bpJ"
      },
      "outputs": [],
      "source": []
    },
    {
      "cell_type": "markdown",
      "metadata": {
        "id": "WSfqlG_z4bpJ"
      },
      "source": [
        "**TASK: Rotten DIFF adında bir column oluşturun ve bu column RottenTomatoes-RottenTomatoes_User bilgilerinden oluşsun.**"
      ]
    },
    {
      "cell_type": "code",
      "execution_count": null,
      "metadata": {
        "id": "dUXZLtVY4bpJ",
        "colab": {
          "base_uri": "https://localhost:8080/",
          "height": 206
        },
        "outputId": "4c616b60-a120-4433-f500-5f22da80e34d"
      },
      "outputs": [
        {
          "output_type": "execute_result",
          "data": {
            "text/plain": [
              "                             FILM  RottenTomatoes  RottenTomatoes_User  \\\n",
              "0  Avengers: Age of Ultron (2015)              74                   86   \n",
              "1               Cinderella (2015)              85                   80   \n",
              "2                  Ant-Man (2015)              80                   90   \n",
              "3          Do You Believe? (2015)              18                   84   \n",
              "4   Hot Tub Time Machine 2 (2015)              14                   28   \n",
              "\n",
              "   Metacritic  Metacritic_User  IMDB  Metacritic_user_vote_count  \\\n",
              "0          66              7.1   7.8                        1330   \n",
              "1          67              7.5   7.1                         249   \n",
              "2          64              8.1   7.8                         627   \n",
              "3          22              4.7   5.4                          31   \n",
              "4          29              3.4   5.1                          88   \n",
              "\n",
              "   IMDB_user_vote_count  Rotten DIFF  \n",
              "0                271107          -12  \n",
              "1                 65709            5  \n",
              "2                103660          -10  \n",
              "3                  3136          -66  \n",
              "4                 19560          -14  "
            ],
            "text/html": [
              "\n",
              "  <div id=\"df-3dfd97e1-ce4c-432d-9c02-02c8f12192c9\">\n",
              "    <div class=\"colab-df-container\">\n",
              "      <div>\n",
              "<style scoped>\n",
              "    .dataframe tbody tr th:only-of-type {\n",
              "        vertical-align: middle;\n",
              "    }\n",
              "\n",
              "    .dataframe tbody tr th {\n",
              "        vertical-align: top;\n",
              "    }\n",
              "\n",
              "    .dataframe thead th {\n",
              "        text-align: right;\n",
              "    }\n",
              "</style>\n",
              "<table border=\"1\" class=\"dataframe\">\n",
              "  <thead>\n",
              "    <tr style=\"text-align: right;\">\n",
              "      <th></th>\n",
              "      <th>FILM</th>\n",
              "      <th>RottenTomatoes</th>\n",
              "      <th>RottenTomatoes_User</th>\n",
              "      <th>Metacritic</th>\n",
              "      <th>Metacritic_User</th>\n",
              "      <th>IMDB</th>\n",
              "      <th>Metacritic_user_vote_count</th>\n",
              "      <th>IMDB_user_vote_count</th>\n",
              "      <th>Rotten DIFF</th>\n",
              "    </tr>\n",
              "  </thead>\n",
              "  <tbody>\n",
              "    <tr>\n",
              "      <th>0</th>\n",
              "      <td>Avengers: Age of Ultron (2015)</td>\n",
              "      <td>74</td>\n",
              "      <td>86</td>\n",
              "      <td>66</td>\n",
              "      <td>7.1</td>\n",
              "      <td>7.8</td>\n",
              "      <td>1330</td>\n",
              "      <td>271107</td>\n",
              "      <td>-12</td>\n",
              "    </tr>\n",
              "    <tr>\n",
              "      <th>1</th>\n",
              "      <td>Cinderella (2015)</td>\n",
              "      <td>85</td>\n",
              "      <td>80</td>\n",
              "      <td>67</td>\n",
              "      <td>7.5</td>\n",
              "      <td>7.1</td>\n",
              "      <td>249</td>\n",
              "      <td>65709</td>\n",
              "      <td>5</td>\n",
              "    </tr>\n",
              "    <tr>\n",
              "      <th>2</th>\n",
              "      <td>Ant-Man (2015)</td>\n",
              "      <td>80</td>\n",
              "      <td>90</td>\n",
              "      <td>64</td>\n",
              "      <td>8.1</td>\n",
              "      <td>7.8</td>\n",
              "      <td>627</td>\n",
              "      <td>103660</td>\n",
              "      <td>-10</td>\n",
              "    </tr>\n",
              "    <tr>\n",
              "      <th>3</th>\n",
              "      <td>Do You Believe? (2015)</td>\n",
              "      <td>18</td>\n",
              "      <td>84</td>\n",
              "      <td>22</td>\n",
              "      <td>4.7</td>\n",
              "      <td>5.4</td>\n",
              "      <td>31</td>\n",
              "      <td>3136</td>\n",
              "      <td>-66</td>\n",
              "    </tr>\n",
              "    <tr>\n",
              "      <th>4</th>\n",
              "      <td>Hot Tub Time Machine 2 (2015)</td>\n",
              "      <td>14</td>\n",
              "      <td>28</td>\n",
              "      <td>29</td>\n",
              "      <td>3.4</td>\n",
              "      <td>5.1</td>\n",
              "      <td>88</td>\n",
              "      <td>19560</td>\n",
              "      <td>-14</td>\n",
              "    </tr>\n",
              "  </tbody>\n",
              "</table>\n",
              "</div>\n",
              "      <button class=\"colab-df-convert\" onclick=\"convertToInteractive('df-3dfd97e1-ce4c-432d-9c02-02c8f12192c9')\"\n",
              "              title=\"Convert this dataframe to an interactive table.\"\n",
              "              style=\"display:none;\">\n",
              "        \n",
              "  <svg xmlns=\"http://www.w3.org/2000/svg\" height=\"24px\"viewBox=\"0 0 24 24\"\n",
              "       width=\"24px\">\n",
              "    <path d=\"M0 0h24v24H0V0z\" fill=\"none\"/>\n",
              "    <path d=\"M18.56 5.44l.94 2.06.94-2.06 2.06-.94-2.06-.94-.94-2.06-.94 2.06-2.06.94zm-11 1L8.5 8.5l.94-2.06 2.06-.94-2.06-.94L8.5 2.5l-.94 2.06-2.06.94zm10 10l.94 2.06.94-2.06 2.06-.94-2.06-.94-.94-2.06-.94 2.06-2.06.94z\"/><path d=\"M17.41 7.96l-1.37-1.37c-.4-.4-.92-.59-1.43-.59-.52 0-1.04.2-1.43.59L10.3 9.45l-7.72 7.72c-.78.78-.78 2.05 0 2.83L4 21.41c.39.39.9.59 1.41.59.51 0 1.02-.2 1.41-.59l7.78-7.78 2.81-2.81c.8-.78.8-2.07 0-2.86zM5.41 20L4 18.59l7.72-7.72 1.47 1.35L5.41 20z\"/>\n",
              "  </svg>\n",
              "      </button>\n",
              "      \n",
              "  <style>\n",
              "    .colab-df-container {\n",
              "      display:flex;\n",
              "      flex-wrap:wrap;\n",
              "      gap: 12px;\n",
              "    }\n",
              "\n",
              "    .colab-df-convert {\n",
              "      background-color: #E8F0FE;\n",
              "      border: none;\n",
              "      border-radius: 50%;\n",
              "      cursor: pointer;\n",
              "      display: none;\n",
              "      fill: #1967D2;\n",
              "      height: 32px;\n",
              "      padding: 0 0 0 0;\n",
              "      width: 32px;\n",
              "    }\n",
              "\n",
              "    .colab-df-convert:hover {\n",
              "      background-color: #E2EBFA;\n",
              "      box-shadow: 0px 1px 2px rgba(60, 64, 67, 0.3), 0px 1px 3px 1px rgba(60, 64, 67, 0.15);\n",
              "      fill: #174EA6;\n",
              "    }\n",
              "\n",
              "    [theme=dark] .colab-df-convert {\n",
              "      background-color: #3B4455;\n",
              "      fill: #D2E3FC;\n",
              "    }\n",
              "\n",
              "    [theme=dark] .colab-df-convert:hover {\n",
              "      background-color: #434B5C;\n",
              "      box-shadow: 0px 1px 3px 1px rgba(0, 0, 0, 0.15);\n",
              "      filter: drop-shadow(0px 1px 2px rgba(0, 0, 0, 0.3));\n",
              "      fill: #FFFFFF;\n",
              "    }\n",
              "  </style>\n",
              "\n",
              "      <script>\n",
              "        const buttonEl =\n",
              "          document.querySelector('#df-3dfd97e1-ce4c-432d-9c02-02c8f12192c9 button.colab-df-convert');\n",
              "        buttonEl.style.display =\n",
              "          google.colab.kernel.accessAllowed ? 'block' : 'none';\n",
              "\n",
              "        async function convertToInteractive(key) {\n",
              "          const element = document.querySelector('#df-3dfd97e1-ce4c-432d-9c02-02c8f12192c9');\n",
              "          const dataTable =\n",
              "            await google.colab.kernel.invokeFunction('convertToInteractive',\n",
              "                                                     [key], {});\n",
              "          if (!dataTable) return;\n",
              "\n",
              "          const docLinkHtml = 'Like what you see? Visit the ' +\n",
              "            '<a target=\"_blank\" href=https://colab.research.google.com/notebooks/data_table.ipynb>data table notebook</a>'\n",
              "            + ' to learn more about interactive tables.';\n",
              "          element.innerHTML = '';\n",
              "          dataTable['output_type'] = 'display_data';\n",
              "          await google.colab.output.renderOutput(dataTable, element);\n",
              "          const docLink = document.createElement('div');\n",
              "          docLink.innerHTML = docLinkHtml;\n",
              "          element.appendChild(docLink);\n",
              "        }\n",
              "      </script>\n",
              "    </div>\n",
              "  </div>\n",
              "  "
            ]
          },
          "metadata": {},
          "execution_count": 182
        }
      ],
      "source": [
        "# Buraya kod yazın\n",
        "all_sites[\"Rotten DIFF\"] = all_sites[\"RottenTomatoes\"] - all_sites[\"RottenTomatoes_User\"]\n",
        "all_sites.head()"
      ]
    },
    {
      "cell_type": "code",
      "execution_count": null,
      "metadata": {
        "id": "nUAhSwke4bpJ"
      },
      "outputs": [],
      "source": []
    },
    {
      "cell_type": "markdown",
      "metadata": {
        "id": "SJYRjVqC4bpJ"
      },
      "source": [
        "**TASK: RT Eleştirmen Puanı ile RT Kullanıcı Puanı arasındaki farkların dağılımını çizin. Bu dağılım grafiğinde negatif değerler olmalıdır. Bu dağıtımı görüntülemek için KDE veya Histogramları kullanabilirsiniz**"
      ]
    },
    {
      "cell_type": "code",
      "execution_count": null,
      "metadata": {
        "id": "60VF2NFn4bpK",
        "colab": {
          "base_uri": "https://localhost:8080/",
          "height": 467
        },
        "outputId": "c7ba79d3-46e7-4922-ccef-f3e6c3dbbd33"
      },
      "outputs": [
        {
          "output_type": "execute_result",
          "data": {
            "text/plain": [
              "<Axes: xlabel='Rotten DIFF', ylabel='Count'>"
            ]
          },
          "metadata": {},
          "execution_count": 183
        },
        {
          "output_type": "display_data",
          "data": {
            "text/plain": [
              "<Figure size 640x480 with 1 Axes>"
            ],
            "image/png": "[encoded data removed]"
          },
          "metadata": {}
        }
      ],
      "source": [
        "# Buraya kod yazın\n",
        "\n",
        "sns.histplot(all_sites,\n",
        "             x= \"Rotten DIFF\",\n",
        "             kde = True)"
      ]
    },
    {
      "cell_type": "code",
      "execution_count": null,
      "metadata": {
        "id": "EuCCyMt44bpK"
      },
      "outputs": [],
      "source": []
    },
    {
      "cell_type": "markdown",
      "metadata": {
        "id": "2GCaOsAE4bpK"
      },
      "source": [
        "**Hadi Kullanıcı ile eleştirmen puanlamaları arasındaki farkın(Rotten_Diff) en yüksek ve en düşük olduğu filmlere bi bakalım.**"
      ]
    },
    {
      "cell_type": "markdown",
      "metadata": {
        "id": "_f-IYl534bpL"
      },
      "source": [
        "**TASK: Ortalama olarak kullanıcıların, eleştirmenlerden daha fazla sevdiği 5 filmi getirin.**"
      ]
    },
    {
      "cell_type": "code",
      "execution_count": null,
      "metadata": {
        "id": "p7utzECM4bpL",
        "colab": {
          "base_uri": "https://localhost:8080/",
          "height": 224
        },
        "outputId": "f92435d2-9fcc-41ab-9b87-6f46af8a510b"
      },
      "outputs": [
        {
          "output_type": "stream",
          "name": "stdout",
          "text": [
            "Users Love but Critics Hate\n"
          ]
        },
        {
          "output_type": "execute_result",
          "data": {
            "text/plain": [
              "                          FILM  Rotten DIFF\n",
              "3       Do You Believe? (2015)          -66\n",
              "85           Little Boy (2015)          -61\n",
              "134    The Longest Ride (2015)          -42\n",
              "105    Hitman: Agent 47 (2015)          -42\n",
              "125  The Wedding Ringer (2015)          -39"
            ],
            "text/html": [
              "\n",
              "  <div id=\"df-d300c3e4-6fda-424d-ac93-1b8021f9b36f\">\n",
              "    <div class=\"colab-df-container\">\n",
              "      <div>\n",
              "<style scoped>\n",
              "    .dataframe tbody tr th:only-of-type {\n",
              "        vertical-align: middle;\n",
              "    }\n",
              "\n",
              "    .dataframe tbody tr th {\n",
              "        vertical-align: top;\n",
              "    }\n",
              "\n",
              "    .dataframe thead th {\n",
              "        text-align: right;\n",
              "    }\n",
              "</style>\n",
              "<table border=\"1\" class=\"dataframe\">\n",
              "  <thead>\n",
              "    <tr style=\"text-align: right;\">\n",
              "      <th></th>\n",
              "      <th>FILM</th>\n",
              "      <th>Rotten DIFF</th>\n",
              "    </tr>\n",
              "  </thead>\n",
              "  <tbody>\n",
              "    <tr>\n",
              "      <th>3</th>\n",
              "      <td>Do You Believe? (2015)</td>\n",
              "      <td>-66</td>\n",
              "    </tr>\n",
              "    <tr>\n",
              "      <th>85</th>\n",
              "      <td>Little Boy (2015)</td>\n",
              "      <td>-61</td>\n",
              "    </tr>\n",
              "    <tr>\n",
              "      <th>134</th>\n",
              "      <td>The Longest Ride (2015)</td>\n",
              "      <td>-42</td>\n",
              "    </tr>\n",
              "    <tr>\n",
              "      <th>105</th>\n",
              "      <td>Hitman: Agent 47 (2015)</td>\n",
              "      <td>-42</td>\n",
              "    </tr>\n",
              "    <tr>\n",
              "      <th>125</th>\n",
              "      <td>The Wedding Ringer (2015)</td>\n",
              "      <td>-39</td>\n",
              "    </tr>\n",
              "  </tbody>\n",
              "</table>\n",
              "</div>\n",
              "      <button class=\"colab-df-convert\" onclick=\"convertToInteractive('df-d300c3e4-6fda-424d-ac93-1b8021f9b36f')\"\n",
              "              title=\"Convert this dataframe to an interactive table.\"\n",
              "              style=\"display:none;\">\n",
              "        \n",
              "  <svg xmlns=\"http://www.w3.org/2000/svg\" height=\"24px\"viewBox=\"0 0 24 24\"\n",
              "       width=\"24px\">\n",
              "    <path d=\"M0 0h24v24H0V0z\" fill=\"none\"/>\n",
              "    <path d=\"M18.56 5.44l.94 2.06.94-2.06 2.06-.94-2.06-.94-.94-2.06-.94 2.06-2.06.94zm-11 1L8.5 8.5l.94-2.06 2.06-.94-2.06-.94L8.5 2.5l-.94 2.06-2.06.94zm10 10l.94 2.06.94-2.06 2.06-.94-2.06-.94-.94-2.06-.94 2.06-2.06.94z\"/><path d=\"M17.41 7.96l-1.37-1.37c-.4-.4-.92-.59-1.43-.59-.52 0-1.04.2-1.43.59L10.3 9.45l-7.72 7.72c-.78.78-.78 2.05 0 2.83L4 21.41c.39.39.9.59 1.41.59.51 0 1.02-.2 1.41-.59l7.78-7.78 2.81-2.81c.8-.78.8-2.07 0-2.86zM5.41 20L4 18.59l7.72-7.72 1.47 1.35L5.41 20z\"/>\n",
              "  </svg>\n",
              "      </button>\n",
              "      \n",
              "  <style>\n",
              "    .colab-df-container {\n",
              "      display:flex;\n",
              "      flex-wrap:wrap;\n",
              "      gap: 12px;\n",
              "    }\n",
              "\n",
              "    .colab-df-convert {\n",
              "      background-color: #E8F0FE;\n",
              "      border: none;\n",
              "      border-radius: 50%;\n",
              "      cursor: pointer;\n",
              "      display: none;\n",
              "      fill: #1967D2;\n",
              "      height: 32px;\n",
              "      padding: 0 0 0 0;\n",
              "      width: 32px;\n",
              "    }\n",
              "\n",
              "    .colab-df-convert:hover {\n",
              "      background-color: #E2EBFA;\n",
              "      box-shadow: 0px 1px 2px rgba(60, 64, 67, 0.3), 0px 1px 3px 1px rgba(60, 64, 67, 0.15);\n",
              "      fill: #174EA6;\n",
              "    }\n",
              "\n",
              "    [theme=dark] .colab-df-convert {\n",
              "      background-color: #3B4455;\n",
              "      fill: #D2E3FC;\n",
              "    }\n",
              "\n",
              "    [theme=dark] .colab-df-convert:hover {\n",
              "      background-color: #434B5C;\n",
              "      box-shadow: 0px 1px 3px 1px rgba(0, 0, 0, 0.15);\n",
              "      filter: drop-shadow(0px 1px 2px rgba(0, 0, 0, 0.3));\n",
              "      fill: #FFFFFF;\n",
              "    }\n",
              "  </style>\n",
              "\n",
              "      <script>\n",
              "        const buttonEl =\n",
              "          document.querySelector('#df-d300c3e4-6fda-424d-ac93-1b8021f9b36f button.colab-df-convert');\n",
              "        buttonEl.style.display =\n",
              "          google.colab.kernel.accessAllowed ? 'block' : 'none';\n",
              "\n",
              "        async function convertToInteractive(key) {\n",
              "          const element = document.querySelector('#df-d300c3e4-6fda-424d-ac93-1b8021f9b36f');\n",
              "          const dataTable =\n",
              "            await google.colab.kernel.invokeFunction('convertToInteractive',\n",
              "                                                     [key], {});\n",
              "          if (!dataTable) return;\n",
              "\n",
              "          const docLinkHtml = 'Like what you see? Visit the ' +\n",
              "            '<a target=\"_blank\" href=https://colab.research.google.com/notebooks/data_table.ipynb>data table notebook</a>'\n",
              "            + ' to learn more about interactive tables.';\n",
              "          element.innerHTML = '';\n",
              "          dataTable['output_type'] = 'display_data';\n",
              "          await google.colab.output.renderOutput(dataTable, element);\n",
              "          const docLink = document.createElement('div');\n",
              "          docLink.innerHTML = docLinkHtml;\n",
              "          element.appendChild(docLink);\n",
              "        }\n",
              "      </script>\n",
              "    </div>\n",
              "  </div>\n",
              "  "
            ]
          },
          "metadata": {},
          "execution_count": 184
        }
      ],
      "source": [
        "from os import name\n",
        "# Buraya kod yazın\n",
        "print(\"Users Love but Critics Hate\")\n",
        "all_sites[[\"FILM\", \"Rotten DIFF\"]].sort_values(\"Rotten DIFF\").head()"
      ]
    },
    {
      "cell_type": "code",
      "execution_count": null,
      "metadata": {
        "id": "C79sRaF04bpL"
      },
      "outputs": [],
      "source": []
    },
    {
      "cell_type": "markdown",
      "metadata": {
        "id": "vbSd8sVv4bpM"
      },
      "source": [
        "**TASK: Şimdi de tam tersi, kullanıcıların eleştirmenlerden bile daha çok sevmediği 5 filmi getirin**"
      ]
    },
    {
      "cell_type": "code",
      "execution_count": null,
      "metadata": {
        "id": "m9_H6wh44bpM",
        "colab": {
          "base_uri": "https://localhost:8080/",
          "height": 224
        },
        "outputId": "047b2f9b-386c-4c9b-8787-e2b42c31d5a9"
      },
      "outputs": [
        {
          "output_type": "stream",
          "name": "stdout",
          "text": [
            "Critics love, but Users Hate\n"
          ]
        },
        {
          "output_type": "execute_result",
          "data": {
            "text/plain": [
              "                                   FILM  Rotten DIFF\n",
              "69                    Mr. Turner (2014)           42\n",
              "112                   It Follows (2015)           31\n",
              "115            While We're Young (2015)           31\n",
              "145  Kumiko, The Treasure Hunter (2015)           24\n",
              "37                 Welcome to Me (2015)           24"
            ],
            "text/html": [
              "\n",
              "  <div id=\"df-c8908c88-99d4-4606-9066-8b5c6a7bf193\">\n",
              "    <div class=\"colab-df-container\">\n",
              "      <div>\n",
              "<style scoped>\n",
              "    .dataframe tbody tr th:only-of-type {\n",
              "        vertical-align: middle;\n",
              "    }\n",
              "\n",
              "    .dataframe tbody tr th {\n",
              "        vertical-align: top;\n",
              "    }\n",
              "\n",
              "    .dataframe thead th {\n",
              "        text-align: right;\n",
              "    }\n",
              "</style>\n",
              "<table border=\"1\" class=\"dataframe\">\n",
              "  <thead>\n",
              "    <tr style=\"text-align: right;\">\n",
              "      <th></th>\n",
              "      <th>FILM</th>\n",
              "      <th>Rotten DIFF</th>\n",
              "    </tr>\n",
              "  </thead>\n",
              "  <tbody>\n",
              "    <tr>\n",
              "      <th>69</th>\n",
              "      <td>Mr. Turner (2014)</td>\n",
              "      <td>42</td>\n",
              "    </tr>\n",
              "    <tr>\n",
              "      <th>112</th>\n",
              "      <td>It Follows (2015)</td>\n",
              "      <td>31</td>\n",
              "    </tr>\n",
              "    <tr>\n",
              "      <th>115</th>\n",
              "      <td>While We're Young (2015)</td>\n",
              "      <td>31</td>\n",
              "    </tr>\n",
              "    <tr>\n",
              "      <th>145</th>\n",
              "      <td>Kumiko, The Treasure Hunter (2015)</td>\n",
              "      <td>24</td>\n",
              "    </tr>\n",
              "    <tr>\n",
              "      <th>37</th>\n",
              "      <td>Welcome to Me (2015)</td>\n",
              "      <td>24</td>\n",
              "    </tr>\n",
              "  </tbody>\n",
              "</table>\n",
              "</div>\n",
              "      <button class=\"colab-df-convert\" onclick=\"convertToInteractive('df-c8908c88-99d4-4606-9066-8b5c6a7bf193')\"\n",
              "              title=\"Convert this dataframe to an interactive table.\"\n",
              "              style=\"display:none;\">\n",
              "        \n",
              "  <svg xmlns=\"http://www.w3.org/2000/svg\" height=\"24px\"viewBox=\"0 0 24 24\"\n",
              "       width=\"24px\">\n",
              "    <path d=\"M0 0h24v24H0V0z\" fill=\"none\"/>\n",
              "    <path d=\"M18.56 5.44l.94 2.06.94-2.06 2.06-.94-2.06-.94-.94-2.06-.94 2.06-2.06.94zm-11 1L8.5 8.5l.94-2.06 2.06-.94-2.06-.94L8.5 2.5l-.94 2.06-2.06.94zm10 10l.94 2.06.94-2.06 2.06-.94-2.06-.94-.94-2.06-.94 2.06-2.06.94z\"/><path d=\"M17.41 7.96l-1.37-1.37c-.4-.4-.92-.59-1.43-.59-.52 0-1.04.2-1.43.59L10.3 9.45l-7.72 7.72c-.78.78-.78 2.05 0 2.83L4 21.41c.39.39.9.59 1.41.59.51 0 1.02-.2 1.41-.59l7.78-7.78 2.81-2.81c.8-.78.8-2.07 0-2.86zM5.41 20L4 18.59l7.72-7.72 1.47 1.35L5.41 20z\"/>\n",
              "  </svg>\n",
              "      </button>\n",
              "      \n",
              "  <style>\n",
              "    .colab-df-container {\n",
              "      display:flex;\n",
              "      flex-wrap:wrap;\n",
              "      gap: 12px;\n",
              "    }\n",
              "\n",
              "    .colab-df-convert {\n",
              "      background-color: #E8F0FE;\n",
              "      border: none;\n",
              "      border-radius: 50%;\n",
              "      cursor: pointer;\n",
              "      display: none;\n",
              "      fill: #1967D2;\n",
              "      height: 32px;\n",
              "      padding: 0 0 0 0;\n",
              "      width: 32px;\n",
              "    }\n",
              "\n",
              "    .colab-df-convert:hover {\n",
              "      background-color: #E2EBFA;\n",
              "      box-shadow: 0px 1px 2px rgba(60, 64, 67, 0.3), 0px 1px 3px 1px rgba(60, 64, 67, 0.15);\n",
              "      fill: #174EA6;\n",
              "    }\n",
              "\n",
              "    [theme=dark] .colab-df-convert {\n",
              "      background-color: #3B4455;\n",
              "      fill: #D2E3FC;\n",
              "    }\n",
              "\n",
              "    [theme=dark] .colab-df-convert:hover {\n",
              "      background-color: #434B5C;\n",
              "      box-shadow: 0px 1px 3px 1px rgba(0, 0, 0, 0.15);\n",
              "      filter: drop-shadow(0px 1px 2px rgba(0, 0, 0, 0.3));\n",
              "      fill: #FFFFFF;\n",
              "    }\n",
              "  </style>\n",
              "\n",
              "      <script>\n",
              "        const buttonEl =\n",
              "          document.querySelector('#df-c8908c88-99d4-4606-9066-8b5c6a7bf193 button.colab-df-convert');\n",
              "        buttonEl.style.display =\n",
              "          google.colab.kernel.accessAllowed ? 'block' : 'none';\n",
              "\n",
              "        async function convertToInteractive(key) {\n",
              "          const element = document.querySelector('#df-c8908c88-99d4-4606-9066-8b5c6a7bf193');\n",
              "          const dataTable =\n",
              "            await google.colab.kernel.invokeFunction('convertToInteractive',\n",
              "                                                     [key], {});\n",
              "          if (!dataTable) return;\n",
              "\n",
              "          const docLinkHtml = 'Like what you see? Visit the ' +\n",
              "            '<a target=\"_blank\" href=https://colab.research.google.com/notebooks/data_table.ipynb>data table notebook</a>'\n",
              "            + ' to learn more about interactive tables.';\n",
              "          element.innerHTML = '';\n",
              "          dataTable['output_type'] = 'display_data';\n",
              "          await google.colab.output.renderOutput(dataTable, element);\n",
              "          const docLink = document.createElement('div');\n",
              "          docLink.innerHTML = docLinkHtml;\n",
              "          element.appendChild(docLink);\n",
              "        }\n",
              "      </script>\n",
              "    </div>\n",
              "  </div>\n",
              "  "
            ]
          },
          "metadata": {},
          "execution_count": 185
        }
      ],
      "source": [
        "# Buraya kod yazın\n",
        "print(\"Critics love, but Users Hate\")\n",
        "all_sites[[\"FILM\", \"Rotten DIFF\"]].sort_values(\"Rotten DIFF\", ascending = False).head()"
      ]
    },
    {
      "cell_type": "code",
      "execution_count": null,
      "metadata": {
        "id": "gft7tcMK4bpM"
      },
      "outputs": [],
      "source": []
    },
    {
      "cell_type": "markdown",
      "metadata": {
        "id": "34tPI67H4bpN"
      },
      "source": [
        "## MetaCritic\n",
        "\n",
        "Burdan sonraki analizlerde sizi özgür bırakıyoruz. İstediğiniz her şeye bakabilir her türlü incelemeyi ve plot'u çizdirebilirsiniz. Ve en sonunda ulaşmanızı istediğimiz bir sonuç var. *Fandango* sitesi kullanıcıları film puanlamaları konusunda kayda değer ölçüde kandırıyor çünkü .... şeklinde bir karara varmanız ya da *Fandango* sitesi diğer sitelere benzer bir tutum sergiliyor ve herhangi bir yanlış yönlendirme yapmıyor çünkü .... şeklinde bir karara varmanız. \n",
        "\n",
        "Varacağınız bu kararı maddeler ve kanıtlar halinde notebook'unuzun en altında mantıklı bir şekilde delilleriyle açıklayın. Burada hangi karara varırsanız varın önemli olan ve bizim de EmKa Academy olarak dikkat edeceğimiz şey, ulaştığınız kararı düzgün bir şekilde açıklayabiliyor musunuz ? Asıl odaklandığımız nokta sonuçtan ziyade bu. O yüzden en altta maddeler halinde kararınızı açıklarken dikkatli davranın. "
      ]
    },
    {
      "cell_type": "code",
      "execution_count": null,
      "metadata": {
        "id": "Zz4gnGOX4bpN"
      },
      "outputs": [],
      "source": [
        "# Ulaşmamız gereken sonuca aklıma gelen ilk yöntem site ve kullanıcı incelemeleri arasındaki ilişkilere bakmak.\n",
        "# Buradan muhtemel fandango sitesinin puan şişirmesi sonucuna varacağım.\n",
        "# Bana en net bilgiyi vereceğini düşündüğüm yöntem farkların bir ısı haritasını çıkarmak."
      ]
    },
    {
      "cell_type": "code",
      "execution_count": null,
      "metadata": {
        "id": "qgsNaOLU4bpN",
        "colab": {
          "base_uri": "https://localhost:8080/",
          "height": 453
        },
        "outputId": "9ae20394-e913-41ca-94cd-91578a33d35b"
      },
      "outputs": [
        {
          "output_type": "execute_result",
          "data": {
            "text/plain": [
              "<Axes: >"
            ]
          },
          "metadata": {},
          "execution_count": 221
        },
        {
          "output_type": "display_data",
          "data": {
            "text/plain": [
              "<Figure size 640x480 with 2 Axes>"
            ],
            "image/png": "[encoded data removed]"
          },
          "metadata": {}
        }
      ],
      "source": [
        "sns.heatmap(fandango[[\"STARS\", \"RATING\", \"STARS_DIFF\"]].corr(numeric_only = True), cmap = \"coolwarm\", annot = True)"
      ]
    },
    {
      "cell_type": "code",
      "execution_count": null,
      "metadata": {
        "id": "ofYxO07U4bpO",
        "colab": {
          "base_uri": "https://localhost:8080/",
          "height": 453
        },
        "outputId": "71e66033-6220-4526-be10-d6efcfd2ba8e"
      },
      "outputs": [
        {
          "output_type": "execute_result",
          "data": {
            "text/plain": [
              "<Axes: >"
            ]
          },
          "metadata": {},
          "execution_count": 215
        },
        {
          "output_type": "display_data",
          "data": {
            "text/plain": [
              "<Figure size 640x480 with 2 Axes>"
            ],
            "image/png": "[encoded data removed]"
          },
          "metadata": {}
        }
      ],
      "source": [
        "corr_rotten = all_sites[[\"RottenTomatoes\",\"RottenTomatoes_User\",\"Rotten DIFF\"]].corr()\n",
        "sns.heatmap(corr_rotten, cmap = \"coolwarm\", annot = True)"
      ]
    },
    {
      "cell_type": "code",
      "source": [
        "all_sites[\"Meta DIFF\"] = all_sites[\"Metacritic\"]*0.1 - all_sites[\"Metacritic_User\"]\n",
        "corr_meta = all_sites[[\"Metacritic\",\"Metacritic_User\",\"Meta DIFF\"]].corr(numeric_only = True)\n",
        "sns.heatmap(corr_meta, cmap = \"coolwarm\", annot = True)"
      ],
      "metadata": {
        "colab": {
          "base_uri": "https://localhost:8080/",
          "height": 453
        },
        "id": "E2OsmuVn5beR",
        "outputId": "1a3fb7f1-ecbb-4d21-c106-253c18b0f3e1"
      },
      "execution_count": null,
      "outputs": [
        {
          "output_type": "execute_result",
          "data": {
            "text/plain": [
              "<Axes: >"
            ]
          },
          "metadata": {},
          "execution_count": 235
        },
        {
          "output_type": "display_data",
          "data": {
            "text/plain": [
              "<Figure size 640x480 with 2 Axes>"
            ],
            "image/png": "[encoded data removed]"
          },
          "metadata": {}
        }
      ]
    },
    {
      "cell_type": "code",
      "execution_count": null,
      "metadata": {
        "id": "fxldmH144bpO"
      },
      "outputs": [],
      "source": [
        "# IMDB sadece kullanıcıların oyunu yayınladığından kullandığım yöntemi deneyemeyeceğim."
      ]
    },
    {
      "cell_type": "code",
      "execution_count": null,
      "metadata": {
        "id": "f5qbTJgs4bpO"
      },
      "outputs": [],
      "source": [
        "# Korelasyon ilişkisinde 0-1 aralığı söz konusudur ve bu iki ucun birbirine yakınlığı bize yorum yapmamızı sağlar."
      ]
    },
    {
      "cell_type": "markdown",
      "source": [
        "![image.png](data:image/png;base64,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)"
      ],
      "metadata": {
        "id": "NhxtRTe-GT14"
      }
    },
    {
      "cell_type": "code",
      "source": [
        "# Grafiklerde dikatinizi çekmek istediğim nokta SİTE PUANLAMALARI VE FARKLAR (Grafiklerde sol alta tekabül ediyor)\n",
        "# Metacritic ve RottenTomatoes siteleri elde edilen farklara oldukça yakın oranlar verdi.\n",
        "# Fakat Fandango sitesi elde edilen farka çok uzakta.\n",
        "# Bu da bize Fandango sitesinin puan şişirmesi çıkarımı yaptırıyor."
      ],
      "metadata": {
        "id": "qapBLqKD_HFu"
      },
      "execution_count": null,
      "outputs": []
    },
    {
      "cell_type": "markdown",
      "metadata": {
        "id": "2qnbKkIX4bpO"
      },
      "source": [
        "# BAŞARILAR"
      ]
    },
    {
      "cell_type": "markdown",
      "metadata": {
        "id": "AoL2DfpN4bpP"
      },
      "source": [
        "----"
      ]
    }
  ],
  "metadata": {
    "anaconda-cloud": {},
    "kernelspec": {
      "display_name": "Python 3",
      "language": "python",
      "name": "python3"
    },
    "language_info": {
      "codemirror_mode": {
        "name": "ipython",
        "version": 3
      },
      "file_extension": ".py",
      "mimetype": "text/x-python",
      "name": "python",
      "nbconvert_exporter": "python",
      "pygments_lexer": "ipython3",
      "version": "3.10.10"
    },
    "colab": {
      "provenance": [],
      "include_colab_link": true
    }
  },
  "nbformat": 4,
  "nbformat_minor": 0
}