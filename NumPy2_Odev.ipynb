{
  "nbformat": 4,
  "nbformat_minor": 0,
  "metadata": {
    "colab": {
      "provenance": [],
      "authorship_tag": "ABX9TyP5i1fLcqwB12TwG0NyD6E4",
      "include_colab_link": true
    },
    "kernelspec": {
      "name": "python3",
      "display_name": "Python 3"
    },
    "language_info": {
      "name": "python"
    }
  },
  "cells": [
    {
      "cell_type": "markdown",
      "metadata": {
        "id": "view-in-github",
        "colab_type": "text"
      },
      "source": [
        "<a href=\"https://colab.research.google.com/github/hasanocal7/DS-Libs/blob/main/NumPy2_Odev.ipynb\" target=\"_parent\"><img src=\"https://colab.research.google.com/assets/colab-badge.svg\" alt=\"Open In Colab\"/></a>"
      ]
    },
    {
      "cell_type": "code",
      "execution_count": 1,
      "metadata": {
        "id": "aTdv1PM0xCQB"
      },
      "outputs": [],
      "source": [
        "import numpy as np"
      ]
    },
    {
      "cell_type": "code",
      "source": [
        "#1\n",
        "arr=np.arange(30).reshape(15,2)\n",
        "arr"
      ],
      "metadata": {
        "colab": {
          "base_uri": "https://localhost:8080/"
        },
        "id": "UQPdK3PiyXyR",
        "outputId": "a6bf667a-346a-47a3-a2e8-2936e5a50a2b"
      },
      "execution_count": 4,
      "outputs": [
        {
          "output_type": "execute_result",
          "data": {
            "text/plain": [
              "array([[ 0,  1],\n",
              "       [ 2,  3],\n",
              "       [ 4,  5],\n",
              "       [ 6,  7],\n",
              "       [ 8,  9],\n",
              "       [10, 11],\n",
              "       [12, 13],\n",
              "       [14, 15],\n",
              "       [16, 17],\n",
              "       [18, 19],\n",
              "       [20, 21],\n",
              "       [22, 23],\n",
              "       [24, 25],\n",
              "       [26, 27],\n",
              "       [28, 29]])"
            ]
          },
          "metadata": {},
          "execution_count": 4
        }
      ]
    },
    {
      "cell_type": "code",
      "source": [
        "#2\n",
        "arr = np.random.randint(0,10,60).reshape(2,5,-1)\n",
        "print(f\"{arr} \\n\\n Dimension: {arr.ndim} \\n Shape: {arr.shape}\")"
      ],
      "metadata": {
        "colab": {
          "base_uri": "https://localhost:8080/"
        },
        "id": "3FJSdYMbyudN",
        "outputId": "4d3e709b-b0bb-42c4-b08e-34c3322949e1"
      },
      "execution_count": 17,
      "outputs": [
        {
          "output_type": "stream",
          "name": "stdout",
          "text": [
            "[[[7 1 3 5 5 6]\n",
            "  [7 1 7 0 3 9]\n",
            "  [6 9 9 8 0 7]\n",
            "  [8 3 1 8 3 9]\n",
            "  [9 4 0 7 9 4]]\n",
            "\n",
            " [[7 9 6 1 6 0]\n",
            "  [1 8 3 6 0 7]\n",
            "  [0 1 6 2 1 6]\n",
            "  [9 7 1 2 7 2]\n",
            "  [8 9 4 8 4 6]]] \n",
            "\n",
            " Dimension: 3 \n",
            " Shape: (2, 5, 6)\n"
          ]
        }
      ]
    },
    {
      "cell_type": "code",
      "source": [
        "#3\n",
        "arr = np.random.randint(0,10,(5,4))\n",
        "arr"
      ],
      "metadata": {
        "colab": {
          "base_uri": "https://localhost:8080/"
        },
        "id": "j6j-8aJm0yOi",
        "outputId": "69a8360e-fa65-499e-dfe7-76902b17ae6b"
      },
      "execution_count": 21,
      "outputs": [
        {
          "output_type": "execute_result",
          "data": {
            "text/plain": [
              "array([[3, 3, 1, 3],\n",
              "       [1, 2, 8, 7],\n",
              "       [0, 4, 9, 6],\n",
              "       [2, 6, 0, 7],\n",
              "       [4, 4, 8, 7]])"
            ]
          },
          "metadata": {},
          "execution_count": 21
        }
      ]
    },
    {
      "cell_type": "code",
      "source": [
        "arr=arr.reshape(-1)\n",
        "print(f\"{arr} \\n\\n Dimension: {arr.ndim} \\n Shape: {arr.shape}\")"
      ],
      "metadata": {
        "colab": {
          "base_uri": "https://localhost:8080/"
        },
        "id": "4BG33PYS1VV9",
        "outputId": "fb1631a4-4281-444b-9c05-3e74fe86d285"
      },
      "execution_count": 23,
      "outputs": [
        {
          "output_type": "stream",
          "name": "stdout",
          "text": [
            "[3 3 1 3 1 2 8 7 0 4 9 6 2 6 0 7 4 4 8 7] \n",
            "\n",
            " Dimension: 1 \n",
            " Shape: (20,)\n"
          ]
        }
      ]
    },
    {
      "cell_type": "code",
      "source": [
        "#4\n",
        "arr= np.array([[1,2,3],[4,5,6]])\n",
        "arr"
      ],
      "metadata": {
        "colab": {
          "base_uri": "https://localhost:8080/"
        },
        "id": "GtAKl5Hb1iiT",
        "outputId": "e6773d64-a7ab-423f-b4a9-5f1f917e2638"
      },
      "execution_count": 24,
      "outputs": [
        {
          "output_type": "execute_result",
          "data": {
            "text/plain": [
              "array([[1, 2, 3],\n",
              "       [4, 5, 6]])"
            ]
          },
          "metadata": {},
          "execution_count": 24
        }
      ]
    },
    {
      "cell_type": "code",
      "source": [
        "for i in np.nditer(arr):print(i)"
      ],
      "metadata": {
        "colab": {
          "base_uri": "https://localhost:8080/"
        },
        "id": "raaYKSGD122V",
        "outputId": "69e69027-f184-4cfc-bb8e-c0931170e043"
      },
      "execution_count": 33,
      "outputs": [
        {
          "output_type": "stream",
          "name": "stdout",
          "text": [
            "1\n",
            "2\n",
            "3\n",
            "4\n",
            "5\n",
            "6\n"
          ]
        }
      ]
    },
    {
      "cell_type": "code",
      "source": [
        "for i in arr:\n",
        "  for j in i :print(j)"
      ],
      "metadata": {
        "colab": {
          "base_uri": "https://localhost:8080/"
        },
        "id": "PBGKuhAU3yVu",
        "outputId": "e666a818-b9ec-4b24-c96d-de1fb8711b71"
      },
      "execution_count": 35,
      "outputs": [
        {
          "output_type": "stream",
          "name": "stdout",
          "text": [
            "1\n",
            "2\n",
            "3\n",
            "4\n",
            "5\n",
            "6\n"
          ]
        }
      ]
    },
    {
      "cell_type": "code",
      "source": [
        "#5\n",
        "arr1 = np.arange(5,31,5)\n",
        "arr2 = np.arange(1,7).reshape(3,2)"
      ],
      "metadata": {
        "id": "lztEUnMp4AzI"
      },
      "execution_count": 41,
      "outputs": []
    },
    {
      "cell_type": "code",
      "source": [
        "arr1[1] + arr2[0][1]"
      ],
      "metadata": {
        "colab": {
          "base_uri": "https://localhost:8080/"
        },
        "id": "8nw9GU7V5MSl",
        "outputId": "42e73388-dc80-450e-c40f-fe7aab8a7754"
      },
      "execution_count": 43,
      "outputs": [
        {
          "output_type": "execute_result",
          "data": {
            "text/plain": [
              "12"
            ]
          },
          "metadata": {},
          "execution_count": 43
        }
      ]
    },
    {
      "cell_type": "code",
      "source": [
        "arr1[1] - arr2[0][1]"
      ],
      "metadata": {
        "colab": {
          "base_uri": "https://localhost:8080/"
        },
        "id": "vyaj8Ep55aGS",
        "outputId": "5740b162-84c5-4645-fa7c-67d761e94c5f"
      },
      "execution_count": 44,
      "outputs": [
        {
          "output_type": "execute_result",
          "data": {
            "text/plain": [
              "8"
            ]
          },
          "metadata": {},
          "execution_count": 44
        }
      ]
    },
    {
      "cell_type": "code",
      "source": [
        "arr1[1] * arr2[0][1]"
      ],
      "metadata": {
        "colab": {
          "base_uri": "https://localhost:8080/"
        },
        "id": "j8LInF5N5eMw",
        "outputId": "f03458a0-aded-4632-8240-647ca301115d"
      },
      "execution_count": 45,
      "outputs": [
        {
          "output_type": "execute_result",
          "data": {
            "text/plain": [
              "20"
            ]
          },
          "metadata": {},
          "execution_count": 45
        }
      ]
    },
    {
      "cell_type": "code",
      "source": [
        "arr1[1] / arr2[0][1]"
      ],
      "metadata": {
        "colab": {
          "base_uri": "https://localhost:8080/"
        },
        "id": "YLEUFci55gBy",
        "outputId": "eff8b2ad-218b-4c8c-97f4-da13c74ba008"
      },
      "execution_count": 46,
      "outputs": [
        {
          "output_type": "execute_result",
          "data": {
            "text/plain": [
              "5.0"
            ]
          },
          "metadata": {},
          "execution_count": 46
        }
      ]
    },
    {
      "cell_type": "code",
      "source": [
        "#6\n",
        "arr = np.random.randint(0,100,10)\n",
        "print(f\"Toplam: {arr.sum()}\\nOrtalama: {arr.mean()}\\nVaryansı: {arr.var()}\\nStandart Sapma: {arr.std()}\")"
      ],
      "metadata": {
        "colab": {
          "base_uri": "https://localhost:8080/"
        },
        "id": "I4m8_LYl5iFb",
        "outputId": "710ab40a-4fd3-4561-bc32-503e520a3fde"
      },
      "execution_count": 47,
      "outputs": [
        {
          "output_type": "stream",
          "name": "stdout",
          "text": [
            "Toplam: 533\n",
            "Ortalama: 53.3\n",
            "Varyansı: 841.4100000000001\n",
            "Standart Sapma: 29.00706810417075\n"
          ]
        }
      ]
    },
    {
      "cell_type": "code",
      "source": [
        "#7\n",
        "arr1 = np.arange(20)\n",
        "arr2 = np.arange(500,531)\n",
        "np.concatenate([arr1,arr2])"
      ],
      "metadata": {
        "colab": {
          "base_uri": "https://localhost:8080/"
        },
        "id": "fYZEa5Cj7DFf",
        "outputId": "3f330b69-b679-4851-a9d7-1df47b47e4aa"
      },
      "execution_count": 48,
      "outputs": [
        {
          "output_type": "execute_result",
          "data": {
            "text/plain": [
              "array([  0,   1,   2,   3,   4,   5,   6,   7,   8,   9,  10,  11,  12,\n",
              "        13,  14,  15,  16,  17,  18,  19, 500, 501, 502, 503, 504, 505,\n",
              "       506, 507, 508, 509, 510, 511, 512, 513, 514, 515, 516, 517, 518,\n",
              "       519, 520, 521, 522, 523, 524, 525, 526, 527, 528, 529, 530])"
            ]
          },
          "metadata": {},
          "execution_count": 48
        }
      ]
    },
    {
      "cell_type": "code",
      "source": [
        "#8\n",
        "arr = np.arange(15,51)\n",
        "att = np.arange(10,101)\n",
        "ayy = np.concatenate([arr,att])\n",
        "ayy[25:51] = 888\n",
        "ayy"
      ],
      "metadata": {
        "colab": {
          "base_uri": "https://localhost:8080/"
        },
        "id": "Lk_3BTyT7fDL",
        "outputId": "b133e4d4-893e-4b7f-b668-cd0b530e90f0"
      },
      "execution_count": 49,
      "outputs": [
        {
          "output_type": "execute_result",
          "data": {
            "text/plain": [
              "array([ 15,  16,  17,  18,  19,  20,  21,  22,  23,  24,  25,  26,  27,\n",
              "        28,  29,  30,  31,  32,  33,  34,  35,  36,  37,  38,  39, 888,\n",
              "       888, 888, 888, 888, 888, 888, 888, 888, 888, 888, 888, 888, 888,\n",
              "       888, 888, 888, 888, 888, 888, 888, 888, 888, 888, 888, 888,  25,\n",
              "        26,  27,  28,  29,  30,  31,  32,  33,  34,  35,  36,  37,  38,\n",
              "        39,  40,  41,  42,  43,  44,  45,  46,  47,  48,  49,  50,  51,\n",
              "        52,  53,  54,  55,  56,  57,  58,  59,  60,  61,  62,  63,  64,\n",
              "        65,  66,  67,  68,  69,  70,  71,  72,  73,  74,  75,  76,  77,\n",
              "        78,  79,  80,  81,  82,  83,  84,  85,  86,  87,  88,  89,  90,\n",
              "        91,  92,  93,  94,  95,  96,  97,  98,  99, 100])"
            ]
          },
          "metadata": {},
          "execution_count": 49
        }
      ]
    },
    {
      "cell_type": "code",
      "source": [
        "#9\n",
        "arr = np.arange(40).reshape(8,5)\n",
        "att = np.arange(320,360).reshape(8,5)\n",
        "con1= np.concatenate([arr,att],axis=0)\n",
        "con2= np.concatenate([arr,att],axis=1)\n",
        "print(f\"{con1} \\n\\n Dimension: {con1.ndim} \\n Shape: {con1.shape}\")\n",
        "print(f\"{con2} \\n\\n Dimension: {con2.ndim} \\n Shape: {con2.shape}\")"
      ],
      "metadata": {
        "colab": {
          "base_uri": "https://localhost:8080/"
        },
        "id": "jmnTuO_U8GOf",
        "outputId": "8936f72e-2bc0-46df-f00c-ce320e3ff737"
      },
      "execution_count": 72,
      "outputs": [
        {
          "output_type": "stream",
          "name": "stdout",
          "text": [
            "[[  0   1   2   3   4]\n",
            " [  5   6   7   8   9]\n",
            " [ 10  11  12  13  14]\n",
            " [ 15  16  17  18  19]\n",
            " [ 20  21  22  23  24]\n",
            " [ 25  26  27  28  29]\n",
            " [ 30  31  32  33  34]\n",
            " [ 35  36  37  38  39]\n",
            " [320 321 322 323 324]\n",
            " [325 326 327 328 329]\n",
            " [330 331 332 333 334]\n",
            " [335 336 337 338 339]\n",
            " [340 341 342 343 344]\n",
            " [345 346 347 348 349]\n",
            " [350 351 352 353 354]\n",
            " [355 356 357 358 359]] \n",
            "\n",
            " Dimension: 2 \n",
            " Shape: (16, 5)\n",
            "[[  0   1   2   3   4 320 321 322 323 324]\n",
            " [  5   6   7   8   9 325 326 327 328 329]\n",
            " [ 10  11  12  13  14 330 331 332 333 334]\n",
            " [ 15  16  17  18  19 335 336 337 338 339]\n",
            " [ 20  21  22  23  24 340 341 342 343 344]\n",
            " [ 25  26  27  28  29 345 346 347 348 349]\n",
            " [ 30  31  32  33  34 350 351 352 353 354]\n",
            " [ 35  36  37  38  39 355 356 357 358 359]] \n",
            "\n",
            " Dimension: 2 \n",
            " Shape: (8, 10)\n"
          ]
        }
      ]
    },
    {
      "cell_type": "code",
      "source": [
        "#10  # Axis = 2 de concatenate ve stack işlemini kullanmam için iki array in de dimension ı 3 olması gerek yoksa hata alıyor\n",
        "arr = arr.reshape(4,2,5)\n",
        "att = att.reshape(4,2,5)\n",
        "con3 = np.concatenate([arr,att],axis=2)\n",
        "stk = np.stack([arr,att],axis=2)\n",
        "print(f\"{con3} \\n\\n Dimension: {con3.ndim} \\n Shape: {con3.shape}\")\n",
        "print(f\"{stk} \\n\\n Dimension: {stk.ndim} \\n Shape: {stk.shape}\")"
      ],
      "metadata": {
        "colab": {
          "base_uri": "https://localhost:8080/"
        },
        "id": "yjJg9VmS9u7K",
        "outputId": "b6e5d2e8-3b70-4214-fa15-37636d046a58"
      },
      "execution_count": 73,
      "outputs": [
        {
          "output_type": "stream",
          "name": "stdout",
          "text": [
            "[[[  0   1   2   3   4 320 321 322 323 324]\n",
            "  [  5   6   7   8   9 325 326 327 328 329]]\n",
            "\n",
            " [[ 10  11  12  13  14 330 331 332 333 334]\n",
            "  [ 15  16  17  18  19 335 336 337 338 339]]\n",
            "\n",
            " [[ 20  21  22  23  24 340 341 342 343 344]\n",
            "  [ 25  26  27  28  29 345 346 347 348 349]]\n",
            "\n",
            " [[ 30  31  32  33  34 350 351 352 353 354]\n",
            "  [ 35  36  37  38  39 355 356 357 358 359]]] \n",
            "\n",
            " Dimension: 3 \n",
            " Shape: (4, 2, 10)\n",
            "[[[[  0   1   2   3   4]\n",
            "   [320 321 322 323 324]]\n",
            "\n",
            "  [[  5   6   7   8   9]\n",
            "   [325 326 327 328 329]]]\n",
            "\n",
            "\n",
            " [[[ 10  11  12  13  14]\n",
            "   [330 331 332 333 334]]\n",
            "\n",
            "  [[ 15  16  17  18  19]\n",
            "   [335 336 337 338 339]]]\n",
            "\n",
            "\n",
            " [[[ 20  21  22  23  24]\n",
            "   [340 341 342 343 344]]\n",
            "\n",
            "  [[ 25  26  27  28  29]\n",
            "   [345 346 347 348 349]]]\n",
            "\n",
            "\n",
            " [[[ 30  31  32  33  34]\n",
            "   [350 351 352 353 354]]\n",
            "\n",
            "  [[ 35  36  37  38  39]\n",
            "   [355 356 357 358 359]]]] \n",
            "\n",
            " Dimension: 4 \n",
            " Shape: (4, 2, 2, 5)\n"
          ]
        }
      ]
    },
    {
      "cell_type": "code",
      "source": [
        "#11\n",
        "arr = np.array([1, 20, 25, 4, 4, 5, 4, 4, 1, 6, 9, 12, 1, 5])\n",
        "np.where(arr == 5)"
      ],
      "metadata": {
        "colab": {
          "base_uri": "https://localhost:8080/"
        },
        "id": "H_6m9DxK_VQj",
        "outputId": "9cbc92cf-1766-4025-abb8-f9d0b73773a5"
      },
      "execution_count": 74,
      "outputs": [
        {
          "output_type": "execute_result",
          "data": {
            "text/plain": [
              "(array([ 5, 13]),)"
            ]
          },
          "metadata": {},
          "execution_count": 74
        }
      ]
    },
    {
      "cell_type": "code",
      "source": [
        "#12\n",
        "np.where(arr %2 == 0)"
      ],
      "metadata": {
        "colab": {
          "base_uri": "https://localhost:8080/"
        },
        "id": "uTCLCcXW_0A_",
        "outputId": "665618d3-2973-4954-ec7a-7d3a360bcf8b"
      },
      "execution_count": 75,
      "outputs": [
        {
          "output_type": "execute_result",
          "data": {
            "text/plain": [
              "(array([ 1,  3,  4,  6,  7,  9, 11]),)"
            ]
          },
          "metadata": {},
          "execution_count": 75
        }
      ]
    },
    {
      "cell_type": "code",
      "source": [
        "#13\n",
        "np.where(arr > 4)"
      ],
      "metadata": {
        "colab": {
          "base_uri": "https://localhost:8080/"
        },
        "id": "NFKKOJITAAAA",
        "outputId": "7316383b-f070-4ec8-efd5-0bf38364c7ff"
      },
      "execution_count": 76,
      "outputs": [
        {
          "output_type": "execute_result",
          "data": {
            "text/plain": [
              "(array([ 1,  2,  5,  9, 10, 11, 13]),)"
            ]
          },
          "metadata": {},
          "execution_count": 76
        }
      ]
    },
    {
      "cell_type": "code",
      "source": [
        "#14\n",
        "np.where(arr %5 == 0)"
      ],
      "metadata": {
        "colab": {
          "base_uri": "https://localhost:8080/"
        },
        "id": "aMsCWHq2AEhF",
        "outputId": "b5432e48-977a-4367-d6db-025eee33343e"
      },
      "execution_count": 77,
      "outputs": [
        {
          "output_type": "execute_result",
          "data": {
            "text/plain": [
              "(array([ 1,  2,  5, 13]),)"
            ]
          },
          "metadata": {},
          "execution_count": 77
        }
      ]
    },
    {
      "cell_type": "code",
      "source": [
        "#15\n",
        "np.random.randint(85,101)"
      ],
      "metadata": {
        "colab": {
          "base_uri": "https://localhost:8080/"
        },
        "id": "AGwqf0J0APQC",
        "outputId": "1a0c22bf-6044-4bb5-c034-b1f96fa4f62d"
      },
      "execution_count": 78,
      "outputs": [
        {
          "output_type": "execute_result",
          "data": {
            "text/plain": [
              "88"
            ]
          },
          "metadata": {},
          "execution_count": 78
        }
      ]
    },
    {
      "cell_type": "code",
      "source": [
        "#16\n",
        "np.random.randint(10,100,(3,3))"
      ],
      "metadata": {
        "colab": {
          "base_uri": "https://localhost:8080/"
        },
        "id": "1iScLB_PAe4X",
        "outputId": "eee85b4e-3ca2-4665-a42d-dc4619a57827"
      },
      "execution_count": 79,
      "outputs": [
        {
          "output_type": "execute_result",
          "data": {
            "text/plain": [
              "array([[72, 10, 73],\n",
              "       [41, 95, 47],\n",
              "       [56, 81, 53]])"
            ]
          },
          "metadata": {},
          "execution_count": 79
        }
      ]
    },
    {
      "cell_type": "code",
      "source": [
        "#17\n",
        "np.random.choice(np.arange(35,60))"
      ],
      "metadata": {
        "colab": {
          "base_uri": "https://localhost:8080/"
        },
        "id": "4sCgYPRDA4Ec",
        "outputId": "763d30a0-e3b4-4c4e-bc7a-60b9f0c1ee8b"
      },
      "execution_count": 84,
      "outputs": [
        {
          "output_type": "execute_result",
          "data": {
            "text/plain": [
              "40"
            ]
          },
          "metadata": {},
          "execution_count": 84
        }
      ]
    },
    {
      "cell_type": "code",
      "source": [
        "#18\n",
        "arr = np.empty((2,5))"
      ],
      "metadata": {
        "id": "EGtgcnW9ById"
      },
      "execution_count": 116,
      "outputs": []
    },
    {
      "cell_type": "code",
      "source": [
        "for i in range(arr.shape[0]):\n",
        "  for j in range(arr.shape[1]):\n",
        "    arr[i][j] = np.random.choice([3,8,10,53])\n",
        "arr = arr.astype(int)\n",
        "arr    "
      ],
      "metadata": {
        "colab": {
          "base_uri": "https://localhost:8080/"
        },
        "id": "GyvcgEpvIh6N",
        "outputId": "a291094d-3718-4431-9609-e93de03fe948"
      },
      "execution_count": 120,
      "outputs": [
        {
          "output_type": "execute_result",
          "data": {
            "text/plain": [
              "array([[ 3, 10, 10, 53, 10],\n",
              "       [10, 53,  8, 53,  3]])"
            ]
          },
          "metadata": {},
          "execution_count": 120
        }
      ]
    }
  ]
}