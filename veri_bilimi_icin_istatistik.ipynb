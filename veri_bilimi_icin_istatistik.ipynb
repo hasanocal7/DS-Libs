{
  "cells": [
    {
      "cell_type": "markdown",
      "metadata": {
        "id": "view-in-github",
        "colab_type": "text"
      },
      "source": [
        "<a href=\"https://colab.research.google.com/github/hasanocal7/DS-Libs/blob/main/veri_bilimi_icin_istatistik.ipynb\" target=\"_parent\"><img src=\"https://colab.research.google.com/assets/colab-badge.svg\" alt=\"Open In Colab\"/></a>"
      ]
    },
    {
      "cell_type": "markdown",
      "metadata": {
        "id": "WTZGXp7-d45E"
      },
      "source": [
        "# Veri Bilimi için İstatistik"
      ]
    },
    {
      "cell_type": "markdown",
      "metadata": {
        "id": "lK1ofCBOd45T"
      },
      "source": [
        "# Örnek Teorisi"
      ]
    },
    {
      "cell_type": "code",
      "execution_count": 1,
      "metadata": {
        "id": "rq9AKAv6d45T"
      },
      "outputs": [],
      "source": [
        "import numpy as np"
      ]
    },
    {
      "cell_type": "code",
      "execution_count": 2,
      "metadata": {
        "id": "lZv4Nqxpd45U"
      },
      "outputs": [],
      "source": [
        "populasyon = np.random.randint(0, 80, 10000)"
      ]
    },
    {
      "cell_type": "code",
      "execution_count": 3,
      "metadata": {
        "colab": {
          "base_uri": "https://localhost:8080/"
        },
        "id": "BfH68aSsd45V",
        "outputId": "ffd9a476-43fb-4da3-e305-b51c30523511"
      },
      "outputs": [
        {
          "output_type": "execute_result",
          "data": {
            "text/plain": [
              "array([33, 55, 21, 74, 40, 56, 61,  0, 15, 17])"
            ]
          },
          "metadata": {},
          "execution_count": 3
        }
      ],
      "source": [
        "populasyon[0:10]"
      ]
    },
    {
      "cell_type": "code",
      "execution_count": 4,
      "metadata": {
        "colab": {
          "base_uri": "https://localhost:8080/"
        },
        "id": "h9g3txxzd45W",
        "outputId": "d1e432f8-ad57-42e5-a938-4883f04457b4"
      },
      "outputs": [
        {
          "output_type": "execute_result",
          "data": {
            "text/plain": [
              "array([61, 48, 17, 74, 64, 37, 71, 56, 24, 72])"
            ]
          },
          "metadata": {},
          "execution_count": 4
        }
      ],
      "source": [
        "#orneklem cekimi\n",
        "np.random.seed(115)\n",
        "orneklem = np.random.choice(a = populasyon, size = 100)\n",
        "orneklem[0:10]"
      ]
    },
    {
      "cell_type": "code",
      "execution_count": 5,
      "metadata": {
        "colab": {
          "base_uri": "https://localhost:8080/"
        },
        "id": "GmMKp4xKd45W",
        "outputId": "f7619fd3-163c-4cf4-8b79-af003d7e1e08"
      },
      "outputs": [
        {
          "output_type": "execute_result",
          "data": {
            "text/plain": [
              "40.71"
            ]
          },
          "metadata": {},
          "execution_count": 5
        }
      ],
      "source": [
        "orneklem.mean()"
      ]
    },
    {
      "cell_type": "code",
      "execution_count": 6,
      "metadata": {
        "colab": {
          "base_uri": "https://localhost:8080/"
        },
        "id": "V1KnM1DId45X",
        "outputId": "736dfdd4-2d67-4d89-b83b-2bfe0390d93f"
      },
      "outputs": [
        {
          "output_type": "execute_result",
          "data": {
            "text/plain": [
              "39.9547"
            ]
          },
          "metadata": {},
          "execution_count": 6
        }
      ],
      "source": [
        "populasyon.mean()"
      ]
    },
    {
      "cell_type": "code",
      "execution_count": 7,
      "metadata": {
        "id": "K8thVRwLd45X"
      },
      "outputs": [],
      "source": [
        "#orneklem dağılımı"
      ]
    },
    {
      "cell_type": "code",
      "execution_count": 8,
      "metadata": {
        "id": "tG95LOJYd45Y"
      },
      "outputs": [],
      "source": [
        "np.random.seed(10)\n",
        "orneklem1 = np.random.choice(a = populasyon, size = 100)\n",
        "orneklem2 = np.random.choice(a = populasyon, size = 100)\n",
        "orneklem3 = np.random.choice(a = populasyon, size = 100)\n",
        "orneklem4 = np.random.choice(a = populasyon, size = 100)\n",
        "orneklem5 = np.random.choice(a = populasyon, size = 100)\n",
        "orneklem6 = np.random.choice(a = populasyon, size = 100)\n",
        "orneklem7 = np.random.choice(a = populasyon, size = 100)\n",
        "orneklem8 = np.random.choice(a = populasyon, size = 100)\n",
        "orneklem9 = np.random.choice(a = populasyon, size = 100)\n",
        "orneklem10 = np.random.choice(a = populasyon, size = 100)"
      ]
    },
    {
      "cell_type": "code",
      "execution_count": 9,
      "metadata": {
        "colab": {
          "base_uri": "https://localhost:8080/"
        },
        "id": "oMgt-_Gad45Y",
        "outputId": "8e4bcd6a-d230-48d5-a5dd-51b1b64b3b3f"
      },
      "outputs": [
        {
          "output_type": "execute_result",
          "data": {
            "text/plain": [
              "40.538"
            ]
          },
          "metadata": {},
          "execution_count": 9
        }
      ],
      "source": [
        "(orneklem1.mean() + orneklem2.mean() + orneklem3.mean() + orneklem4.mean() + orneklem5.mean() \n",
        "+ orneklem6.mean() + orneklem7.mean() + orneklem8.mean() + orneklem9.mean() + orneklem10.mean() )  / 10"
      ]
    },
    {
      "cell_type": "code",
      "execution_count": 10,
      "metadata": {
        "colab": {
          "base_uri": "https://localhost:8080/"
        },
        "id": "iiV3pflKd45Z",
        "outputId": "a9263aca-40e2-4004-9a93-de2f246a6144"
      },
      "outputs": [
        {
          "output_type": "execute_result",
          "data": {
            "text/plain": [
              "42.5"
            ]
          },
          "metadata": {},
          "execution_count": 10
        }
      ],
      "source": [
        "orneklem1.mean()"
      ]
    },
    {
      "cell_type": "code",
      "execution_count": 11,
      "metadata": {
        "colab": {
          "base_uri": "https://localhost:8080/"
        },
        "id": "_Yz-mst9d45Z",
        "outputId": "f35efd34-fb78-4c2c-8c8c-9ddeb8915e43"
      },
      "outputs": [
        {
          "output_type": "execute_result",
          "data": {
            "text/plain": [
              "39.33"
            ]
          },
          "metadata": {},
          "execution_count": 11
        }
      ],
      "source": [
        "orneklem2.mean()"
      ]
    },
    {
      "cell_type": "markdown",
      "metadata": {
        "id": "DpyMxqzNd45Z"
      },
      "source": [
        "# Betimsel İstatistikler"
      ]
    },
    {
      "cell_type": "code",
      "execution_count": 12,
      "metadata": {
        "colab": {
          "base_uri": "https://localhost:8080/",
          "height": 206
        },
        "id": "QqVbI4nSd45a",
        "outputId": "31d70bca-c3a7-477f-eb12-a161677c207b"
      },
      "outputs": [
        {
          "output_type": "execute_result",
          "data": {
            "text/plain": [
              "   total_bill   tip     sex smoker  day    time  size\n",
              "0       16.99  1.01  Female     No  Sun  Dinner     2\n",
              "1       10.34  1.66    Male     No  Sun  Dinner     3\n",
              "2       21.01  3.50    Male     No  Sun  Dinner     3\n",
              "3       23.68  3.31    Male     No  Sun  Dinner     2\n",
              "4       24.59  3.61  Female     No  Sun  Dinner     4"
            ],
            "text/html": [
              "\n",
              "  <div id=\"df-e39ae19f-7130-4c65-a575-acc27e0d57b6\">\n",
              "    <div class=\"colab-df-container\">\n",
              "      <div>\n",
              "<style scoped>\n",
              "    .dataframe tbody tr th:only-of-type {\n",
              "        vertical-align: middle;\n",
              "    }\n",
              "\n",
              "    .dataframe tbody tr th {\n",
              "        vertical-align: top;\n",
              "    }\n",
              "\n",
              "    .dataframe thead th {\n",
              "        text-align: right;\n",
              "    }\n",
              "</style>\n",
              "<table border=\"1\" class=\"dataframe\">\n",
              "  <thead>\n",
              "    <tr style=\"text-align: right;\">\n",
              "      <th></th>\n",
              "      <th>total_bill</th>\n",
              "      <th>tip</th>\n",
              "      <th>sex</th>\n",
              "      <th>smoker</th>\n",
              "      <th>day</th>\n",
              "      <th>time</th>\n",
              "      <th>size</th>\n",
              "    </tr>\n",
              "  </thead>\n",
              "  <tbody>\n",
              "    <tr>\n",
              "      <th>0</th>\n",
              "      <td>16.99</td>\n",
              "      <td>1.01</td>\n",
              "      <td>Female</td>\n",
              "      <td>No</td>\n",
              "      <td>Sun</td>\n",
              "      <td>Dinner</td>\n",
              "      <td>2</td>\n",
              "    </tr>\n",
              "    <tr>\n",
              "      <th>1</th>\n",
              "      <td>10.34</td>\n",
              "      <td>1.66</td>\n",
              "      <td>Male</td>\n",
              "      <td>No</td>\n",
              "      <td>Sun</td>\n",
              "      <td>Dinner</td>\n",
              "      <td>3</td>\n",
              "    </tr>\n",
              "    <tr>\n",
              "      <th>2</th>\n",
              "      <td>21.01</td>\n",
              "      <td>3.50</td>\n",
              "      <td>Male</td>\n",
              "      <td>No</td>\n",
              "      <td>Sun</td>\n",
              "      <td>Dinner</td>\n",
              "      <td>3</td>\n",
              "    </tr>\n",
              "    <tr>\n",
              "      <th>3</th>\n",
              "      <td>23.68</td>\n",
              "      <td>3.31</td>\n",
              "      <td>Male</td>\n",
              "      <td>No</td>\n",
              "      <td>Sun</td>\n",
              "      <td>Dinner</td>\n",
              "      <td>2</td>\n",
              "    </tr>\n",
              "    <tr>\n",
              "      <th>4</th>\n",
              "      <td>24.59</td>\n",
              "      <td>3.61</td>\n",
              "      <td>Female</td>\n",
              "      <td>No</td>\n",
              "      <td>Sun</td>\n",
              "      <td>Dinner</td>\n",
              "      <td>4</td>\n",
              "    </tr>\n",
              "  </tbody>\n",
              "</table>\n",
              "</div>\n",
              "      <button class=\"colab-df-convert\" onclick=\"convertToInteractive('df-e39ae19f-7130-4c65-a575-acc27e0d57b6')\"\n",
              "              title=\"Convert this dataframe to an interactive table.\"\n",
              "              style=\"display:none;\">\n",
              "        \n",
              "  <svg xmlns=\"http://www.w3.org/2000/svg\" height=\"24px\"viewBox=\"0 0 24 24\"\n",
              "       width=\"24px\">\n",
              "    <path d=\"M0 0h24v24H0V0z\" fill=\"none\"/>\n",
              "    <path d=\"M18.56 5.44l.94 2.06.94-2.06 2.06-.94-2.06-.94-.94-2.06-.94 2.06-2.06.94zm-11 1L8.5 8.5l.94-2.06 2.06-.94-2.06-.94L8.5 2.5l-.94 2.06-2.06.94zm10 10l.94 2.06.94-2.06 2.06-.94-2.06-.94-.94-2.06-.94 2.06-2.06.94z\"/><path d=\"M17.41 7.96l-1.37-1.37c-.4-.4-.92-.59-1.43-.59-.52 0-1.04.2-1.43.59L10.3 9.45l-7.72 7.72c-.78.78-.78 2.05 0 2.83L4 21.41c.39.39.9.59 1.41.59.51 0 1.02-.2 1.41-.59l7.78-7.78 2.81-2.81c.8-.78.8-2.07 0-2.86zM5.41 20L4 18.59l7.72-7.72 1.47 1.35L5.41 20z\"/>\n",
              "  </svg>\n",
              "      </button>\n",
              "      \n",
              "  <style>\n",
              "    .colab-df-container {\n",
              "      display:flex;\n",
              "      flex-wrap:wrap;\n",
              "      gap: 12px;\n",
              "    }\n",
              "\n",
              "    .colab-df-convert {\n",
              "      background-color: #E8F0FE;\n",
              "      border: none;\n",
              "      border-radius: 50%;\n",
              "      cursor: pointer;\n",
              "      display: none;\n",
              "      fill: #1967D2;\n",
              "      height: 32px;\n",
              "      padding: 0 0 0 0;\n",
              "      width: 32px;\n",
              "    }\n",
              "\n",
              "    .colab-df-convert:hover {\n",
              "      background-color: #E2EBFA;\n",
              "      box-shadow: 0px 1px 2px rgba(60, 64, 67, 0.3), 0px 1px 3px 1px rgba(60, 64, 67, 0.15);\n",
              "      fill: #174EA6;\n",
              "    }\n",
              "\n",
              "    [theme=dark] .colab-df-convert {\n",
              "      background-color: #3B4455;\n",
              "      fill: #D2E3FC;\n",
              "    }\n",
              "\n",
              "    [theme=dark] .colab-df-convert:hover {\n",
              "      background-color: #434B5C;\n",
              "      box-shadow: 0px 1px 3px 1px rgba(0, 0, 0, 0.15);\n",
              "      filter: drop-shadow(0px 1px 2px rgba(0, 0, 0, 0.3));\n",
              "      fill: #FFFFFF;\n",
              "    }\n",
              "  </style>\n",
              "\n",
              "      <script>\n",
              "        const buttonEl =\n",
              "          document.querySelector('#df-e39ae19f-7130-4c65-a575-acc27e0d57b6 button.colab-df-convert');\n",
              "        buttonEl.style.display =\n",
              "          google.colab.kernel.accessAllowed ? 'block' : 'none';\n",
              "\n",
              "        async function convertToInteractive(key) {\n",
              "          const element = document.querySelector('#df-e39ae19f-7130-4c65-a575-acc27e0d57b6');\n",
              "          const dataTable =\n",
              "            await google.colab.kernel.invokeFunction('convertToInteractive',\n",
              "                                                     [key], {});\n",
              "          if (!dataTable) return;\n",
              "\n",
              "          const docLinkHtml = 'Like what you see? Visit the ' +\n",
              "            '<a target=\"_blank\" href=https://colab.research.google.com/notebooks/data_table.ipynb>data table notebook</a>'\n",
              "            + ' to learn more about interactive tables.';\n",
              "          element.innerHTML = '';\n",
              "          dataTable['output_type'] = 'display_data';\n",
              "          await google.colab.output.renderOutput(dataTable, element);\n",
              "          const docLink = document.createElement('div');\n",
              "          docLink.innerHTML = docLinkHtml;\n",
              "          element.appendChild(docLink);\n",
              "        }\n",
              "      </script>\n",
              "    </div>\n",
              "  </div>\n",
              "  "
            ]
          },
          "metadata": {},
          "execution_count": 12
        }
      ],
      "source": [
        "import seaborn as sns\n",
        "tips = sns.load_dataset(\"tips\")\n",
        "df = tips.copy()\n",
        "df.head()"
      ]
    },
    {
      "cell_type": "code",
      "execution_count": 13,
      "metadata": {
        "colab": {
          "base_uri": "https://localhost:8080/",
          "height": 143
        },
        "id": "2NcBs4d6d45a",
        "outputId": "90e02e86-c127-49ac-af3b-f062d433cda7"
      },
      "outputs": [
        {
          "output_type": "execute_result",
          "data": {
            "text/plain": [
              "            count       mean       std   min      25%     50%      75%    max\n",
              "total_bill  244.0  19.785943  8.902412  3.07  13.3475  17.795  24.1275  50.81\n",
              "tip         244.0   2.998279  1.383638  1.00   2.0000   2.900   3.5625  10.00\n",
              "size        244.0   2.569672  0.951100  1.00   2.0000   2.000   3.0000   6.00"
            ],
            "text/html": [
              "\n",
              "  <div id=\"df-f9833856-4c36-41fd-ac6e-9d5e9a60ddc7\">\n",
              "    <div class=\"colab-df-container\">\n",
              "      <div>\n",
              "<style scoped>\n",
              "    .dataframe tbody tr th:only-of-type {\n",
              "        vertical-align: middle;\n",
              "    }\n",
              "\n",
              "    .dataframe tbody tr th {\n",
              "        vertical-align: top;\n",
              "    }\n",
              "\n",
              "    .dataframe thead th {\n",
              "        text-align: right;\n",
              "    }\n",
              "</style>\n",
              "<table border=\"1\" class=\"dataframe\">\n",
              "  <thead>\n",
              "    <tr style=\"text-align: right;\">\n",
              "      <th></th>\n",
              "      <th>count</th>\n",
              "      <th>mean</th>\n",
              "      <th>std</th>\n",
              "      <th>min</th>\n",
              "      <th>25%</th>\n",
              "      <th>50%</th>\n",
              "      <th>75%</th>\n",
              "      <th>max</th>\n",
              "    </tr>\n",
              "  </thead>\n",
              "  <tbody>\n",
              "    <tr>\n",
              "      <th>total_bill</th>\n",
              "      <td>244.0</td>\n",
              "      <td>19.785943</td>\n",
              "      <td>8.902412</td>\n",
              "      <td>3.07</td>\n",
              "      <td>13.3475</td>\n",
              "      <td>17.795</td>\n",
              "      <td>24.1275</td>\n",
              "      <td>50.81</td>\n",
              "    </tr>\n",
              "    <tr>\n",
              "      <th>tip</th>\n",
              "      <td>244.0</td>\n",
              "      <td>2.998279</td>\n",
              "      <td>1.383638</td>\n",
              "      <td>1.00</td>\n",
              "      <td>2.0000</td>\n",
              "      <td>2.900</td>\n",
              "      <td>3.5625</td>\n",
              "      <td>10.00</td>\n",
              "    </tr>\n",
              "    <tr>\n",
              "      <th>size</th>\n",
              "      <td>244.0</td>\n",
              "      <td>2.569672</td>\n",
              "      <td>0.951100</td>\n",
              "      <td>1.00</td>\n",
              "      <td>2.0000</td>\n",
              "      <td>2.000</td>\n",
              "      <td>3.0000</td>\n",
              "      <td>6.00</td>\n",
              "    </tr>\n",
              "  </tbody>\n",
              "</table>\n",
              "</div>\n",
              "      <button class=\"colab-df-convert\" onclick=\"convertToInteractive('df-f9833856-4c36-41fd-ac6e-9d5e9a60ddc7')\"\n",
              "              title=\"Convert this dataframe to an interactive table.\"\n",
              "              style=\"display:none;\">\n",
              "        \n",
              "  <svg xmlns=\"http://www.w3.org/2000/svg\" height=\"24px\"viewBox=\"0 0 24 24\"\n",
              "       width=\"24px\">\n",
              "    <path d=\"M0 0h24v24H0V0z\" fill=\"none\"/>\n",
              "    <path d=\"M18.56 5.44l.94 2.06.94-2.06 2.06-.94-2.06-.94-.94-2.06-.94 2.06-2.06.94zm-11 1L8.5 8.5l.94-2.06 2.06-.94-2.06-.94L8.5 2.5l-.94 2.06-2.06.94zm10 10l.94 2.06.94-2.06 2.06-.94-2.06-.94-.94-2.06-.94 2.06-2.06.94z\"/><path d=\"M17.41 7.96l-1.37-1.37c-.4-.4-.92-.59-1.43-.59-.52 0-1.04.2-1.43.59L10.3 9.45l-7.72 7.72c-.78.78-.78 2.05 0 2.83L4 21.41c.39.39.9.59 1.41.59.51 0 1.02-.2 1.41-.59l7.78-7.78 2.81-2.81c.8-.78.8-2.07 0-2.86zM5.41 20L4 18.59l7.72-7.72 1.47 1.35L5.41 20z\"/>\n",
              "  </svg>\n",
              "      </button>\n",
              "      \n",
              "  <style>\n",
              "    .colab-df-container {\n",
              "      display:flex;\n",
              "      flex-wrap:wrap;\n",
              "      gap: 12px;\n",
              "    }\n",
              "\n",
              "    .colab-df-convert {\n",
              "      background-color: #E8F0FE;\n",
              "      border: none;\n",
              "      border-radius: 50%;\n",
              "      cursor: pointer;\n",
              "      display: none;\n",
              "      fill: #1967D2;\n",
              "      height: 32px;\n",
              "      padding: 0 0 0 0;\n",
              "      width: 32px;\n",
              "    }\n",
              "\n",
              "    .colab-df-convert:hover {\n",
              "      background-color: #E2EBFA;\n",
              "      box-shadow: 0px 1px 2px rgba(60, 64, 67, 0.3), 0px 1px 3px 1px rgba(60, 64, 67, 0.15);\n",
              "      fill: #174EA6;\n",
              "    }\n",
              "\n",
              "    [theme=dark] .colab-df-convert {\n",
              "      background-color: #3B4455;\n",
              "      fill: #D2E3FC;\n",
              "    }\n",
              "\n",
              "    [theme=dark] .colab-df-convert:hover {\n",
              "      background-color: #434B5C;\n",
              "      box-shadow: 0px 1px 3px 1px rgba(0, 0, 0, 0.15);\n",
              "      filter: drop-shadow(0px 1px 2px rgba(0, 0, 0, 0.3));\n",
              "      fill: #FFFFFF;\n",
              "    }\n",
              "  </style>\n",
              "\n",
              "      <script>\n",
              "        const buttonEl =\n",
              "          document.querySelector('#df-f9833856-4c36-41fd-ac6e-9d5e9a60ddc7 button.colab-df-convert');\n",
              "        buttonEl.style.display =\n",
              "          google.colab.kernel.accessAllowed ? 'block' : 'none';\n",
              "\n",
              "        async function convertToInteractive(key) {\n",
              "          const element = document.querySelector('#df-f9833856-4c36-41fd-ac6e-9d5e9a60ddc7');\n",
              "          const dataTable =\n",
              "            await google.colab.kernel.invokeFunction('convertToInteractive',\n",
              "                                                     [key], {});\n",
              "          if (!dataTable) return;\n",
              "\n",
              "          const docLinkHtml = 'Like what you see? Visit the ' +\n",
              "            '<a target=\"_blank\" href=https://colab.research.google.com/notebooks/data_table.ipynb>data table notebook</a>'\n",
              "            + ' to learn more about interactive tables.';\n",
              "          element.innerHTML = '';\n",
              "          dataTable['output_type'] = 'display_data';\n",
              "          await google.colab.output.renderOutput(dataTable, element);\n",
              "          const docLink = document.createElement('div');\n",
              "          docLink.innerHTML = docLinkHtml;\n",
              "          element.appendChild(docLink);\n",
              "        }\n",
              "      </script>\n",
              "    </div>\n",
              "  </div>\n",
              "  "
            ]
          },
          "metadata": {},
          "execution_count": 13
        }
      ],
      "source": [
        "df.describe().T"
      ]
    },
    {
      "cell_type": "code",
      "execution_count": 14,
      "metadata": {
        "colab": {
          "base_uri": "https://localhost:8080/"
        },
        "id": "Ecd3CnbOd45a",
        "outputId": "eddd9dee-82d8-47a6-c4ac-76012ea5533c"
      },
      "outputs": [
        {
          "output_type": "stream",
          "name": "stdout",
          "text": [
            "Looking in indexes: https://pypi.org/simple, https://us-python.pkg.dev/colab-wheels/public/simple/\n",
            "Collecting researchpy\n",
            "  Downloading researchpy-0.3.5-py3-none-any.whl (33 kB)\n",
            "Requirement already satisfied: patsy in /usr/local/lib/python3.9/dist-packages (from researchpy) (0.5.3)\n",
            "Requirement already satisfied: statsmodels in /usr/local/lib/python3.9/dist-packages (from researchpy) (0.13.5)\n",
            "Requirement already satisfied: numpy in /usr/local/lib/python3.9/dist-packages (from researchpy) (1.22.4)\n",
            "Requirement already satisfied: pandas in /usr/local/lib/python3.9/dist-packages (from researchpy) (1.5.3)\n",
            "Requirement already satisfied: scipy in /usr/local/lib/python3.9/dist-packages (from researchpy) (1.10.1)\n",
            "Requirement already satisfied: pytz>=2020.1 in /usr/local/lib/python3.9/dist-packages (from pandas->researchpy) (2022.7.1)\n",
            "Requirement already satisfied: python-dateutil>=2.8.1 in /usr/local/lib/python3.9/dist-packages (from pandas->researchpy) (2.8.2)\n",
            "Requirement already satisfied: six in /usr/local/lib/python3.9/dist-packages (from patsy->researchpy) (1.16.0)\n",
            "Requirement already satisfied: packaging>=21.3 in /usr/local/lib/python3.9/dist-packages (from statsmodels->researchpy) (23.1)\n",
            "Installing collected packages: researchpy\n",
            "Successfully installed researchpy-0.3.5\n"
          ]
        }
      ],
      "source": [
        "!pip install researchpy\n",
        "import researchpy as rp"
      ]
    },
    {
      "cell_type": "code",
      "execution_count": 15,
      "metadata": {
        "colab": {
          "base_uri": "https://localhost:8080/",
          "height": 216
        },
        "id": "hY33Z4ZEd45b",
        "outputId": "ae0dccb3-28b5-4f94-b781-c727b503e684"
      },
      "outputs": [
        {
          "output_type": "stream",
          "name": "stdout",
          "text": [
            "\n",
            "\n"
          ]
        },
        {
          "output_type": "stream",
          "name": "stderr",
          "text": [
            "/usr/local/lib/python3.9/dist-packages/researchpy/summary.py:60: FutureWarning: iteritems is deprecated and will be removed in a future version. Use .items instead.\n",
            "  for ix, df_col in group1.iteritems():\n"
          ]
        },
        {
          "output_type": "execute_result",
          "data": {
            "text/plain": [
              "     Variable      N     Mean      SD      SE  95% Conf.  Interval\n",
              "0  total_bill  244.0  19.7859  8.9024  0.5699    18.6633   20.9086\n",
              "1         tip  244.0   2.9983  1.3836  0.0886     2.8238    3.1728\n",
              "2        size  244.0   2.5697  0.9511  0.0609     2.4497    2.6896"
            ],
            "text/html": [
              "\n",
              "  <div id=\"df-e26b62ac-c026-4538-8e00-407469995478\">\n",
              "    <div class=\"colab-df-container\">\n",
              "      <div>\n",
              "<style scoped>\n",
              "    .dataframe tbody tr th:only-of-type {\n",
              "        vertical-align: middle;\n",
              "    }\n",
              "\n",
              "    .dataframe tbody tr th {\n",
              "        vertical-align: top;\n",
              "    }\n",
              "\n",
              "    .dataframe thead th {\n",
              "        text-align: right;\n",
              "    }\n",
              "</style>\n",
              "<table border=\"1\" class=\"dataframe\">\n",
              "  <thead>\n",
              "    <tr style=\"text-align: right;\">\n",
              "      <th></th>\n",
              "      <th>Variable</th>\n",
              "      <th>N</th>\n",
              "      <th>Mean</th>\n",
              "      <th>SD</th>\n",
              "      <th>SE</th>\n",
              "      <th>95% Conf.</th>\n",
              "      <th>Interval</th>\n",
              "    </tr>\n",
              "  </thead>\n",
              "  <tbody>\n",
              "    <tr>\n",
              "      <th>0</th>\n",
              "      <td>total_bill</td>\n",
              "      <td>244.0</td>\n",
              "      <td>19.7859</td>\n",
              "      <td>8.9024</td>\n",
              "      <td>0.5699</td>\n",
              "      <td>18.6633</td>\n",
              "      <td>20.9086</td>\n",
              "    </tr>\n",
              "    <tr>\n",
              "      <th>1</th>\n",
              "      <td>tip</td>\n",
              "      <td>244.0</td>\n",
              "      <td>2.9983</td>\n",
              "      <td>1.3836</td>\n",
              "      <td>0.0886</td>\n",
              "      <td>2.8238</td>\n",
              "      <td>3.1728</td>\n",
              "    </tr>\n",
              "    <tr>\n",
              "      <th>2</th>\n",
              "      <td>size</td>\n",
              "      <td>244.0</td>\n",
              "      <td>2.5697</td>\n",
              "      <td>0.9511</td>\n",
              "      <td>0.0609</td>\n",
              "      <td>2.4497</td>\n",
              "      <td>2.6896</td>\n",
              "    </tr>\n",
              "  </tbody>\n",
              "</table>\n",
              "</div>\n",
              "      <button class=\"colab-df-convert\" onclick=\"convertToInteractive('df-e26b62ac-c026-4538-8e00-407469995478')\"\n",
              "              title=\"Convert this dataframe to an interactive table.\"\n",
              "              style=\"display:none;\">\n",
              "        \n",
              "  <svg xmlns=\"http://www.w3.org/2000/svg\" height=\"24px\"viewBox=\"0 0 24 24\"\n",
              "       width=\"24px\">\n",
              "    <path d=\"M0 0h24v24H0V0z\" fill=\"none\"/>\n",
              "    <path d=\"M18.56 5.44l.94 2.06.94-2.06 2.06-.94-2.06-.94-.94-2.06-.94 2.06-2.06.94zm-11 1L8.5 8.5l.94-2.06 2.06-.94-2.06-.94L8.5 2.5l-.94 2.06-2.06.94zm10 10l.94 2.06.94-2.06 2.06-.94-2.06-.94-.94-2.06-.94 2.06-2.06.94z\"/><path d=\"M17.41 7.96l-1.37-1.37c-.4-.4-.92-.59-1.43-.59-.52 0-1.04.2-1.43.59L10.3 9.45l-7.72 7.72c-.78.78-.78 2.05 0 2.83L4 21.41c.39.39.9.59 1.41.59.51 0 1.02-.2 1.41-.59l7.78-7.78 2.81-2.81c.8-.78.8-2.07 0-2.86zM5.41 20L4 18.59l7.72-7.72 1.47 1.35L5.41 20z\"/>\n",
              "  </svg>\n",
              "      </button>\n",
              "      \n",
              "  <style>\n",
              "    .colab-df-container {\n",
              "      display:flex;\n",
              "      flex-wrap:wrap;\n",
              "      gap: 12px;\n",
              "    }\n",
              "\n",
              "    .colab-df-convert {\n",
              "      background-color: #E8F0FE;\n",
              "      border: none;\n",
              "      border-radius: 50%;\n",
              "      cursor: pointer;\n",
              "      display: none;\n",
              "      fill: #1967D2;\n",
              "      height: 32px;\n",
              "      padding: 0 0 0 0;\n",
              "      width: 32px;\n",
              "    }\n",
              "\n",
              "    .colab-df-convert:hover {\n",
              "      background-color: #E2EBFA;\n",
              "      box-shadow: 0px 1px 2px rgba(60, 64, 67, 0.3), 0px 1px 3px 1px rgba(60, 64, 67, 0.15);\n",
              "      fill: #174EA6;\n",
              "    }\n",
              "\n",
              "    [theme=dark] .colab-df-convert {\n",
              "      background-color: #3B4455;\n",
              "      fill: #D2E3FC;\n",
              "    }\n",
              "\n",
              "    [theme=dark] .colab-df-convert:hover {\n",
              "      background-color: #434B5C;\n",
              "      box-shadow: 0px 1px 3px 1px rgba(0, 0, 0, 0.15);\n",
              "      filter: drop-shadow(0px 1px 2px rgba(0, 0, 0, 0.3));\n",
              "      fill: #FFFFFF;\n",
              "    }\n",
              "  </style>\n",
              "\n",
              "      <script>\n",
              "        const buttonEl =\n",
              "          document.querySelector('#df-e26b62ac-c026-4538-8e00-407469995478 button.colab-df-convert');\n",
              "        buttonEl.style.display =\n",
              "          google.colab.kernel.accessAllowed ? 'block' : 'none';\n",
              "\n",
              "        async function convertToInteractive(key) {\n",
              "          const element = document.querySelector('#df-e26b62ac-c026-4538-8e00-407469995478');\n",
              "          const dataTable =\n",
              "            await google.colab.kernel.invokeFunction('convertToInteractive',\n",
              "                                                     [key], {});\n",
              "          if (!dataTable) return;\n",
              "\n",
              "          const docLinkHtml = 'Like what you see? Visit the ' +\n",
              "            '<a target=\"_blank\" href=https://colab.research.google.com/notebooks/data_table.ipynb>data table notebook</a>'\n",
              "            + ' to learn more about interactive tables.';\n",
              "          element.innerHTML = '';\n",
              "          dataTable['output_type'] = 'display_data';\n",
              "          await google.colab.output.renderOutput(dataTable, element);\n",
              "          const docLink = document.createElement('div');\n",
              "          docLink.innerHTML = docLinkHtml;\n",
              "          element.appendChild(docLink);\n",
              "        }\n",
              "      </script>\n",
              "    </div>\n",
              "  </div>\n",
              "  "
            ]
          },
          "metadata": {},
          "execution_count": 15
        }
      ],
      "source": [
        "rp.summary_cont(df[[\"total_bill\",\"tip\",\"size\"]])"
      ]
    },
    {
      "cell_type": "code",
      "execution_count": 16,
      "metadata": {
        "colab": {
          "base_uri": "https://localhost:8080/",
          "height": 336
        },
        "id": "cFfPqdRTd45b",
        "outputId": "8eb888f6-1f3c-4a83-c2f4-1f53b33a2191"
      },
      "outputs": [
        {
          "output_type": "stream",
          "name": "stderr",
          "text": [
            "/usr/local/lib/python3.9/dist-packages/researchpy/summary.py:225: FutureWarning: iteritems is deprecated and will be removed in a future version. Use .items instead.\n",
            "  for ix, df_col in group1.iteritems():\n"
          ]
        },
        {
          "output_type": "execute_result",
          "data": {
            "text/plain": [
              "  Variable Outcome  Count  Percent\n",
              "0      sex    Male    157    64.34\n",
              "1           Female     87    35.66\n",
              "2   smoker      No    151    61.89\n",
              "3              Yes     93    38.11\n",
              "4      day     Sat     87    35.66\n",
              "5              Sun     76    31.15\n",
              "6             Thur     62    25.41\n",
              "7              Fri     19     7.79"
            ],
            "text/html": [
              "\n",
              "  <div id=\"df-511e153b-c8bd-4a56-bfac-13d7563a9161\">\n",
              "    <div class=\"colab-df-container\">\n",
              "      <div>\n",
              "<style scoped>\n",
              "    .dataframe tbody tr th:only-of-type {\n",
              "        vertical-align: middle;\n",
              "    }\n",
              "\n",
              "    .dataframe tbody tr th {\n",
              "        vertical-align: top;\n",
              "    }\n",
              "\n",
              "    .dataframe thead th {\n",
              "        text-align: right;\n",
              "    }\n",
              "</style>\n",
              "<table border=\"1\" class=\"dataframe\">\n",
              "  <thead>\n",
              "    <tr style=\"text-align: right;\">\n",
              "      <th></th>\n",
              "      <th>Variable</th>\n",
              "      <th>Outcome</th>\n",
              "      <th>Count</th>\n",
              "      <th>Percent</th>\n",
              "    </tr>\n",
              "  </thead>\n",
              "  <tbody>\n",
              "    <tr>\n",
              "      <th>0</th>\n",
              "      <td>sex</td>\n",
              "      <td>Male</td>\n",
              "      <td>157</td>\n",
              "      <td>64.34</td>\n",
              "    </tr>\n",
              "    <tr>\n",
              "      <th>1</th>\n",
              "      <td></td>\n",
              "      <td>Female</td>\n",
              "      <td>87</td>\n",
              "      <td>35.66</td>\n",
              "    </tr>\n",
              "    <tr>\n",
              "      <th>2</th>\n",
              "      <td>smoker</td>\n",
              "      <td>No</td>\n",
              "      <td>151</td>\n",
              "      <td>61.89</td>\n",
              "    </tr>\n",
              "    <tr>\n",
              "      <th>3</th>\n",
              "      <td></td>\n",
              "      <td>Yes</td>\n",
              "      <td>93</td>\n",
              "      <td>38.11</td>\n",
              "    </tr>\n",
              "    <tr>\n",
              "      <th>4</th>\n",
              "      <td>day</td>\n",
              "      <td>Sat</td>\n",
              "      <td>87</td>\n",
              "      <td>35.66</td>\n",
              "    </tr>\n",
              "    <tr>\n",
              "      <th>5</th>\n",
              "      <td></td>\n",
              "      <td>Sun</td>\n",
              "      <td>76</td>\n",
              "      <td>31.15</td>\n",
              "    </tr>\n",
              "    <tr>\n",
              "      <th>6</th>\n",
              "      <td></td>\n",
              "      <td>Thur</td>\n",
              "      <td>62</td>\n",
              "      <td>25.41</td>\n",
              "    </tr>\n",
              "    <tr>\n",
              "      <th>7</th>\n",
              "      <td></td>\n",
              "      <td>Fri</td>\n",
              "      <td>19</td>\n",
              "      <td>7.79</td>\n",
              "    </tr>\n",
              "  </tbody>\n",
              "</table>\n",
              "</div>\n",
              "      <button class=\"colab-df-convert\" onclick=\"convertToInteractive('df-511e153b-c8bd-4a56-bfac-13d7563a9161')\"\n",
              "              title=\"Convert this dataframe to an interactive table.\"\n",
              "              style=\"display:none;\">\n",
              "        \n",
              "  <svg xmlns=\"http://www.w3.org/2000/svg\" height=\"24px\"viewBox=\"0 0 24 24\"\n",
              "       width=\"24px\">\n",
              "    <path d=\"M0 0h24v24H0V0z\" fill=\"none\"/>\n",
              "    <path d=\"M18.56 5.44l.94 2.06.94-2.06 2.06-.94-2.06-.94-.94-2.06-.94 2.06-2.06.94zm-11 1L8.5 8.5l.94-2.06 2.06-.94-2.06-.94L8.5 2.5l-.94 2.06-2.06.94zm10 10l.94 2.06.94-2.06 2.06-.94-2.06-.94-.94-2.06-.94 2.06-2.06.94z\"/><path d=\"M17.41 7.96l-1.37-1.37c-.4-.4-.92-.59-1.43-.59-.52 0-1.04.2-1.43.59L10.3 9.45l-7.72 7.72c-.78.78-.78 2.05 0 2.83L4 21.41c.39.39.9.59 1.41.59.51 0 1.02-.2 1.41-.59l7.78-7.78 2.81-2.81c.8-.78.8-2.07 0-2.86zM5.41 20L4 18.59l7.72-7.72 1.47 1.35L5.41 20z\"/>\n",
              "  </svg>\n",
              "      </button>\n",
              "      \n",
              "  <style>\n",
              "    .colab-df-container {\n",
              "      display:flex;\n",
              "      flex-wrap:wrap;\n",
              "      gap: 12px;\n",
              "    }\n",
              "\n",
              "    .colab-df-convert {\n",
              "      background-color: #E8F0FE;\n",
              "      border: none;\n",
              "      border-radius: 50%;\n",
              "      cursor: pointer;\n",
              "      display: none;\n",
              "      fill: #1967D2;\n",
              "      height: 32px;\n",
              "      padding: 0 0 0 0;\n",
              "      width: 32px;\n",
              "    }\n",
              "\n",
              "    .colab-df-convert:hover {\n",
              "      background-color: #E2EBFA;\n",
              "      box-shadow: 0px 1px 2px rgba(60, 64, 67, 0.3), 0px 1px 3px 1px rgba(60, 64, 67, 0.15);\n",
              "      fill: #174EA6;\n",
              "    }\n",
              "\n",
              "    [theme=dark] .colab-df-convert {\n",
              "      background-color: #3B4455;\n",
              "      fill: #D2E3FC;\n",
              "    }\n",
              "\n",
              "    [theme=dark] .colab-df-convert:hover {\n",
              "      background-color: #434B5C;\n",
              "      box-shadow: 0px 1px 3px 1px rgba(0, 0, 0, 0.15);\n",
              "      filter: drop-shadow(0px 1px 2px rgba(0, 0, 0, 0.3));\n",
              "      fill: #FFFFFF;\n",
              "    }\n",
              "  </style>\n",
              "\n",
              "      <script>\n",
              "        const buttonEl =\n",
              "          document.querySelector('#df-511e153b-c8bd-4a56-bfac-13d7563a9161 button.colab-df-convert');\n",
              "        buttonEl.style.display =\n",
              "          google.colab.kernel.accessAllowed ? 'block' : 'none';\n",
              "\n",
              "        async function convertToInteractive(key) {\n",
              "          const element = document.querySelector('#df-511e153b-c8bd-4a56-bfac-13d7563a9161');\n",
              "          const dataTable =\n",
              "            await google.colab.kernel.invokeFunction('convertToInteractive',\n",
              "                                                     [key], {});\n",
              "          if (!dataTable) return;\n",
              "\n",
              "          const docLinkHtml = 'Like what you see? Visit the ' +\n",
              "            '<a target=\"_blank\" href=https://colab.research.google.com/notebooks/data_table.ipynb>data table notebook</a>'\n",
              "            + ' to learn more about interactive tables.';\n",
              "          element.innerHTML = '';\n",
              "          dataTable['output_type'] = 'display_data';\n",
              "          await google.colab.output.renderOutput(dataTable, element);\n",
              "          const docLink = document.createElement('div');\n",
              "          docLink.innerHTML = docLinkHtml;\n",
              "          element.appendChild(docLink);\n",
              "        }\n",
              "      </script>\n",
              "    </div>\n",
              "  </div>\n",
              "  "
            ]
          },
          "metadata": {},
          "execution_count": 16
        }
      ],
      "source": [
        "rp.summary_cat(df[[\"sex\",\"smoker\",\"day\"]])"
      ]
    },
    {
      "cell_type": "code",
      "execution_count": 17,
      "metadata": {
        "colab": {
          "base_uri": "https://localhost:8080/",
          "height": 112
        },
        "id": "CBHj7xzCd45c",
        "outputId": "ec89dfee-1928-4c71-e409-ad629ec9406e"
      },
      "outputs": [
        {
          "output_type": "execute_result",
          "data": {
            "text/plain": [
              "                 tip  total_bill\n",
              "tip         1.914455    8.323502\n",
              "total_bill  8.323502   79.252939"
            ],
            "text/html": [
              "\n",
              "  <div id=\"df-acfd0a69-b810-429c-9e01-2d122504676c\">\n",
              "    <div class=\"colab-df-container\">\n",
              "      <div>\n",
              "<style scoped>\n",
              "    .dataframe tbody tr th:only-of-type {\n",
              "        vertical-align: middle;\n",
              "    }\n",
              "\n",
              "    .dataframe tbody tr th {\n",
              "        vertical-align: top;\n",
              "    }\n",
              "\n",
              "    .dataframe thead th {\n",
              "        text-align: right;\n",
              "    }\n",
              "</style>\n",
              "<table border=\"1\" class=\"dataframe\">\n",
              "  <thead>\n",
              "    <tr style=\"text-align: right;\">\n",
              "      <th></th>\n",
              "      <th>tip</th>\n",
              "      <th>total_bill</th>\n",
              "    </tr>\n",
              "  </thead>\n",
              "  <tbody>\n",
              "    <tr>\n",
              "      <th>tip</th>\n",
              "      <td>1.914455</td>\n",
              "      <td>8.323502</td>\n",
              "    </tr>\n",
              "    <tr>\n",
              "      <th>total_bill</th>\n",
              "      <td>8.323502</td>\n",
              "      <td>79.252939</td>\n",
              "    </tr>\n",
              "  </tbody>\n",
              "</table>\n",
              "</div>\n",
              "      <button class=\"colab-df-convert\" onclick=\"convertToInteractive('df-acfd0a69-b810-429c-9e01-2d122504676c')\"\n",
              "              title=\"Convert this dataframe to an interactive table.\"\n",
              "              style=\"display:none;\">\n",
              "        \n",
              "  <svg xmlns=\"http://www.w3.org/2000/svg\" height=\"24px\"viewBox=\"0 0 24 24\"\n",
              "       width=\"24px\">\n",
              "    <path d=\"M0 0h24v24H0V0z\" fill=\"none\"/>\n",
              "    <path d=\"M18.56 5.44l.94 2.06.94-2.06 2.06-.94-2.06-.94-.94-2.06-.94 2.06-2.06.94zm-11 1L8.5 8.5l.94-2.06 2.06-.94-2.06-.94L8.5 2.5l-.94 2.06-2.06.94zm10 10l.94 2.06.94-2.06 2.06-.94-2.06-.94-.94-2.06-.94 2.06-2.06.94z\"/><path d=\"M17.41 7.96l-1.37-1.37c-.4-.4-.92-.59-1.43-.59-.52 0-1.04.2-1.43.59L10.3 9.45l-7.72 7.72c-.78.78-.78 2.05 0 2.83L4 21.41c.39.39.9.59 1.41.59.51 0 1.02-.2 1.41-.59l7.78-7.78 2.81-2.81c.8-.78.8-2.07 0-2.86zM5.41 20L4 18.59l7.72-7.72 1.47 1.35L5.41 20z\"/>\n",
              "  </svg>\n",
              "      </button>\n",
              "      \n",
              "  <style>\n",
              "    .colab-df-container {\n",
              "      display:flex;\n",
              "      flex-wrap:wrap;\n",
              "      gap: 12px;\n",
              "    }\n",
              "\n",
              "    .colab-df-convert {\n",
              "      background-color: #E8F0FE;\n",
              "      border: none;\n",
              "      border-radius: 50%;\n",
              "      cursor: pointer;\n",
              "      display: none;\n",
              "      fill: #1967D2;\n",
              "      height: 32px;\n",
              "      padding: 0 0 0 0;\n",
              "      width: 32px;\n",
              "    }\n",
              "\n",
              "    .colab-df-convert:hover {\n",
              "      background-color: #E2EBFA;\n",
              "      box-shadow: 0px 1px 2px rgba(60, 64, 67, 0.3), 0px 1px 3px 1px rgba(60, 64, 67, 0.15);\n",
              "      fill: #174EA6;\n",
              "    }\n",
              "\n",
              "    [theme=dark] .colab-df-convert {\n",
              "      background-color: #3B4455;\n",
              "      fill: #D2E3FC;\n",
              "    }\n",
              "\n",
              "    [theme=dark] .colab-df-convert:hover {\n",
              "      background-color: #434B5C;\n",
              "      box-shadow: 0px 1px 3px 1px rgba(0, 0, 0, 0.15);\n",
              "      filter: drop-shadow(0px 1px 2px rgba(0, 0, 0, 0.3));\n",
              "      fill: #FFFFFF;\n",
              "    }\n",
              "  </style>\n",
              "\n",
              "      <script>\n",
              "        const buttonEl =\n",
              "          document.querySelector('#df-acfd0a69-b810-429c-9e01-2d122504676c button.colab-df-convert');\n",
              "        buttonEl.style.display =\n",
              "          google.colab.kernel.accessAllowed ? 'block' : 'none';\n",
              "\n",
              "        async function convertToInteractive(key) {\n",
              "          const element = document.querySelector('#df-acfd0a69-b810-429c-9e01-2d122504676c');\n",
              "          const dataTable =\n",
              "            await google.colab.kernel.invokeFunction('convertToInteractive',\n",
              "                                                     [key], {});\n",
              "          if (!dataTable) return;\n",
              "\n",
              "          const docLinkHtml = 'Like what you see? Visit the ' +\n",
              "            '<a target=\"_blank\" href=https://colab.research.google.com/notebooks/data_table.ipynb>data table notebook</a>'\n",
              "            + ' to learn more about interactive tables.';\n",
              "          element.innerHTML = '';\n",
              "          dataTable['output_type'] = 'display_data';\n",
              "          await google.colab.output.renderOutput(dataTable, element);\n",
              "          const docLink = document.createElement('div');\n",
              "          docLink.innerHTML = docLinkHtml;\n",
              "          element.appendChild(docLink);\n",
              "        }\n",
              "      </script>\n",
              "    </div>\n",
              "  </div>\n",
              "  "
            ]
          },
          "metadata": {},
          "execution_count": 17
        }
      ],
      "source": [
        "df[[\"tip\",\"total_bill\"]].cov()"
      ]
    },
    {
      "cell_type": "code",
      "execution_count": 18,
      "metadata": {
        "colab": {
          "base_uri": "https://localhost:8080/",
          "height": 112
        },
        "id": "KyxWBiFKd45c",
        "outputId": "c581e9a5-7785-4a0f-c606-bc55196de485"
      },
      "outputs": [
        {
          "output_type": "execute_result",
          "data": {
            "text/plain": [
              "                 tip  total_bill\n",
              "tip         1.000000    0.675734\n",
              "total_bill  0.675734    1.000000"
            ],
            "text/html": [
              "\n",
              "  <div id=\"df-652778cb-5633-4bab-a820-7e8469e3bfcb\">\n",
              "    <div class=\"colab-df-container\">\n",
              "      <div>\n",
              "<style scoped>\n",
              "    .dataframe tbody tr th:only-of-type {\n",
              "        vertical-align: middle;\n",
              "    }\n",
              "\n",
              "    .dataframe tbody tr th {\n",
              "        vertical-align: top;\n",
              "    }\n",
              "\n",
              "    .dataframe thead th {\n",
              "        text-align: right;\n",
              "    }\n",
              "</style>\n",
              "<table border=\"1\" class=\"dataframe\">\n",
              "  <thead>\n",
              "    <tr style=\"text-align: right;\">\n",
              "      <th></th>\n",
              "      <th>tip</th>\n",
              "      <th>total_bill</th>\n",
              "    </tr>\n",
              "  </thead>\n",
              "  <tbody>\n",
              "    <tr>\n",
              "      <th>tip</th>\n",
              "      <td>1.000000</td>\n",
              "      <td>0.675734</td>\n",
              "    </tr>\n",
              "    <tr>\n",
              "      <th>total_bill</th>\n",
              "      <td>0.675734</td>\n",
              "      <td>1.000000</td>\n",
              "    </tr>\n",
              "  </tbody>\n",
              "</table>\n",
              "</div>\n",
              "      <button class=\"colab-df-convert\" onclick=\"convertToInteractive('df-652778cb-5633-4bab-a820-7e8469e3bfcb')\"\n",
              "              title=\"Convert this dataframe to an interactive table.\"\n",
              "              style=\"display:none;\">\n",
              "        \n",
              "  <svg xmlns=\"http://www.w3.org/2000/svg\" height=\"24px\"viewBox=\"0 0 24 24\"\n",
              "       width=\"24px\">\n",
              "    <path d=\"M0 0h24v24H0V0z\" fill=\"none\"/>\n",
              "    <path d=\"M18.56 5.44l.94 2.06.94-2.06 2.06-.94-2.06-.94-.94-2.06-.94 2.06-2.06.94zm-11 1L8.5 8.5l.94-2.06 2.06-.94-2.06-.94L8.5 2.5l-.94 2.06-2.06.94zm10 10l.94 2.06.94-2.06 2.06-.94-2.06-.94-.94-2.06-.94 2.06-2.06.94z\"/><path d=\"M17.41 7.96l-1.37-1.37c-.4-.4-.92-.59-1.43-.59-.52 0-1.04.2-1.43.59L10.3 9.45l-7.72 7.72c-.78.78-.78 2.05 0 2.83L4 21.41c.39.39.9.59 1.41.59.51 0 1.02-.2 1.41-.59l7.78-7.78 2.81-2.81c.8-.78.8-2.07 0-2.86zM5.41 20L4 18.59l7.72-7.72 1.47 1.35L5.41 20z\"/>\n",
              "  </svg>\n",
              "      </button>\n",
              "      \n",
              "  <style>\n",
              "    .colab-df-container {\n",
              "      display:flex;\n",
              "      flex-wrap:wrap;\n",
              "      gap: 12px;\n",
              "    }\n",
              "\n",
              "    .colab-df-convert {\n",
              "      background-color: #E8F0FE;\n",
              "      border: none;\n",
              "      border-radius: 50%;\n",
              "      cursor: pointer;\n",
              "      display: none;\n",
              "      fill: #1967D2;\n",
              "      height: 32px;\n",
              "      padding: 0 0 0 0;\n",
              "      width: 32px;\n",
              "    }\n",
              "\n",
              "    .colab-df-convert:hover {\n",
              "      background-color: #E2EBFA;\n",
              "      box-shadow: 0px 1px 2px rgba(60, 64, 67, 0.3), 0px 1px 3px 1px rgba(60, 64, 67, 0.15);\n",
              "      fill: #174EA6;\n",
              "    }\n",
              "\n",
              "    [theme=dark] .colab-df-convert {\n",
              "      background-color: #3B4455;\n",
              "      fill: #D2E3FC;\n",
              "    }\n",
              "\n",
              "    [theme=dark] .colab-df-convert:hover {\n",
              "      background-color: #434B5C;\n",
              "      box-shadow: 0px 1px 3px 1px rgba(0, 0, 0, 0.15);\n",
              "      filter: drop-shadow(0px 1px 2px rgba(0, 0, 0, 0.3));\n",
              "      fill: #FFFFFF;\n",
              "    }\n",
              "  </style>\n",
              "\n",
              "      <script>\n",
              "        const buttonEl =\n",
              "          document.querySelector('#df-652778cb-5633-4bab-a820-7e8469e3bfcb button.colab-df-convert');\n",
              "        buttonEl.style.display =\n",
              "          google.colab.kernel.accessAllowed ? 'block' : 'none';\n",
              "\n",
              "        async function convertToInteractive(key) {\n",
              "          const element = document.querySelector('#df-652778cb-5633-4bab-a820-7e8469e3bfcb');\n",
              "          const dataTable =\n",
              "            await google.colab.kernel.invokeFunction('convertToInteractive',\n",
              "                                                     [key], {});\n",
              "          if (!dataTable) return;\n",
              "\n",
              "          const docLinkHtml = 'Like what you see? Visit the ' +\n",
              "            '<a target=\"_blank\" href=https://colab.research.google.com/notebooks/data_table.ipynb>data table notebook</a>'\n",
              "            + ' to learn more about interactive tables.';\n",
              "          element.innerHTML = '';\n",
              "          dataTable['output_type'] = 'display_data';\n",
              "          await google.colab.output.renderOutput(dataTable, element);\n",
              "          const docLink = document.createElement('div');\n",
              "          docLink.innerHTML = docLinkHtml;\n",
              "          element.appendChild(docLink);\n",
              "        }\n",
              "      </script>\n",
              "    </div>\n",
              "  </div>\n",
              "  "
            ]
          },
          "metadata": {},
          "execution_count": 18
        }
      ],
      "source": [
        "df[[\"tip\",\"total_bill\"]].corr()"
      ]
    },
    {
      "cell_type": "markdown",
      "metadata": {
        "id": "2BPoE032d45c"
      },
      "source": [
        "# İş Uygulaması: Fiyat Stratejisi Karar Destek"
      ]
    },
    {
      "cell_type": "code",
      "execution_count": 19,
      "metadata": {
        "id": "LaQOksl1d45d"
      },
      "outputs": [],
      "source": [
        "import numpy as np\n",
        "fiyatlar = np.random.randint(10,110, 1000)"
      ]
    },
    {
      "cell_type": "code",
      "execution_count": 20,
      "metadata": {
        "colab": {
          "base_uri": "https://localhost:8080/"
        },
        "id": "vp_eqtgId45d",
        "outputId": "5a30c0de-7889-46ae-d33d-9c60c6346828"
      },
      "outputs": [
        {
          "output_type": "execute_result",
          "data": {
            "text/plain": [
              "58.492"
            ]
          },
          "metadata": {},
          "execution_count": 20
        }
      ],
      "source": [
        "fiyatlar.mean()"
      ]
    },
    {
      "cell_type": "code",
      "execution_count": 21,
      "metadata": {
        "id": "FEHAbU-qd45d"
      },
      "outputs": [],
      "source": [
        "import statsmodels.stats.api as sms"
      ]
    },
    {
      "cell_type": "code",
      "execution_count": 22,
      "metadata": {
        "colab": {
          "base_uri": "https://localhost:8080/"
        },
        "id": "VtC33UEod45e",
        "outputId": "778b826a-429e-40df-c290-b90dfe1e96f3"
      },
      "outputs": [
        {
          "output_type": "execute_result",
          "data": {
            "text/plain": [
              "(56.67953887736034, 60.30446112263965)"
            ]
          },
          "metadata": {},
          "execution_count": 22
        }
      ],
      "source": [
        "sms.DescrStatsW(fiyatlar).tconfint_mean()"
      ]
    },
    {
      "cell_type": "code",
      "execution_count": 23,
      "metadata": {
        "colab": {
          "base_uri": "https://localhost:8080/"
        },
        "id": "ZgXOv8rCd45e",
        "outputId": "c8ac2b67-7778-47d3-b3ca-4a4b51b1f2dd"
      },
      "outputs": [
        {
          "output_type": "stream",
          "name": "stdout",
          "text": [
            "O program öğrenilecek\n"
          ]
        }
      ],
      "source": [
        "def yazdir(metin):\n",
        "    print(metin, \"program öğrenilecek\")\n",
        " \n",
        "yazdir(\"O\")"
      ]
    },
    {
      "cell_type": "code",
      "execution_count": 24,
      "metadata": {
        "colab": {
          "base_uri": "https://localhost:8080/"
        },
        "id": "rhvdGogld45e",
        "outputId": "216cd060-b869-49c9-b310-fbe76ae32d65"
      },
      "outputs": [
        {
          "output_type": "stream",
          "name": "stdout",
          "text": [
            "metin program öğrenilecek\n"
          ]
        }
      ],
      "source": [
        "print(\"metin\", \"program öğrenilecek\")"
      ]
    },
    {
      "cell_type": "markdown",
      "metadata": {
        "id": "1tcJUyrDd45f"
      },
      "source": [
        "# Olasılık Dağılımları"
      ]
    },
    {
      "cell_type": "markdown",
      "metadata": {
        "id": "idSQwd4Zd45f"
      },
      "source": [
        "## Bernoulli Dağılımı"
      ]
    },
    {
      "cell_type": "markdown",
      "metadata": {
        "id": "pWj-Yl1Id45f"
      },
      "source": [
        "${\\displaystyle f(k;p)=p^{k}(1-p)^{1-k}\\quad {\\text{for }}k\\in \\{0,1\\}}$\n",
        "\n",
        "\n",
        "${\\displaystyle \\operatorname {E} \\left(X\\right)=p}$\n",
        "\n",
        "$\\operatorname {Var} [X]=pq=p(1-p)$"
      ]
    },
    {
      "cell_type": "code",
      "execution_count": 25,
      "metadata": {
        "id": "cQLOL4ICd45g"
      },
      "outputs": [],
      "source": [
        "from scipy.stats import bernoulli"
      ]
    },
    {
      "cell_type": "code",
      "execution_count": 26,
      "metadata": {
        "id": "L7nnD_DSd45g"
      },
      "outputs": [],
      "source": [
        "p = 0.6"
      ]
    },
    {
      "cell_type": "code",
      "execution_count": 27,
      "metadata": {
        "colab": {
          "base_uri": "https://localhost:8080/"
        },
        "id": "5N_F6_UYd45h",
        "outputId": "8dc09fc4-b473-44f7-b4c6-6c3e6d1e793f"
      },
      "outputs": [
        {
          "output_type": "execute_result",
          "data": {
            "text/plain": [
              "0.4"
            ]
          },
          "metadata": {},
          "execution_count": 27
        }
      ],
      "source": [
        "rv = bernoulli(p)\n",
        "rv.pmf(k = 0)"
      ]
    },
    {
      "cell_type": "markdown",
      "metadata": {
        "id": "av6afff-d45h"
      },
      "source": [
        "## Büyük Sayılar Yasası"
      ]
    },
    {
      "cell_type": "markdown",
      "metadata": {
        "id": "riBjijYWd45h"
      },
      "source": [
        "**Bir rassal değişkenin uzun vadeli kararlılığını tanımlayan olasılık teoremidir.**"
      ]
    },
    {
      "cell_type": "code",
      "execution_count": 28,
      "metadata": {
        "colab": {
          "base_uri": "https://localhost:8080/",
          "height": 171
        },
        "id": "2A-lkAoZd45h",
        "outputId": "e907aabd-a21a-4128-c482-c6540843a78e"
      },
      "outputs": [
        {
          "output_type": "error",
          "ename": "NameError",
          "evalue": "ignored",
          "traceback": [
            "\u001b[0;31m---------------------------------------------------------------------------\u001b[0m",
            "\u001b[0;31mNameError\u001b[0m                                 Traceback (most recent call last)",
            "\u001b[0;32m<ipython-input-28-98b478bd8f32>\u001b[0m in \u001b[0;36m<cell line: 1>\u001b[0;34m()\u001b[0m\n\u001b[0;32m----> 1\u001b[0;31m \u001b[0mrng\u001b[0m\u001b[0;34m.\u001b[0m\u001b[0mrandint\u001b[0m\u001b[0;34m(\u001b[0m\u001b[0;36m0\u001b[0m\u001b[0;34m,\u001b[0m \u001b[0;36m2\u001b[0m\u001b[0;34m,\u001b[0m \u001b[0msize\u001b[0m \u001b[0;34m=\u001b[0m \u001b[0;36m5\u001b[0m\u001b[0;34m)\u001b[0m\u001b[0;34m\u001b[0m\u001b[0;34m\u001b[0m\u001b[0m\n\u001b[0m",
            "\u001b[0;31mNameError\u001b[0m: name 'rng' is not defined"
          ]
        }
      ],
      "source": [
        "rng.randint(0, 2, size = 5)"
      ]
    },
    {
      "cell_type": "code",
      "execution_count": null,
      "metadata": {
        "id": "8IFYJ46_d45i"
      },
      "outputs": [],
      "source": [
        "import numpy as np\n",
        "rng = np.random.RandomState(123)\n",
        "for i in np.arange(1,21):\n",
        "    deney_sayisi = 2**i\n",
        "    yazi_turalar = rng.randint(0, 2, size = deney_sayisi)\n",
        "    yazi_olasiliklari = np.mean(yazi_turalar)\n",
        "    print(\"Atış Sayısı:\",deney_sayisi,\"---\",'Yazı Olasılığı: %.2f' % (yazi_olasiliklari * 100))"
      ]
    },
    {
      "cell_type": "code",
      "execution_count": null,
      "metadata": {
        "id": "I4zeyTjRd45i"
      },
      "outputs": [],
      "source": [
        "1/5"
      ]
    },
    {
      "cell_type": "markdown",
      "metadata": {
        "id": "JYruzIcNd45i"
      },
      "source": [
        "## Binom Dağılımı"
      ]
    },
    {
      "cell_type": "markdown",
      "metadata": {
        "id": "5c6HjuEfd45j"
      },
      "source": [
        "${\\displaystyle f(k;n,p)={n \\choose k}p^{k}(1-p)^{n-k}}$, k = 0, 1, 2, ...,n\n",
        "\n",
        "\n",
        "${\\displaystyle \\operatorname {E} (X)=np}$\n",
        "\n",
        "\n",
        "${\\displaystyle \\operatorname {Var} (X)=np(1-p)}$"
      ]
    },
    {
      "cell_type": "code",
      "execution_count": null,
      "metadata": {
        "id": "NPXbFoYsd45j"
      },
      "outputs": [],
      "source": [
        "from scipy.stats import binom"
      ]
    },
    {
      "cell_type": "code",
      "execution_count": null,
      "metadata": {
        "id": "Iv6-pcrYd45j"
      },
      "outputs": [],
      "source": [
        "p = 0.01\n",
        "n = 100\n",
        "rv = binom(n, p)\n",
        "print(rv.pmf(1))\n",
        "print(rv.pmf(5))\n",
        "print(rv.pmf(10))"
      ]
    },
    {
      "cell_type": "markdown",
      "metadata": {
        "id": "_WypY1Azd45j"
      },
      "source": [
        "## Poisson Dağılımı\n",
        "\n",
        "${\\displaystyle f(x,\\lambda )={\\frac {\\lambda ^{x}e^{-\\lambda }}{x!}}\\,\\!}$,  x = 0,1,2,...,n"
      ]
    },
    {
      "cell_type": "code",
      "execution_count": null,
      "metadata": {
        "id": "mfSgsCX5d45k"
      },
      "outputs": [],
      "source": [
        "from scipy.stats import poisson"
      ]
    },
    {
      "cell_type": "code",
      "execution_count": null,
      "metadata": {
        "id": "yTgX0MjEd45k"
      },
      "outputs": [],
      "source": [
        "lambda_ = 0.1"
      ]
    },
    {
      "cell_type": "code",
      "execution_count": null,
      "metadata": {
        "id": "FMsHqGu9d45l"
      },
      "outputs": [],
      "source": [
        "rv = poisson(mu = lambda_)\n",
        "print(rv.pmf(k = 0))"
      ]
    },
    {
      "cell_type": "code",
      "execution_count": null,
      "metadata": {
        "id": "5mrcJqVUd45l"
      },
      "outputs": [],
      "source": [
        "print(rv.pmf(k = 3))"
      ]
    },
    {
      "cell_type": "code",
      "execution_count": null,
      "metadata": {
        "id": "kWbI8ZNjd45m"
      },
      "outputs": [],
      "source": [
        "print(rv.pmf(k = 5))"
      ]
    },
    {
      "cell_type": "markdown",
      "metadata": {
        "id": "ODwRyQ11d45m"
      },
      "source": [
        "## Normal Dağılım"
      ]
    },
    {
      "cell_type": "markdown",
      "metadata": {
        "id": "hWzQUmXgd45m"
      },
      "source": [
        "${\\displaystyle f(x\\mid \\mu ,\\sigma ^{2})={\\frac {1}{\\sqrt {2\\pi \\sigma ^{2}}}}e^{-{\\frac {(x-\\mu )^{2}}{2\\sigma ^{2}}}}}$\n",
        "\n",
        "* $\\mu$  ortalama ya da dağılımın beklenen değeri\n",
        "\n",
        "* ${\\displaystyle \\sigma }$  standart sapma\n",
        "\n",
        "* ${\\displaystyle \\sigma ^{2}}$ varyans"
      ]
    },
    {
      "cell_type": "code",
      "execution_count": null,
      "metadata": {
        "id": "x3OARnfed45n"
      },
      "outputs": [],
      "source": [
        "from scipy.stats import norm"
      ]
    },
    {
      "cell_type": "code",
      "execution_count": null,
      "metadata": {
        "id": "RWOjaG6Ad45n"
      },
      "outputs": [],
      "source": [
        "#90'dan fazla olması \n",
        "1-norm.cdf(90, 80, 5)"
      ]
    },
    {
      "cell_type": "code",
      "execution_count": null,
      "metadata": {
        "id": "kv63zi-4d45n"
      },
      "outputs": [],
      "source": [
        "#70'den fazla olması\n",
        "1-norm.cdf(70, 80, 5)"
      ]
    },
    {
      "cell_type": "code",
      "execution_count": null,
      "metadata": {
        "id": "n1wBhnu7d45n"
      },
      "outputs": [],
      "source": [
        "#73'den az olması\n",
        "norm.cdf(73, 80, 5)"
      ]
    },
    {
      "cell_type": "code",
      "execution_count": null,
      "metadata": {
        "id": "cMAhANRVd45o"
      },
      "outputs": [],
      "source": [
        "#85 ile 90 arasında olması"
      ]
    },
    {
      "cell_type": "code",
      "execution_count": null,
      "metadata": {
        "id": "cAAj4TdFd45o"
      },
      "outputs": [],
      "source": [
        "norm.cdf(90, 80, 5) - norm.cdf(85, 80, 5)"
      ]
    },
    {
      "cell_type": "markdown",
      "metadata": {
        "id": "lmyImWMEd45o"
      },
      "source": [
        "# Tek Örneklem T Testi\n",
        "\n",
        "Örnek ortalamasına ilişkin test yapmak için kullanılır.\n",
        "\n",
        "**Hipotezler:**\n",
        "\n",
        "<d><i>H</i><sub>0</sub>: <i>μ</i> = <i>50</i></d>   \n",
        "<d><i>H</i><sub>1</sub>: <i>μ</i> ≠ <i>50</i></d><br><br>\n",
        "\n",
        "<d><i>H</i><sub>0</sub>: <i>μ</i> <= <i>50</i></d><br>\n",
        "<d><i>H</i><sub>1</sub>: <i>μ</i> > <i>50</i></d><br><br>\n",
        "\n",
        "<d><i>H</i><sub>0</sub>: <i>μ</i> >= <i>50</i></d><br>\n",
        "<d><i>H</i><sub>1</sub>: <i>μ</i> < <i>50</i></d><br><br>\n",
        "\n",
        "\n",
        "\n",
        "\n",
        "<table></table>\n",
        "\n",
        "**Test İstatistiği:**\n",
        "\n",
        "${\\displaystyle t={\\frac {{\\bar {x}}-\\mu _{0}}{\\frac {s}{\\sqrt {n}}}}}$\n"
      ]
    },
    {
      "cell_type": "code",
      "execution_count": null,
      "metadata": {
        "id": "druosf_fd45p"
      },
      "outputs": [],
      "source": [
        "import numpy as np\n",
        "\n",
        "olcumler = np.array([17, 160, 234, 149, 145, 107, 197, 75, 201, 225, 211, 119, \n",
        "              157, 145, 127, 244, 163, 114, 145,  65, 112, 185, 202, 146,\n",
        "              203, 224, 203, 114, 188, 156, 187, 154, 177, 95, 165, 50, 110, \n",
        "              216, 138, 151, 166, 135, 155, 84, 251, 173, 131, 207, 121, 120])"
      ]
    },
    {
      "cell_type": "code",
      "execution_count": null,
      "metadata": {
        "id": "ttbArBYMd45p"
      },
      "outputs": [],
      "source": [
        "olcumler[0:10]"
      ]
    },
    {
      "cell_type": "code",
      "execution_count": null,
      "metadata": {
        "id": "N21KwM7_d45p"
      },
      "outputs": [],
      "source": [
        "import scipy.stats as stats"
      ]
    },
    {
      "cell_type": "code",
      "execution_count": null,
      "metadata": {
        "id": "k7shTTcAd45p"
      },
      "outputs": [],
      "source": [
        "stats.describe(olcumler)"
      ]
    },
    {
      "cell_type": "markdown",
      "metadata": {
        "id": "e_hcG-Xcd45q"
      },
      "source": [
        "## Varsayımlar"
      ]
    },
    {
      "cell_type": "code",
      "execution_count": null,
      "metadata": {
        "id": "O7fxNwONd45q"
      },
      "outputs": [],
      "source": [
        "#normallik varsayımı"
      ]
    },
    {
      "cell_type": "code",
      "execution_count": null,
      "metadata": {
        "id": "23TmdZnXd45q"
      },
      "outputs": [],
      "source": [
        "#histogram\n",
        "pd.DataFrame(olcumler).plot.hist();"
      ]
    },
    {
      "cell_type": "code",
      "execution_count": null,
      "metadata": {
        "id": "IT0G4p-Sd45r"
      },
      "outputs": [],
      "source": [
        "#qqplot\n",
        "import pylab\n",
        "stats.probplot(olcumler, dist=\"norm\", plot=pylab)\n",
        "pylab.show()"
      ]
    },
    {
      "cell_type": "markdown",
      "metadata": {
        "id": "YWhkyQgGd45r"
      },
      "source": [
        "## Shapiro-Wilks Testi"
      ]
    },
    {
      "cell_type": "markdown",
      "metadata": {
        "id": "cMBiilbed45s"
      },
      "source": [
        "H0: Örnek dağılımı ile teorik normal dağılım arasında ist. ol. anl. bir fark. yoktur\n",
        "\n",
        "H1: ... fark vardır"
      ]
    },
    {
      "cell_type": "code",
      "execution_count": null,
      "metadata": {
        "id": "gSFGzV4Vd45s"
      },
      "outputs": [],
      "source": [
        "from scipy.stats import shapiro"
      ]
    },
    {
      "cell_type": "code",
      "execution_count": null,
      "metadata": {
        "id": "7cRGwFfkd45t"
      },
      "outputs": [],
      "source": [
        "shapiro(olcumler)"
      ]
    },
    {
      "cell_type": "code",
      "execution_count": null,
      "metadata": {
        "id": "8pq4i8MAd45t"
      },
      "outputs": [],
      "source": [
        "print(\"T Hesap İstatistiği: \" + str(shapiro(olcumler)[0]))\n",
        "print(\"Hesaplanan P-value: \" + str(shapiro(olcumler)[1]))"
      ]
    },
    {
      "cell_type": "markdown",
      "metadata": {
        "id": "1TYNnfmVd45t"
      },
      "source": [
        "## Hipotez Testinin Uygulanması"
      ]
    },
    {
      "cell_type": "code",
      "execution_count": null,
      "metadata": {
        "id": "rwIrR0pCd45u"
      },
      "outputs": [],
      "source": [
        "stats.ttest_1samp(olcumler, popmean = 170)"
      ]
    },
    {
      "cell_type": "markdown",
      "metadata": {
        "id": "ytB51D3rd45u"
      },
      "source": [
        "H0: Web sitemizde geçirilen ortalama süre 170'tir\n",
        "H1: .. değiştir"
      ]
    },
    {
      "cell_type": "markdown",
      "metadata": {
        "id": "oMM7uCtPd45u"
      },
      "source": [
        "## Nonparametrik Tek Örneklem Testi"
      ]
    },
    {
      "cell_type": "code",
      "execution_count": null,
      "metadata": {
        "id": "lIHdGcsvd45u"
      },
      "outputs": [],
      "source": [
        "from statsmodels.stats.descriptivestats import sign_test"
      ]
    },
    {
      "cell_type": "code",
      "execution_count": null,
      "metadata": {
        "id": "YIB4FJPKd45u"
      },
      "outputs": [],
      "source": [
        "sign_test(olcumler, 170)"
      ]
    },
    {
      "cell_type": "markdown",
      "metadata": {
        "id": "GZIu_Pzrd45v"
      },
      "source": [
        "# Tek Örneklem Oran Testi"
      ]
    },
    {
      "cell_type": "markdown",
      "metadata": {
        "id": "Pfho4wGzd45v"
      },
      "source": [
        "HO: p = 0.125 \n",
        "\n",
        "H1: p != 0.125"
      ]
    },
    {
      "cell_type": "code",
      "execution_count": null,
      "metadata": {
        "id": "bfLio4Yid45v"
      },
      "outputs": [],
      "source": [
        "from statsmodels.stats.proportion import proportions_ztest"
      ]
    },
    {
      "cell_type": "code",
      "execution_count": null,
      "metadata": {
        "id": "khXobJ_8d45v"
      },
      "outputs": [],
      "source": [
        "count = 40\n",
        "nobs = 500\n",
        "value = 0.125"
      ]
    },
    {
      "cell_type": "code",
      "execution_count": null,
      "metadata": {
        "id": "fnJfxYHnd45w"
      },
      "outputs": [],
      "source": [
        "proportions_ztest(count, nobs, value)"
      ]
    },
    {
      "cell_type": "markdown",
      "metadata": {
        "id": "wLVdL-zKd45w"
      },
      "source": [
        "## Bağımsız İki Örneklem T Testi"
      ]
    },
    {
      "cell_type": "markdown",
      "metadata": {
        "id": "ilp4It59d45w"
      },
      "source": [
        "H0: M1 = M2 \n",
        "\n",
        "H1: M1 != M2"
      ]
    },
    {
      "cell_type": "code",
      "execution_count": null,
      "metadata": {
        "id": "0blmuP6hd45w"
      },
      "outputs": [],
      "source": [
        "#VERI TIPI I"
      ]
    },
    {
      "cell_type": "code",
      "execution_count": null,
      "metadata": {
        "id": "S4kc17YNd45x"
      },
      "outputs": [],
      "source": [
        "A = pd.DataFrame([30,27,21,27,29,30,20,20,27,32,35,22,24,23,25,27,23,27,23,\n",
        "        25,21,18,24,26,33,26,27,28,19,25])\n",
        "\n",
        "B = pd.DataFrame([37,39,31,31,34,38,30,36,29,28,38,28,37,37,30,32,31,31,27,\n",
        "        32,33,33,33,31,32,33,26,32,33,29])\n",
        "\n",
        "\n",
        "A_B = pd.concat([A, B], axis = 1)\n",
        "A_B.columns = [\"A\",\"B\"]\n",
        "\n",
        "A_B.head()"
      ]
    },
    {
      "cell_type": "code",
      "execution_count": null,
      "metadata": {
        "id": "KmRLBYrEd45x"
      },
      "outputs": [],
      "source": [
        "#VERI TIPI II"
      ]
    },
    {
      "cell_type": "code",
      "execution_count": null,
      "metadata": {
        "id": "7xIr4hqZd45x"
      },
      "outputs": [],
      "source": [
        "A = pd.DataFrame([30,27,21,27,29,30,20,20,27,32,35,22,24,23,25,27,23,27,23,\n",
        "        25,21,18,24,26,33,26,27,28,19,25])\n",
        "\n",
        "B = pd.DataFrame([37,39,31,31,34,38,30,36,29,28,38,28,37,37,30,32,31,31,27,\n",
        "        32,33,33,33,31,32,33,26,32,33,29])\n",
        "\n",
        "#A ve A'nın grubu\n",
        "GRUP_A = np.arange(len(A))\n",
        "GRUP_A = pd.DataFrame(GRUP_A)\n",
        "GRUP_A[:] = \"A\"\n",
        "A = pd.concat([A, GRUP_A], axis = 1)\n",
        "\n",
        "#B ve B'nin Grubu\n",
        "GRUP_B = np.arange(len(B))\n",
        "GRUP_B = pd.DataFrame(GRUP_B)\n",
        "GRUP_B[:] = \"B\"\n",
        "B = pd.concat([B, GRUP_B], axis = 1)\n",
        "\n",
        "#Tum veri\n",
        "AB = pd.concat([A,B])\n",
        "AB.columns = [\"gelir\",\"GRUP\"]\n",
        "print(AB.head())\n",
        "print(AB.tail())"
      ]
    },
    {
      "cell_type": "code",
      "execution_count": null,
      "metadata": {
        "id": "2WJsOi3Pd45y"
      },
      "outputs": [],
      "source": [
        "import seaborn as sns\n",
        "sns.boxplot(x = \"GRUP\", y = \"gelir\", data = AB);"
      ]
    },
    {
      "cell_type": "markdown",
      "metadata": {
        "id": "vs06PlfBd45y"
      },
      "source": [
        "## Varsayım Kontrolü"
      ]
    },
    {
      "cell_type": "code",
      "execution_count": null,
      "metadata": {
        "id": "1kmrabBTd45y"
      },
      "outputs": [],
      "source": [
        "A_B.head()"
      ]
    },
    {
      "cell_type": "code",
      "execution_count": null,
      "metadata": {
        "id": "F88kk9fLd45y"
      },
      "outputs": [],
      "source": [
        "AB.head()"
      ]
    },
    {
      "cell_type": "code",
      "execution_count": null,
      "metadata": {
        "id": "qTZUp3lLd45z"
      },
      "outputs": [],
      "source": [
        "#normallik varsayımı"
      ]
    },
    {
      "cell_type": "code",
      "execution_count": null,
      "metadata": {
        "id": "asSs6OTqd45z"
      },
      "outputs": [],
      "source": [
        "from scipy.stats import shapiro"
      ]
    },
    {
      "cell_type": "code",
      "execution_count": null,
      "metadata": {
        "id": "I8qjtmEsd45z"
      },
      "outputs": [],
      "source": [
        "shapiro(A_B.A)"
      ]
    },
    {
      "cell_type": "code",
      "execution_count": null,
      "metadata": {
        "id": "OZVBpmFOd45z"
      },
      "outputs": [],
      "source": [
        "shapiro(A_B.B)"
      ]
    },
    {
      "cell_type": "code",
      "execution_count": null,
      "metadata": {
        "id": "_uYfQq8Nd450"
      },
      "outputs": [],
      "source": [
        "#varyans homojenligi varsayımı"
      ]
    },
    {
      "cell_type": "markdown",
      "metadata": {
        "id": "w6nxFcomd450"
      },
      "source": [
        "H0: Varyanslar Homojendir\n",
        "\n",
        "H1: Varyanslar Homojen Değildir"
      ]
    },
    {
      "cell_type": "code",
      "execution_count": null,
      "metadata": {
        "id": "dMO7IiZcd450"
      },
      "outputs": [],
      "source": [
        "stats.levene(A_B.A, A_B.B)"
      ]
    },
    {
      "cell_type": "markdown",
      "metadata": {
        "id": "VHxlT-5Sd450"
      },
      "source": [
        "## Hipotez Testi"
      ]
    },
    {
      "cell_type": "code",
      "execution_count": null,
      "metadata": {
        "id": "7Dn3RqQQd451"
      },
      "outputs": [],
      "source": [
        "stats.ttest_ind(A_B[\"A\"], A_B[\"B\"], equal_var = True)"
      ]
    },
    {
      "cell_type": "code",
      "execution_count": null,
      "metadata": {
        "id": "N60fDuRJd451"
      },
      "outputs": [],
      "source": [
        "test_istatistigi, pvalue = stats.ttest_ind(A_B[\"A\"], A_B[\"B\"], equal_var=True)\n",
        "print('Test İstatistiği = %.4f, p-değeri = %.4f' % (test_istatistigi, pvalue))"
      ]
    },
    {
      "cell_type": "markdown",
      "metadata": {
        "id": "zAF4c3X9d451"
      },
      "source": [
        "## Nonparametrik Bağımsız İki Örneklem Testi"
      ]
    },
    {
      "cell_type": "code",
      "execution_count": null,
      "metadata": {
        "id": "jh5avjkrd451"
      },
      "outputs": [],
      "source": [
        "stats.mannwhitneyu(A_B[\"A\"], A_B[\"B\"])"
      ]
    },
    {
      "cell_type": "code",
      "execution_count": null,
      "metadata": {
        "id": "-r4jmPkYd452"
      },
      "outputs": [],
      "source": [
        "test_istatistigi, pvalue = stats.mannwhitneyu(A_B[\"A\"], A_B[\"B\"])\n",
        "print('Test İstatistiği = %.4f, p-değeri = %.4f' % (test_istatistigi, pvalue))"
      ]
    },
    {
      "cell_type": "markdown",
      "metadata": {
        "id": "pW3lMgfyd452"
      },
      "source": [
        "# Bağımlı İki Örneklem T Testi"
      ]
    },
    {
      "cell_type": "code",
      "execution_count": null,
      "metadata": {
        "id": "8Rh-Mfhhd452"
      },
      "outputs": [],
      "source": [
        "oncesi = pd.DataFrame([123,119,119,116,123,123,121,120,117,118,121,121,123,119,\n",
        "            121,118,124,121,125,115,115,119,118,121,117,117,120,120,\n",
        "            121,117,118,117,123,118,124,121,115,118,125,115])\n",
        "\n",
        "sonrasi = pd.DataFrame([118,127,122,132,129,123,129,132,128,130,128,138,140,130,\n",
        "             134,134,124,140,134,129,129,138,134,124,122,126,133,127,\n",
        "             130,130,130,132,117,130,125,129,133,120,127,123])"
      ]
    },
    {
      "cell_type": "code",
      "execution_count": null,
      "metadata": {
        "id": "nRuMzANBd452"
      },
      "outputs": [],
      "source": [
        "oncesi[0:5]"
      ]
    },
    {
      "cell_type": "code",
      "execution_count": null,
      "metadata": {
        "id": "PtIhURqNd453"
      },
      "outputs": [],
      "source": [
        "sonrasi[0:5]"
      ]
    },
    {
      "cell_type": "code",
      "execution_count": null,
      "metadata": {
        "id": "DqDQUajTd453"
      },
      "outputs": [],
      "source": [
        " np.arange(len(oncesi))"
      ]
    },
    {
      "cell_type": "code",
      "execution_count": null,
      "metadata": {
        "id": "-lfCyDVOd453"
      },
      "outputs": [],
      "source": [
        "#BIRINCI VERI SETI\n",
        "AYRIK = pd.concat([oncesi, sonrasi], axis = 1)\n",
        "AYRIK.columns = [\"ONCESI\",\"SONRASI\"]\n",
        "print(\"'AYRIK' Veri Seti: \\n\\n \", AYRIK.head(), \"\\n\\n\")\n",
        "\n",
        "\n",
        "#IKINCI VERI SETI\n",
        "#ONCESI FLAG/TAG'INI OLUSTURMA\n",
        "GRUP_ONCESI = np.arange(len(oncesi))\n",
        "GRUP_ONCESI = pd.DataFrame(GRUP_ONCESI)\n",
        "GRUP_ONCESI[:] = \"ONCESI\"\n",
        "#FLAG VE ONCESI DEGERLERINI BIR ARAYA GETIRME\n",
        "A = pd.concat([oncesi, GRUP_ONCESI], axis = 1)\n",
        "#SONRASI FLAG/TAG'INI OLUSTURMA\n",
        "GRUP_SONRASI = np.arange(len(sonrasi))\n",
        "GRUP_SONRASI = pd.DataFrame(GRUP_SONRASI)\n",
        "GRUP_SONRASI[:] = \"SONRASI\"\n",
        "\n",
        "#FLAG VE SONRASI DEGERLERINI BIR ARAYA GETIRME\n",
        "B = pd.concat([sonrasi, GRUP_SONRASI], axis = 1)\n",
        "\n",
        "#TUM VERIYI BIR ARAYA GETIRME\n",
        "BIRLIKTE = pd.concat([A,B])\n",
        "BIRLIKTE\n",
        "\n",
        "#ISIMLENDIRME\n",
        "BIRLIKTE.columns = [\"PERFORMANS\",\"ONCESI_SONRASI\"]\n",
        "print(\"'BIRLIKTE' Veri Seti: \\n\\n\", BIRLIKTE.head(), \"\\n\")"
      ]
    },
    {
      "cell_type": "code",
      "execution_count": null,
      "metadata": {
        "id": "Opx8xBT3d454"
      },
      "outputs": [],
      "source": [
        "import seaborn as sns\n",
        "sns.boxplot(x = \"ONCESI_SONRASI\", y = \"PERFORMANS\", data = BIRLIKTE);"
      ]
    },
    {
      "cell_type": "markdown",
      "metadata": {
        "id": "UKeWCZARd454"
      },
      "source": [
        "## Varsayım Kontrolleri "
      ]
    },
    {
      "cell_type": "code",
      "execution_count": null,
      "metadata": {
        "id": "RW7Liriwd454"
      },
      "outputs": [],
      "source": [
        "from scipy.stats import shapiro"
      ]
    },
    {
      "cell_type": "code",
      "execution_count": null,
      "metadata": {
        "id": "jbfSUduTd455"
      },
      "outputs": [],
      "source": [
        "shapiro(AYRIK.ONCESI)"
      ]
    },
    {
      "cell_type": "code",
      "execution_count": null,
      "metadata": {
        "id": "sA9TrTiMd455"
      },
      "outputs": [],
      "source": [
        "shapiro(AYRIK.SONRASI)"
      ]
    },
    {
      "cell_type": "code",
      "execution_count": null,
      "metadata": {
        "id": "s2RjIEICd455"
      },
      "outputs": [],
      "source": [
        "import scipy.stats as stats\n",
        "stats.levene(AYRIK.ONCESI, AYRIK.SONRASI)"
      ]
    },
    {
      "cell_type": "markdown",
      "metadata": {
        "id": "cnyHYuSCd455"
      },
      "source": [
        "## Hipotez Testi"
      ]
    },
    {
      "cell_type": "code",
      "execution_count": null,
      "metadata": {
        "id": "BiXS8wnhd456"
      },
      "outputs": [],
      "source": [
        "stats.ttest_rel(AYRIK.ONCESI, AYRIK.SONRASI)"
      ]
    },
    {
      "cell_type": "code",
      "execution_count": null,
      "metadata": {
        "id": "xDZIEUFrd456"
      },
      "outputs": [],
      "source": [
        "test_istatistigi, pvalue = stats.ttest_rel(AYRIK[\"ONCESI\"], AYRIK[\"SONRASI\"])\n",
        "print('Test İstatistiği = %.5f, p-değeri = %.5f' % (test_istatistigi, pvalue))"
      ]
    },
    {
      "cell_type": "markdown",
      "metadata": {
        "id": "7YbNH5Bnd456"
      },
      "source": [
        "## Nonparametrik Bağımlı İki Örneklem Testi"
      ]
    },
    {
      "cell_type": "code",
      "execution_count": null,
      "metadata": {
        "id": "I8ZBD3iQd457"
      },
      "outputs": [],
      "source": [
        "stats.wilcoxon(AYRIK.ONCESI, AYRIK.SONRASI)"
      ]
    },
    {
      "cell_type": "code",
      "execution_count": null,
      "metadata": {
        "id": "TBXxp_Tud457"
      },
      "outputs": [],
      "source": [
        "test_istatistigi, pvalue = stats.wilcoxon(AYRIK[\"ONCESI\"], AYRIK[\"SONRASI\"])\n",
        "\n",
        "print('Test İstatistiği = %.4f, p-değeri = %.4f' % (test_istatistigi, pvalue))"
      ]
    },
    {
      "cell_type": "markdown",
      "metadata": {
        "id": "mO79__Lgd457"
      },
      "source": [
        "## İki Örneklem Oran Testi"
      ]
    },
    {
      "cell_type": "code",
      "execution_count": null,
      "metadata": {
        "id": "dWPF4ePwd457"
      },
      "outputs": [],
      "source": [
        "from statsmodels.stats.proportion import proportions_ztest"
      ]
    },
    {
      "cell_type": "code",
      "execution_count": null,
      "metadata": {
        "id": "lWcANyocd458"
      },
      "outputs": [],
      "source": [
        "import numpy as np\n",
        "basari_sayisi = np.array([300, 250])\n",
        "gozlem_sayilari = np.array([1000, 1100])"
      ]
    },
    {
      "cell_type": "code",
      "execution_count": null,
      "metadata": {
        "id": "_5vG0SBad458"
      },
      "outputs": [],
      "source": [
        "proportions_ztest(count = basari_sayisi, nobs = gozlem_sayilari)"
      ]
    },
    {
      "cell_type": "markdown",
      "metadata": {
        "id": "K2N5TblKd458"
      },
      "source": [
        "# Varyans Analizi"
      ]
    },
    {
      "cell_type": "markdown",
      "metadata": {
        "id": "za3PrVUqd458"
      },
      "source": [
        "H0: M1 = M2 = M3 (grup ortalamalari arasinda ist anl. farklilik yoktur) \n",
        "\n",
        "H1: Fark vardir."
      ]
    },
    {
      "cell_type": "code",
      "execution_count": null,
      "metadata": {
        "id": "94x05J1wd459"
      },
      "outputs": [],
      "source": [
        "A = pd.DataFrame([28,33,30,29,28,29,27,31,30,32,28,33,25,29,27,31,31,30,31,34,30,32,31,34,28,32,31,28,33,29])\n",
        "\n",
        "B = pd.DataFrame([31,32,30,30,33,32,34,27,36,30,31,30,38,29,30,34,34,31,35,35,33,30,28,29,26,37,31,28,34,33])\n",
        "\n",
        "C = pd.DataFrame([40,33,38,41,42,43,38,35,39,39,36,34,35,40,38,36,39,36,33,35,38,35,40,40,39,38,38,43,40,42])\n",
        "\n",
        "dfs = [A, B, C]\n",
        "\n",
        "ABC = pd.concat(dfs, axis = 1)\n",
        "ABC.columns = [\"GRUP_A\",\"GRUP_B\",\"GRUP_C\"]\n",
        "ABC.head()"
      ]
    },
    {
      "cell_type": "markdown",
      "metadata": {
        "id": "IKb3rPjDd459"
      },
      "source": [
        "## Varsayım Kontrolü"
      ]
    },
    {
      "cell_type": "code",
      "execution_count": null,
      "metadata": {
        "id": "cC-AR4Fed459"
      },
      "outputs": [],
      "source": [
        "from scipy.stats import shapiro"
      ]
    },
    {
      "cell_type": "code",
      "execution_count": null,
      "metadata": {
        "id": "hXc2Akiud459"
      },
      "outputs": [],
      "source": [
        "shapiro(ABC[\"GRUP_A\"])"
      ]
    },
    {
      "cell_type": "code",
      "execution_count": null,
      "metadata": {
        "id": "vrNiGLMFd45-"
      },
      "outputs": [],
      "source": [
        "shapiro(ABC[\"GRUP_B\"])"
      ]
    },
    {
      "cell_type": "code",
      "execution_count": null,
      "metadata": {
        "id": "B1rK8Kg0d45-"
      },
      "outputs": [],
      "source": [
        "shapiro(ABC[\"GRUP_C\"])"
      ]
    },
    {
      "cell_type": "code",
      "execution_count": null,
      "metadata": {
        "id": "_DCuHLjwd45-"
      },
      "outputs": [],
      "source": [
        "stats.levene(ABC[\"GRUP_A\"], ABC[\"GRUP_B\"],ABC[\"GRUP_C\"])"
      ]
    },
    {
      "cell_type": "markdown",
      "metadata": {
        "id": "_eqibVcTd45_"
      },
      "source": [
        "## Hipotez Testi"
      ]
    },
    {
      "cell_type": "code",
      "execution_count": null,
      "metadata": {
        "id": "xypqAbB0d45_"
      },
      "outputs": [],
      "source": [
        "from scipy.stats import f_oneway"
      ]
    },
    {
      "cell_type": "code",
      "execution_count": null,
      "metadata": {
        "id": "GkPXK9KOd45_"
      },
      "outputs": [],
      "source": [
        "f_oneway(ABC[\"GRUP_A\"], ABC[\"GRUP_B\"],ABC[\"GRUP_C\"])"
      ]
    },
    {
      "cell_type": "code",
      "execution_count": null,
      "metadata": {
        "id": "LtUwUKdGd46A"
      },
      "outputs": [],
      "source": [
        "print('{:.5f}'.format(f_oneway(ABC[\"GRUP_A\"], ABC[\"GRUP_B\"],ABC[\"GRUP_C\"])[1]))"
      ]
    },
    {
      "cell_type": "code",
      "execution_count": null,
      "metadata": {
        "id": "nzz5EE9Id46B"
      },
      "outputs": [],
      "source": [
        "ABC.describe().T"
      ]
    },
    {
      "cell_type": "markdown",
      "metadata": {
        "id": "6COUFFGqd46B"
      },
      "source": [
        "## Nonparametrik Hipotez Testi"
      ]
    },
    {
      "cell_type": "code",
      "execution_count": null,
      "metadata": {
        "id": "lTO4hsErd46B"
      },
      "outputs": [],
      "source": [
        "from scipy.stats import kruskal"
      ]
    },
    {
      "cell_type": "code",
      "execution_count": null,
      "metadata": {
        "id": "Z9jpP6Dhd46C"
      },
      "outputs": [],
      "source": [
        "kruskal(ABC[\"GRUP_A\"], ABC[\"GRUP_B\"],ABC[\"GRUP_C\"])"
      ]
    },
    {
      "cell_type": "markdown",
      "metadata": {
        "id": "9C0uevXsd46C"
      },
      "source": [
        "## Korelasyon Analizi"
      ]
    },
    {
      "cell_type": "markdown",
      "metadata": {
        "id": "K4QavN9Od46D"
      },
      "source": [
        "Bahşiş veri seti:\n",
        "\n",
        "total_bill: yemeğin toplam fiyatı (bahşiş ve vergi dahil)\n",
        "\n",
        "tip: bahşiş\n",
        "\n",
        "sex: ücreti ödeyen kişinin cinsiyeti (0=male, 1=female)\n",
        "\n",
        "smoker: grupta sigara içen var mı? (0=No, 1=Yes)\n",
        "\n",
        "day: gün (3=Thur, 4=Fri, 5=Sat, 6=Sun)\n",
        "\n",
        "time: ne zaman? (0=Day, 1=Night)\n",
        "\n",
        "size: grupta kaç kişi var?"
      ]
    },
    {
      "cell_type": "code",
      "execution_count": null,
      "metadata": {
        "id": "gyeXINXYd46D"
      },
      "outputs": [],
      "source": [
        "import seaborn as sns\n",
        "tips = sns.load_dataset('tips')\n",
        "df = tips.copy()\n",
        "df.head()"
      ]
    },
    {
      "cell_type": "code",
      "execution_count": null,
      "metadata": {
        "id": "PvNuxjb1d46E"
      },
      "outputs": [],
      "source": [
        "df[\"total_bill\"] = df[\"total_bill\"] - df[\"tip\"]"
      ]
    },
    {
      "cell_type": "code",
      "execution_count": null,
      "metadata": {
        "id": "Ur3bLRCvd46E"
      },
      "outputs": [],
      "source": [
        "df.head()"
      ]
    },
    {
      "cell_type": "code",
      "execution_count": null,
      "metadata": {
        "id": "ZhBLEN56d46F"
      },
      "outputs": [],
      "source": [
        "df.plot.scatter(\"tip\",\"total_bill\");"
      ]
    },
    {
      "cell_type": "markdown",
      "metadata": {
        "id": "iAJSzq9Yd46F"
      },
      "source": [
        "# Varsayım Kontrolü"
      ]
    },
    {
      "cell_type": "code",
      "execution_count": null,
      "metadata": {
        "id": "IO-mKUO_d46G"
      },
      "outputs": [],
      "source": [
        "from scipy.stats import shapiro"
      ]
    },
    {
      "cell_type": "code",
      "execution_count": null,
      "metadata": {
        "id": "cNE4EE6ld46G"
      },
      "outputs": [],
      "source": [
        "test_istatistigi, pvalue = shapiro(df[\"tip\"])\n",
        "print('Test İstatistiği = %.4f, p-değeri = %.4f' % (test_istatistigi, pvalue))\n",
        "\n",
        "test_istatistigi, pvalue = shapiro(df[\"total_bill\"])\n",
        "print('Test İstatistiği = %.4f, p-değeri = %.4f' % (test_istatistigi, pvalue))"
      ]
    },
    {
      "cell_type": "markdown",
      "metadata": {
        "id": "Lx9qEdhud46H"
      },
      "source": [
        "# Hipotez Testi"
      ]
    },
    {
      "cell_type": "markdown",
      "metadata": {
        "id": "66sAAkjJd46H"
      },
      "source": [
        "### Korelasyon Katsayısı"
      ]
    },
    {
      "cell_type": "code",
      "execution_count": null,
      "metadata": {
        "id": "Y4prj8Ztd46H"
      },
      "outputs": [],
      "source": [
        "df[\"tip\"].corr(df[\"total_bill\"])"
      ]
    },
    {
      "cell_type": "code",
      "execution_count": null,
      "metadata": {
        "id": "Ya9Y9MqEd46H"
      },
      "outputs": [],
      "source": [
        "df[\"tip\"].corr(df[\"total_bill\"], method = \"spearman\")"
      ]
    },
    {
      "cell_type": "markdown",
      "metadata": {
        "id": "B8Hs6lQid46I"
      },
      "source": [
        "### Korelasyonunu Anlamlılığının Testi"
      ]
    },
    {
      "cell_type": "code",
      "execution_count": null,
      "metadata": {
        "id": "d4A0v5oGd46I"
      },
      "outputs": [],
      "source": [
        "from scipy.stats.stats import pearsonr"
      ]
    },
    {
      "cell_type": "code",
      "execution_count": null,
      "metadata": {
        "id": "QaJSYciOd46I"
      },
      "outputs": [],
      "source": [
        "test_istatistigi, pvalue = pearsonr(df[\"tip\"],df[\"total_bill\"])\n",
        "\n",
        "print('Korelasyon Katsayısı = %.4f, p-değeri = %.4f' % (test_istatistigi, pvalue))"
      ]
    },
    {
      "cell_type": "markdown",
      "metadata": {
        "id": "kMFrcwLUd46J"
      },
      "source": [
        "## Nonparametrik Hipotez Testi"
      ]
    },
    {
      "cell_type": "code",
      "execution_count": null,
      "metadata": {
        "id": "t8Nx3AJmd46J"
      },
      "outputs": [],
      "source": [
        "from scipy.stats import stats\n",
        "stats.spearmanr(df[\"tip\"],df[\"total_bill\"])"
      ]
    },
    {
      "cell_type": "code",
      "execution_count": null,
      "metadata": {
        "id": "F5k_l3vxd46J"
      },
      "outputs": [],
      "source": [
        "test_istatistigi, pvalue = stats.spearmanr(df[\"tip\"],df[\"total_bill\"])\n",
        "\n",
        "print('Korelasyon Katsayısı = %.4f, p-değeri = %.4f' % (test_istatistigi, pvalue))"
      ]
    },
    {
      "cell_type": "code",
      "execution_count": null,
      "metadata": {
        "id": "kbasYgApd46K"
      },
      "outputs": [],
      "source": [
        "test_istatistigi, pvalue = stats.kendalltau(df[\"tip\"],df[\"total_bill\"])\n",
        "\n",
        "print('Korelasyon Katsayısı = %.4f, p-değeri = %.4f' % (test_istatistigi, pvalue))"
      ]
    },
    {
      "cell_type": "code",
      "execution_count": null,
      "metadata": {
        "id": "6-wR9511d46K"
      },
      "outputs": [],
      "source": []
    },
    {
      "cell_type": "code",
      "execution_count": null,
      "metadata": {
        "id": "Baox_iUjd46K"
      },
      "outputs": [],
      "source": []
    },
    {
      "cell_type": "code",
      "execution_count": null,
      "metadata": {
        "id": "pGin0BRkd46K"
      },
      "outputs": [],
      "source": []
    },
    {
      "cell_type": "code",
      "execution_count": null,
      "metadata": {
        "id": "8ve96YSRd46K"
      },
      "outputs": [],
      "source": []
    },
    {
      "cell_type": "code",
      "execution_count": null,
      "metadata": {
        "id": "lmAL3hyOd46K"
      },
      "outputs": [],
      "source": []
    },
    {
      "cell_type": "code",
      "execution_count": null,
      "metadata": {
        "id": "e4synQZAd46L"
      },
      "outputs": [],
      "source": []
    },
    {
      "cell_type": "code",
      "execution_count": null,
      "metadata": {
        "id": "WTmW12Ned46L"
      },
      "outputs": [],
      "source": []
    },
    {
      "cell_type": "code",
      "execution_count": null,
      "metadata": {
        "id": "l7sIy_vcd46L"
      },
      "outputs": [],
      "source": []
    }
  ],
  "metadata": {
    "kernelspec": {
      "display_name": "Python 3",
      "language": "python",
      "name": "python3"
    },
    "language_info": {
      "codemirror_mode": {
        "name": "ipython",
        "version": 3
      },
      "file_extension": ".py",
      "mimetype": "text/x-python",
      "name": "python",
      "nbconvert_exporter": "python",
      "pygments_lexer": "ipython3",
      "version": "3.7.3"
    },
    "colab": {
      "provenance": [],
      "include_colab_link": true
    }
  },
  "nbformat": 4,
  "nbformat_minor": 0
}