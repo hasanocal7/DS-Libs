{
  "nbformat": 4,
  "nbformat_minor": 0,
  "metadata": {
    "colab": {
      "provenance": [],
      "authorship_tag": "ABX9TyNioka87UpVPvn5Sli2aV1f",
      "include_colab_link": true
    },
    "kernelspec": {
      "name": "python3",
      "display_name": "Python 3"
    },
    "language_info": {
      "name": "python"
    }
  },
  "cells": [
    {
      "cell_type": "markdown",
      "metadata": {
        "id": "view-in-github",
        "colab_type": "text"
      },
      "source": [
        "<a href=\"https://colab.research.google.com/github/hasanocal7/DS-Libs/blob/main/NumPy_2.ipynb\" target=\"_parent\"><img src=\"https://colab.research.google.com/assets/colab-badge.svg\" alt=\"Open In Colab\"/></a>"
      ]
    },
    {
      "cell_type": "code",
      "source": [
        "import numpy as np"
      ],
      "metadata": {
        "id": "kRQA-WzzLvDd"
      },
      "execution_count": null,
      "outputs": []
    },
    {
      "cell_type": "markdown",
      "source": [
        "# Bir Array'in Shape'ini Değiştirme"
      ],
      "metadata": {
        "id": "aNNYwy-kMD_w"
      }
    },
    {
      "cell_type": "code",
      "source": [
        "arr3d = np.array([[ [1,2,3] ,[4,5,6] , [10,25,35] ,[40,50,60]] , [[10,20,30] , [5,10,20] ,[11,22,33] ,[44,55,66] ]])\n",
        "arr3d"
      ],
      "metadata": {
        "colab": {
          "base_uri": "https://localhost:8080/"
        },
        "id": "ASfwwSUqLz8v",
        "outputId": "bc8faca1-4c17-4754-acfa-aeba41a70b28"
      },
      "execution_count": null,
      "outputs": [
        {
          "output_type": "execute_result",
          "data": {
            "text/plain": [
              "array([[[ 1,  2,  3],\n",
              "        [ 4,  5,  6],\n",
              "        [10, 25, 35],\n",
              "        [40, 50, 60]],\n",
              "\n",
              "       [[10, 20, 30],\n",
              "        [ 5, 10, 20],\n",
              "        [11, 22, 33],\n",
              "        [44, 55, 66]]])"
            ]
          },
          "metadata": {},
          "execution_count": 3
        }
      ]
    },
    {
      "cell_type": "code",
      "source": [
        "arr3d.reshape(2,12)"
      ],
      "metadata": {
        "colab": {
          "base_uri": "https://localhost:8080/"
        },
        "id": "QFFCILw6L8Ty",
        "outputId": "9cb9e4d2-6bd6-446d-a28c-b0b9d3aa98d6"
      },
      "execution_count": null,
      "outputs": [
        {
          "output_type": "execute_result",
          "data": {
            "text/plain": [
              "array([[ 1,  2,  3,  4,  5,  6, 10, 25, 35, 40, 50, 60],\n",
              "       [10, 20, 30,  5, 10, 20, 11, 22, 33, 44, 55, 66]])"
            ]
          },
          "metadata": {},
          "execution_count": 4
        }
      ]
    },
    {
      "cell_type": "code",
      "source": [
        "arr= np.arange(20)"
      ],
      "metadata": {
        "id": "rxTk8IGMMJ3B"
      },
      "execution_count": null,
      "outputs": []
    },
    {
      "cell_type": "code",
      "source": [
        "arr.shape"
      ],
      "metadata": {
        "colab": {
          "base_uri": "https://localhost:8080/"
        },
        "id": "5Zp-iJlMMPPh",
        "outputId": "e3b4006c-c2c7-4aac-dbce-c05b0cfef11b"
      },
      "execution_count": null,
      "outputs": [
        {
          "output_type": "execute_result",
          "data": {
            "text/plain": [
              "(20,)"
            ]
          },
          "metadata": {},
          "execution_count": 6
        }
      ]
    },
    {
      "cell_type": "code",
      "source": [
        "arr.reshape(2,5,2)"
      ],
      "metadata": {
        "colab": {
          "base_uri": "https://localhost:8080/"
        },
        "id": "bvqkDT6RMROH",
        "outputId": "4829586b-e4c3-45ad-c141-d74718fbbeaf"
      },
      "execution_count": null,
      "outputs": [
        {
          "output_type": "execute_result",
          "data": {
            "text/plain": [
              "array([[[ 0,  1],\n",
              "        [ 2,  3],\n",
              "        [ 4,  5],\n",
              "        [ 6,  7],\n",
              "        [ 8,  9]],\n",
              "\n",
              "       [[10, 11],\n",
              "        [12, 13],\n",
              "        [14, 15],\n",
              "        [16, 17],\n",
              "        [18, 19]]])"
            ]
          },
          "metadata": {},
          "execution_count": 7
        }
      ]
    },
    {
      "cell_type": "code",
      "source": [
        "#Bilinmeyen Boyut\n",
        "# .reshape metodu kullanılırken hesaplmk istemedeğimiz boyut yeribe -1 yazıp otomtik hesaplattırabiliriz."
      ],
      "metadata": {
        "id": "Nk7-uxfdMY_S"
      },
      "execution_count": null,
      "outputs": []
    },
    {
      "cell_type": "code",
      "source": [
        "arr3d= np.arange(120).reshape(5,2,-1)"
      ],
      "metadata": {
        "id": "utclaakmMnuV"
      },
      "execution_count": null,
      "outputs": []
    },
    {
      "cell_type": "code",
      "source": [
        "arr3d"
      ],
      "metadata": {
        "colab": {
          "base_uri": "https://localhost:8080/"
        },
        "id": "_InKh-nwMugh",
        "outputId": "5c932aeb-7fad-4c71-c7c3-2b6e57b947cc"
      },
      "execution_count": null,
      "outputs": [
        {
          "output_type": "execute_result",
          "data": {
            "text/plain": [
              "array([[[  0,   1,   2,   3,   4,   5,   6,   7,   8,   9,  10,  11],\n",
              "        [ 12,  13,  14,  15,  16,  17,  18,  19,  20,  21,  22,  23]],\n",
              "\n",
              "       [[ 24,  25,  26,  27,  28,  29,  30,  31,  32,  33,  34,  35],\n",
              "        [ 36,  37,  38,  39,  40,  41,  42,  43,  44,  45,  46,  47]],\n",
              "\n",
              "       [[ 48,  49,  50,  51,  52,  53,  54,  55,  56,  57,  58,  59],\n",
              "        [ 60,  61,  62,  63,  64,  65,  66,  67,  68,  69,  70,  71]],\n",
              "\n",
              "       [[ 72,  73,  74,  75,  76,  77,  78,  79,  80,  81,  82,  83],\n",
              "        [ 84,  85,  86,  87,  88,  89,  90,  91,  92,  93,  94,  95]],\n",
              "\n",
              "       [[ 96,  97,  98,  99, 100, 101, 102, 103, 104, 105, 106, 107],\n",
              "        [108, 109, 110, 111, 112, 113, 114, 115, 116, 117, 118, 119]]])"
            ]
          },
          "metadata": {},
          "execution_count": 9
        }
      ]
    },
    {
      "cell_type": "code",
      "source": [
        "# 0-59(59 dahil toplam 60 sayı) arasındaki tam sayılardan oluşan bir array oluşturun. \n",
        "# Ardından bu array'in shape'ini değiştirerek istediğiniz shape'lerde 3 boyutlu bir array elde edin."
      ],
      "metadata": {
        "id": "RPg4R0ODMxtX"
      },
      "execution_count": null,
      "outputs": []
    },
    {
      "cell_type": "code",
      "source": [
        "arr=np.arange(60).reshape(3,5,4)\n",
        "arr"
      ],
      "metadata": {
        "colab": {
          "base_uri": "https://localhost:8080/"
        },
        "id": "vxqMZFt2M1Dy",
        "outputId": "be6ce982-7bcd-4c93-adcc-99b71da0b27d"
      },
      "execution_count": null,
      "outputs": [
        {
          "output_type": "execute_result",
          "data": {
            "text/plain": [
              "array([[[ 0,  1,  2,  3],\n",
              "        [ 4,  5,  6,  7],\n",
              "        [ 8,  9, 10, 11],\n",
              "        [12, 13, 14, 15],\n",
              "        [16, 17, 18, 19]],\n",
              "\n",
              "       [[20, 21, 22, 23],\n",
              "        [24, 25, 26, 27],\n",
              "        [28, 29, 30, 31],\n",
              "        [32, 33, 34, 35],\n",
              "        [36, 37, 38, 39]],\n",
              "\n",
              "       [[40, 41, 42, 43],\n",
              "        [44, 45, 46, 47],\n",
              "        [48, 49, 50, 51],\n",
              "        [52, 53, 54, 55],\n",
              "        [56, 57, 58, 59]]])"
            ]
          },
          "metadata": {},
          "execution_count": 12
        }
      ]
    },
    {
      "cell_type": "code",
      "source": [
        "print(arr.ndim,arr.shape)"
      ],
      "metadata": {
        "colab": {
          "base_uri": "https://localhost:8080/"
        },
        "id": "qc7eN_saNMJK",
        "outputId": "9cf49d64-8d1a-4d4b-83a2-da105a1cca20"
      },
      "execution_count": null,
      "outputs": [
        {
          "output_type": "stream",
          "name": "stdout",
          "text": [
            "3 (3, 5, 4)\n"
          ]
        }
      ]
    },
    {
      "cell_type": "markdown",
      "source": [
        "# Arrayleri Düzleştime (Flatten)"
      ],
      "metadata": {
        "id": "33Q6JipkNohg"
      }
    },
    {
      "cell_type": "code",
      "source": [
        "# DÜzleştirme işlemi çok boyutlu bir array'i 1 boyutlu hale döndürmeye denir.\n",
        "# Basitçe .reshape(-1) metoduyla yapılır."
      ],
      "metadata": {
        "id": "oe8n5paVNqiX"
      },
      "execution_count": null,
      "outputs": []
    },
    {
      "cell_type": "code",
      "source": [
        "arr2d= np.arange(40).reshape(8,5)\n",
        "arr2d"
      ],
      "metadata": {
        "colab": {
          "base_uri": "https://localhost:8080/"
        },
        "id": "AkovitXyN4FE",
        "outputId": "52473dae-5866-40e6-8a3b-493c8207206c"
      },
      "execution_count": null,
      "outputs": [
        {
          "output_type": "execute_result",
          "data": {
            "text/plain": [
              "array([[ 0,  1,  2,  3,  4],\n",
              "       [ 5,  6,  7,  8,  9],\n",
              "       [10, 11, 12, 13, 14],\n",
              "       [15, 16, 17, 18, 19],\n",
              "       [20, 21, 22, 23, 24],\n",
              "       [25, 26, 27, 28, 29],\n",
              "       [30, 31, 32, 33, 34],\n",
              "       [35, 36, 37, 38, 39]])"
            ]
          },
          "metadata": {},
          "execution_count": 14
        }
      ]
    },
    {
      "cell_type": "code",
      "source": [
        "arr2d.reshape(-1)"
      ],
      "metadata": {
        "colab": {
          "base_uri": "https://localhost:8080/"
        },
        "id": "fhtjDzY9OJ7S",
        "outputId": "675f1964-5f19-48eb-a897-16c2bb553aa3"
      },
      "execution_count": null,
      "outputs": [
        {
          "output_type": "execute_result",
          "data": {
            "text/plain": [
              "array([ 0,  1,  2,  3,  4,  5,  6,  7,  8,  9, 10, 11, 12, 13, 14, 15, 16,\n",
              "       17, 18, 19, 20, 21, 22, 23, 24, 25, 26, 27, 28, 29, 30, 31, 32, 33,\n",
              "       34, 35, 36, 37, 38, 39])"
            ]
          },
          "metadata": {},
          "execution_count": 15
        }
      ]
    },
    {
      "cell_type": "code",
      "source": [
        "arr3d=np.arange(60).reshape(-1,5,4)\n",
        "arr3d"
      ],
      "metadata": {
        "colab": {
          "base_uri": "https://localhost:8080/"
        },
        "id": "l9V1V_QTOXcY",
        "outputId": "06e86967-c2f4-4426-9f9d-737ee6a16895"
      },
      "execution_count": null,
      "outputs": [
        {
          "output_type": "execute_result",
          "data": {
            "text/plain": [
              "array([[[ 0,  1,  2,  3],\n",
              "        [ 4,  5,  6,  7],\n",
              "        [ 8,  9, 10, 11],\n",
              "        [12, 13, 14, 15],\n",
              "        [16, 17, 18, 19]],\n",
              "\n",
              "       [[20, 21, 22, 23],\n",
              "        [24, 25, 26, 27],\n",
              "        [28, 29, 30, 31],\n",
              "        [32, 33, 34, 35],\n",
              "        [36, 37, 38, 39]],\n",
              "\n",
              "       [[40, 41, 42, 43],\n",
              "        [44, 45, 46, 47],\n",
              "        [48, 49, 50, 51],\n",
              "        [52, 53, 54, 55],\n",
              "        [56, 57, 58, 59]]])"
            ]
          },
          "metadata": {},
          "execution_count": 16
        }
      ]
    },
    {
      "cell_type": "code",
      "source": [
        "arr3d.reshape(-1)"
      ],
      "metadata": {
        "colab": {
          "base_uri": "https://localhost:8080/"
        },
        "id": "9RwuNCswOg8T",
        "outputId": "a536f6ae-da6f-416a-ed5f-e525b5249f37"
      },
      "execution_count": null,
      "outputs": [
        {
          "output_type": "execute_result",
          "data": {
            "text/plain": [
              "array([ 0,  1,  2,  3,  4,  5,  6,  7,  8,  9, 10, 11, 12, 13, 14, 15, 16,\n",
              "       17, 18, 19, 20, 21, 22, 23, 24, 25, 26, 27, 28, 29, 30, 31, 32, 33,\n",
              "       34, 35, 36, 37, 38, 39, 40, 41, 42, 43, 44, 45, 46, 47, 48, 49, 50,\n",
              "       51, 52, 53, 54, 55, 56, 57, 58, 59])"
            ]
          },
          "metadata": {},
          "execution_count": 17
        }
      ]
    },
    {
      "cell_type": "code",
      "source": [
        "# Soru : 30 elemanlı ve 3 boyutlu bir array oluşturun. Ardından bu array'i düzleştirin ve boyutunu, shapeini kontrol edin."
      ],
      "metadata": {
        "id": "1eJZ6Fi2OhX6"
      },
      "execution_count": null,
      "outputs": []
    },
    {
      "cell_type": "code",
      "source": [
        "arr= np.arange(30).reshape(3,5,2)\n",
        "arr"
      ],
      "metadata": {
        "colab": {
          "base_uri": "https://localhost:8080/"
        },
        "id": "KxT91cr_OlhM",
        "outputId": "211843dc-b0e0-4f01-8792-0a24dcbca63b"
      },
      "execution_count": null,
      "outputs": [
        {
          "output_type": "execute_result",
          "data": {
            "text/plain": [
              "array([[[ 0,  1],\n",
              "        [ 2,  3],\n",
              "        [ 4,  5],\n",
              "        [ 6,  7],\n",
              "        [ 8,  9]],\n",
              "\n",
              "       [[10, 11],\n",
              "        [12, 13],\n",
              "        [14, 15],\n",
              "        [16, 17],\n",
              "        [18, 19]],\n",
              "\n",
              "       [[20, 21],\n",
              "        [22, 23],\n",
              "        [24, 25],\n",
              "        [26, 27],\n",
              "        [28, 29]]])"
            ]
          },
          "metadata": {},
          "execution_count": 18
        }
      ]
    },
    {
      "cell_type": "code",
      "source": [
        "arr=arr.reshape(-1)"
      ],
      "metadata": {
        "id": "orppEr9mOxxr"
      },
      "execution_count": null,
      "outputs": []
    },
    {
      "cell_type": "code",
      "source": [
        "print(arr.ndim,arr.shape)"
      ],
      "metadata": {
        "colab": {
          "base_uri": "https://localhost:8080/"
        },
        "id": "4rH8sbJYO2dT",
        "outputId": "da8509f6-f9b7-4f68-f56e-dbecbb76a095"
      },
      "execution_count": null,
      "outputs": [
        {
          "output_type": "stream",
          "name": "stdout",
          "text": [
            "1 (30,)\n"
          ]
        }
      ]
    },
    {
      "cell_type": "markdown",
      "source": [
        "# Çok Boyutlu Arraylerde Iteration (Yİneleme)\n",
        "\n"
      ],
      "metadata": {
        "id": "pr8HMsSYPTgM"
      }
    },
    {
      "cell_type": "code",
      "source": [
        "arr1d=np.arange(10)\n",
        "arr1d"
      ],
      "metadata": {
        "colab": {
          "base_uri": "https://localhost:8080/"
        },
        "id": "ReBToUu3Pa-i",
        "outputId": "497970a3-a50f-4821-8139-2bc42ca93663"
      },
      "execution_count": null,
      "outputs": [
        {
          "output_type": "execute_result",
          "data": {
            "text/plain": [
              "array([0, 1, 2, 3, 4, 5, 6, 7, 8, 9])"
            ]
          },
          "metadata": {},
          "execution_count": 23
        }
      ]
    },
    {
      "cell_type": "code",
      "source": [
        "for i in arr1d:print(i)"
      ],
      "metadata": {
        "colab": {
          "base_uri": "https://localhost:8080/"
        },
        "id": "Bl04ouflPi2X",
        "outputId": "1fb4e451-57f2-4156-d087-82df194e271d"
      },
      "execution_count": null,
      "outputs": [
        {
          "output_type": "stream",
          "name": "stdout",
          "text": [
            "0\n",
            "1\n",
            "2\n",
            "3\n",
            "4\n",
            "5\n",
            "6\n",
            "7\n",
            "8\n",
            "9\n"
          ]
        }
      ]
    },
    {
      "cell_type": "code",
      "source": [
        "arr2d = np.arange(20).reshape(4,5)\n",
        "for i in arr2d:\n",
        "  for j in i:\n",
        "    print(j)"
      ],
      "metadata": {
        "colab": {
          "base_uri": "https://localhost:8080/"
        },
        "id": "xjd2zHpaPpe3",
        "outputId": "8bd63689-beb2-481a-9b95-47786b601a0e"
      },
      "execution_count": null,
      "outputs": [
        {
          "output_type": "stream",
          "name": "stdout",
          "text": [
            "0\n",
            "1\n",
            "2\n",
            "3\n",
            "4\n",
            "5\n",
            "6\n",
            "7\n",
            "8\n",
            "9\n",
            "10\n",
            "11\n",
            "12\n",
            "13\n",
            "14\n",
            "15\n",
            "16\n",
            "17\n",
            "18\n",
            "19\n"
          ]
        }
      ]
    },
    {
      "cell_type": "code",
      "source": [
        "arr3d= np.random.randint(1,100,50).reshape(5,5,2)\n",
        "for i in arr3d:\n",
        "  for j in i:\n",
        "    for k in j:\n",
        "      print(k)"
      ],
      "metadata": {
        "colab": {
          "base_uri": "https://localhost:8080/"
        },
        "id": "pJDXo3uRQT07",
        "outputId": "27fce229-4038-4cc2-c49b-9ecde38e721e"
      },
      "execution_count": null,
      "outputs": [
        {
          "output_type": "stream",
          "name": "stdout",
          "text": [
            "66\n",
            "7\n",
            "10\n",
            "3\n",
            "55\n",
            "95\n",
            "62\n",
            "14\n",
            "89\n",
            "95\n",
            "55\n",
            "48\n",
            "27\n",
            "89\n",
            "71\n",
            "22\n",
            "65\n",
            "23\n",
            "83\n",
            "91\n",
            "44\n",
            "3\n",
            "14\n",
            "51\n",
            "81\n",
            "34\n",
            "72\n",
            "27\n",
            "72\n",
            "43\n",
            "25\n",
            "96\n",
            "82\n",
            "57\n",
            "76\n",
            "21\n",
            "35\n",
            "59\n",
            "1\n",
            "69\n",
            "23\n",
            "37\n",
            "4\n",
            "72\n",
            "4\n",
            "48\n",
            "37\n",
            "46\n",
            "83\n",
            "75\n"
          ]
        }
      ]
    },
    {
      "cell_type": "markdown",
      "source": [
        "# Çok Boyutlu Arraylerde nditer() Kullanımı"
      ],
      "metadata": {
        "id": "Hw3bIQ1HQnAf"
      }
    },
    {
      "cell_type": "code",
      "source": [
        "# Çok boyutlu arraylerde nditer() fonksiyonu for dan kurtulup tüm elemanları dönmemize yarar"
      ],
      "metadata": {
        "id": "CjEj5QIUQk9r"
      },
      "execution_count": null,
      "outputs": []
    },
    {
      "cell_type": "code",
      "source": [
        "arr3d"
      ],
      "metadata": {
        "colab": {
          "base_uri": "https://localhost:8080/"
        },
        "id": "ddU3G5LGQ9d1",
        "outputId": "c9df43a6-1faf-40c7-fbed-68784a94b206"
      },
      "execution_count": null,
      "outputs": [
        {
          "output_type": "execute_result",
          "data": {
            "text/plain": [
              "array([[[66,  7],\n",
              "        [10,  3],\n",
              "        [55, 95],\n",
              "        [62, 14],\n",
              "        [89, 95]],\n",
              "\n",
              "       [[55, 48],\n",
              "        [27, 89],\n",
              "        [71, 22],\n",
              "        [65, 23],\n",
              "        [83, 91]],\n",
              "\n",
              "       [[44,  3],\n",
              "        [14, 51],\n",
              "        [81, 34],\n",
              "        [72, 27],\n",
              "        [72, 43]],\n",
              "\n",
              "       [[25, 96],\n",
              "        [82, 57],\n",
              "        [76, 21],\n",
              "        [35, 59],\n",
              "        [ 1, 69]],\n",
              "\n",
              "       [[23, 37],\n",
              "        [ 4, 72],\n",
              "        [ 4, 48],\n",
              "        [37, 46],\n",
              "        [83, 75]]])"
            ]
          },
          "metadata": {},
          "execution_count": 32
        }
      ]
    },
    {
      "cell_type": "code",
      "source": [
        "for i in np.nditer(arr3d):\n",
        "  print(i)"
      ],
      "metadata": {
        "colab": {
          "base_uri": "https://localhost:8080/"
        },
        "id": "HFOhtdynQ_Cu",
        "outputId": "aba49277-800c-4aa5-b8d6-32b97c9bd0ae"
      },
      "execution_count": null,
      "outputs": [
        {
          "output_type": "stream",
          "name": "stdout",
          "text": [
            "66\n",
            "7\n",
            "10\n",
            "3\n",
            "55\n",
            "95\n",
            "62\n",
            "14\n",
            "89\n",
            "95\n",
            "55\n",
            "48\n",
            "27\n",
            "89\n",
            "71\n",
            "22\n",
            "65\n",
            "23\n",
            "83\n",
            "91\n",
            "44\n",
            "3\n",
            "14\n",
            "51\n",
            "81\n",
            "34\n",
            "72\n",
            "27\n",
            "72\n",
            "43\n",
            "25\n",
            "96\n",
            "82\n",
            "57\n",
            "76\n",
            "21\n",
            "35\n",
            "59\n",
            "1\n",
            "69\n",
            "23\n",
            "37\n",
            "4\n",
            "72\n",
            "4\n",
            "48\n",
            "37\n",
            "46\n",
            "83\n",
            "75\n"
          ]
        }
      ]
    },
    {
      "cell_type": "code",
      "source": [
        "# Soru : 0'dan 119'a kadar(119 dahil) toplamda 60 elemanlı bir array oluşturun. Ardından bu array'in shape'ini ayarlayarak 3 boyutlu hale getirin. \n",
        "# Devamında da içindeki bütün elemanları tek tek dönün."
      ],
      "metadata": {
        "id": "tDwtitx2RGpE"
      },
      "execution_count": null,
      "outputs": []
    },
    {
      "cell_type": "code",
      "source": [
        "arr = np.arange(120).reshape(2,20,-1)\n",
        "arr"
      ],
      "metadata": {
        "colab": {
          "base_uri": "https://localhost:8080/"
        },
        "id": "Cbqio_o6RIw2",
        "outputId": "2c358a8c-8108-43c2-9d46-398631b93481"
      },
      "execution_count": null,
      "outputs": [
        {
          "output_type": "execute_result",
          "data": {
            "text/plain": [
              "array([[[  0,   1,   2],\n",
              "        [  3,   4,   5],\n",
              "        [  6,   7,   8],\n",
              "        [  9,  10,  11],\n",
              "        [ 12,  13,  14],\n",
              "        [ 15,  16,  17],\n",
              "        [ 18,  19,  20],\n",
              "        [ 21,  22,  23],\n",
              "        [ 24,  25,  26],\n",
              "        [ 27,  28,  29],\n",
              "        [ 30,  31,  32],\n",
              "        [ 33,  34,  35],\n",
              "        [ 36,  37,  38],\n",
              "        [ 39,  40,  41],\n",
              "        [ 42,  43,  44],\n",
              "        [ 45,  46,  47],\n",
              "        [ 48,  49,  50],\n",
              "        [ 51,  52,  53],\n",
              "        [ 54,  55,  56],\n",
              "        [ 57,  58,  59]],\n",
              "\n",
              "       [[ 60,  61,  62],\n",
              "        [ 63,  64,  65],\n",
              "        [ 66,  67,  68],\n",
              "        [ 69,  70,  71],\n",
              "        [ 72,  73,  74],\n",
              "        [ 75,  76,  77],\n",
              "        [ 78,  79,  80],\n",
              "        [ 81,  82,  83],\n",
              "        [ 84,  85,  86],\n",
              "        [ 87,  88,  89],\n",
              "        [ 90,  91,  92],\n",
              "        [ 93,  94,  95],\n",
              "        [ 96,  97,  98],\n",
              "        [ 99, 100, 101],\n",
              "        [102, 103, 104],\n",
              "        [105, 106, 107],\n",
              "        [108, 109, 110],\n",
              "        [111, 112, 113],\n",
              "        [114, 115, 116],\n",
              "        [117, 118, 119]]])"
            ]
          },
          "metadata": {},
          "execution_count": 34
        }
      ]
    },
    {
      "cell_type": "code",
      "source": [
        "for i in np.nditer(arr):\n",
        "  print(i)"
      ],
      "metadata": {
        "colab": {
          "base_uri": "https://localhost:8080/"
        },
        "id": "oE3p1SBhRdyX",
        "outputId": "2bb443bc-1dd5-45c9-e024-b70b504273d7"
      },
      "execution_count": null,
      "outputs": [
        {
          "output_type": "stream",
          "name": "stdout",
          "text": [
            "0\n",
            "1\n",
            "2\n",
            "3\n",
            "4\n",
            "5\n",
            "6\n",
            "7\n",
            "8\n",
            "9\n",
            "10\n",
            "11\n",
            "12\n",
            "13\n",
            "14\n",
            "15\n",
            "16\n",
            "17\n",
            "18\n",
            "19\n",
            "20\n",
            "21\n",
            "22\n",
            "23\n",
            "24\n",
            "25\n",
            "26\n",
            "27\n",
            "28\n",
            "29\n",
            "30\n",
            "31\n",
            "32\n",
            "33\n",
            "34\n",
            "35\n",
            "36\n",
            "37\n",
            "38\n",
            "39\n",
            "40\n",
            "41\n",
            "42\n",
            "43\n",
            "44\n",
            "45\n",
            "46\n",
            "47\n",
            "48\n",
            "49\n",
            "50\n",
            "51\n",
            "52\n",
            "53\n",
            "54\n",
            "55\n",
            "56\n",
            "57\n",
            "58\n",
            "59\n",
            "60\n",
            "61\n",
            "62\n",
            "63\n",
            "64\n",
            "65\n",
            "66\n",
            "67\n",
            "68\n",
            "69\n",
            "70\n",
            "71\n",
            "72\n",
            "73\n",
            "74\n",
            "75\n",
            "76\n",
            "77\n",
            "78\n",
            "79\n",
            "80\n",
            "81\n",
            "82\n",
            "83\n",
            "84\n",
            "85\n",
            "86\n",
            "87\n",
            "88\n",
            "89\n",
            "90\n",
            "91\n",
            "92\n",
            "93\n",
            "94\n",
            "95\n",
            "96\n",
            "97\n",
            "98\n",
            "99\n",
            "100\n",
            "101\n",
            "102\n",
            "103\n",
            "104\n",
            "105\n",
            "106\n",
            "107\n",
            "108\n",
            "109\n",
            "110\n",
            "111\n",
            "112\n",
            "113\n",
            "114\n",
            "115\n",
            "116\n",
            "117\n",
            "118\n",
            "119\n"
          ]
        }
      ]
    },
    {
      "cell_type": "markdown",
      "source": [
        "# Array Elemanları Arasında 4 İşlem"
      ],
      "metadata": {
        "id": "yxQAkh3gSDne"
      }
    },
    {
      "cell_type": "code",
      "source": [
        "arr1 = np.array([10,20,50,100])\n",
        "arr2 = np.array([5,7,9,-1])"
      ],
      "metadata": {
        "id": "te7u7hcISHjL"
      },
      "execution_count": null,
      "outputs": []
    },
    {
      "cell_type": "code",
      "source": [
        "arr1 + arr2"
      ],
      "metadata": {
        "colab": {
          "base_uri": "https://localhost:8080/"
        },
        "id": "Rlx3GgBgSVPg",
        "outputId": "9a381fa0-6fa2-4d50-a3ee-679f0889a94f"
      },
      "execution_count": null,
      "outputs": [
        {
          "output_type": "execute_result",
          "data": {
            "text/plain": [
              "array([15, 27, 59, 99])"
            ]
          },
          "metadata": {},
          "execution_count": 39
        }
      ]
    },
    {
      "cell_type": "code",
      "source": [
        "arr1.__add__(arr2)"
      ],
      "metadata": {
        "colab": {
          "base_uri": "https://localhost:8080/"
        },
        "id": "sjZGtYM0SYQE",
        "outputId": "2a36662e-0a53-4cb8-8dd5-ec76a906b1e0"
      },
      "execution_count": null,
      "outputs": [
        {
          "output_type": "execute_result",
          "data": {
            "text/plain": [
              "array([15, 27, 59, 99])"
            ]
          },
          "metadata": {},
          "execution_count": 40
        }
      ]
    },
    {
      "cell_type": "code",
      "source": [
        "arr1 - arr2"
      ],
      "metadata": {
        "colab": {
          "base_uri": "https://localhost:8080/"
        },
        "id": "9EbGc_0HSfGV",
        "outputId": "5c0f9931-a349-4c75-c0fe-55874f3a9e4e"
      },
      "execution_count": null,
      "outputs": [
        {
          "output_type": "execute_result",
          "data": {
            "text/plain": [
              "array([  5,  13,  41, 101])"
            ]
          },
          "metadata": {},
          "execution_count": 41
        }
      ]
    },
    {
      "cell_type": "code",
      "source": [
        "arr1.__sub__(arr2)"
      ],
      "metadata": {
        "colab": {
          "base_uri": "https://localhost:8080/"
        },
        "id": "S3la7cztShR_",
        "outputId": "fad62870-e541-4b45-db06-8b5b29c3385a"
      },
      "execution_count": null,
      "outputs": [
        {
          "output_type": "execute_result",
          "data": {
            "text/plain": [
              "array([  5,  13,  41, 101])"
            ]
          },
          "metadata": {},
          "execution_count": 43
        }
      ]
    },
    {
      "cell_type": "code",
      "source": [
        "arr1 * arr2"
      ],
      "metadata": {
        "colab": {
          "base_uri": "https://localhost:8080/"
        },
        "id": "7EUuroyTStKv",
        "outputId": "55f51101-86f6-4eb5-8f98-a30e1acffbc4"
      },
      "execution_count": null,
      "outputs": [
        {
          "output_type": "execute_result",
          "data": {
            "text/plain": [
              "array([  50,  140,  450, -100])"
            ]
          },
          "metadata": {},
          "execution_count": 44
        }
      ]
    },
    {
      "cell_type": "code",
      "source": [
        "arr1 / arr2"
      ],
      "metadata": {
        "colab": {
          "base_uri": "https://localhost:8080/"
        },
        "id": "6tucZ9tXSzVF",
        "outputId": "f9a914f4-95ab-42b4-8b38-eb11e187a2d1"
      },
      "execution_count": null,
      "outputs": [
        {
          "output_type": "execute_result",
          "data": {
            "text/plain": [
              "array([   2.        ,    2.85714286,    5.55555556, -100.        ])"
            ]
          },
          "metadata": {},
          "execution_count": 45
        }
      ]
    },
    {
      "cell_type": "markdown",
      "source": [
        "# Bir Arrayin Toplamına/Ortalamasına/Varyansına/Standart Sapmasına Bakma"
      ],
      "metadata": {
        "id": "7s9eUgX2THa7"
      }
    },
    {
      "cell_type": "code",
      "source": [
        "arr = np.random.randint(0,101,10)"
      ],
      "metadata": {
        "id": "nupBGnpbS7GY"
      },
      "execution_count": null,
      "outputs": []
    },
    {
      "cell_type": "code",
      "source": [
        "arr.sum()"
      ],
      "metadata": {
        "colab": {
          "base_uri": "https://localhost:8080/"
        },
        "id": "24-24-YaTXTF",
        "outputId": "cdeaaaa0-095b-4ac4-bedd-d7c0a703da71"
      },
      "execution_count": null,
      "outputs": [
        {
          "output_type": "execute_result",
          "data": {
            "text/plain": [
              "570"
            ]
          },
          "metadata": {},
          "execution_count": 56
        }
      ]
    },
    {
      "cell_type": "code",
      "source": [
        "arr.mean()"
      ],
      "metadata": {
        "colab": {
          "base_uri": "https://localhost:8080/"
        },
        "id": "VW-pEYcFTf2z",
        "outputId": "77369f58-f604-4380-ab4e-9ccfbf378abf"
      },
      "execution_count": null,
      "outputs": [
        {
          "output_type": "execute_result",
          "data": {
            "text/plain": [
              "57.0"
            ]
          },
          "metadata": {},
          "execution_count": 57
        }
      ]
    },
    {
      "cell_type": "code",
      "source": [
        "arr.var()"
      ],
      "metadata": {
        "colab": {
          "base_uri": "https://localhost:8080/"
        },
        "id": "nvk4KvYeTjLt",
        "outputId": "4ac8c64c-bc6b-4a2d-c60e-4de0e834b5ac"
      },
      "execution_count": null,
      "outputs": [
        {
          "output_type": "execute_result",
          "data": {
            "text/plain": [
              "512.2"
            ]
          },
          "metadata": {},
          "execution_count": 58
        }
      ]
    },
    {
      "cell_type": "code",
      "source": [
        "arr.std()"
      ],
      "metadata": {
        "colab": {
          "base_uri": "https://localhost:8080/"
        },
        "id": "WnGom6NfTl21",
        "outputId": "d09e046e-0f46-4027-ac73-3c20db43fa9c"
      },
      "execution_count": null,
      "outputs": [
        {
          "output_type": "execute_result",
          "data": {
            "text/plain": [
              "22.631835983852483"
            ]
          },
          "metadata": {},
          "execution_count": 59
        }
      ]
    },
    {
      "cell_type": "code",
      "source": [
        "np.sqrt(arr)"
      ],
      "metadata": {
        "colab": {
          "base_uri": "https://localhost:8080/"
        },
        "id": "RWuIdKU9UYbl",
        "outputId": "19e1dc30-a6b5-4b36-e949-ff525eeea2ee"
      },
      "execution_count": null,
      "outputs": [
        {
          "output_type": "execute_result",
          "data": {
            "text/plain": [
              "array([9.79795897, 6.164414  , 7.74596669, 9.11043358, 9.21954446,\n",
              "       6.78232998, 6.08276253, 7.61577311, 6.4807407 , 5.        ])"
            ]
          },
          "metadata": {},
          "execution_count": 60
        }
      ]
    },
    {
      "cell_type": "code",
      "source": [
        "np.sin(arr)"
      ],
      "metadata": {
        "colab": {
          "base_uri": "https://localhost:8080/"
        },
        "id": "iRNDPTlkUc8P",
        "outputId": "2a2d011d-69d4-41d4-ecb4-7b1b18be8572"
      },
      "execution_count": null,
      "outputs": [
        {
          "output_type": "execute_result",
          "data": {
            "text/plain": [
              "array([0.98935825, 0.41211849, 0.14112001, 0.98935825, 0.90929743,\n",
              "       0.14112001, 0.14112001, 0.6569866 , 0.6569866 , 0.6569866 ])"
            ]
          },
          "metadata": {},
          "execution_count": 54
        }
      ]
    },
    {
      "cell_type": "code",
      "source": [
        "# Soru : 0-100 arası rastgele 10 tam sayıdan oluşan bir array oluşturun ve oluşturulan arrayin sum/mean/max/var/std değerlerini inceleyin."
      ],
      "metadata": {
        "id": "ggIXme-PUm5h"
      },
      "execution_count": null,
      "outputs": []
    },
    {
      "cell_type": "code",
      "source": [
        "arr = np.random.randint(0,100,10)\n",
        "print(arr.sum(),arr.mean(),arr.var(),arr.std())"
      ],
      "metadata": {
        "colab": {
          "base_uri": "https://localhost:8080/"
        },
        "id": "uPxZ-2bUUsg8",
        "outputId": "e086cf3f-b883-448a-e8fe-c4f4c1c7b79a"
      },
      "execution_count": null,
      "outputs": [
        {
          "output_type": "stream",
          "name": "stdout",
          "text": [
            "424 42.4 583.24 24.150362316122713\n"
          ]
        }
      ]
    },
    {
      "cell_type": "markdown",
      "source": [
        "# NumPy Arraylerini Birleştirme (Concetanate)"
      ],
      "metadata": {
        "id": "WEdFiVPDVc2w"
      }
    },
    {
      "cell_type": "code",
      "source": [
        "# NumPy arraylerini birleştirme işlemi np.concatenate fonksiyonu ile yapılır. \n",
        "# Fonksiyonun içine liste halinde birleştirerek arrayler verilir\n",
        "# np.concatenate([arr1,arr2], axis=1)"
      ],
      "metadata": {
        "id": "MpqUAG1YVcID"
      },
      "execution_count": null,
      "outputs": []
    },
    {
      "cell_type": "code",
      "source": [
        "arr1 = np.array([1,2,3])\n",
        "arr2 = np.array([4,5,6])"
      ],
      "metadata": {
        "id": "kNgBT3pMV5yK"
      },
      "execution_count": null,
      "outputs": []
    },
    {
      "cell_type": "code",
      "source": [
        "np.concatenate([arr1,arr2])"
      ],
      "metadata": {
        "colab": {
          "base_uri": "https://localhost:8080/"
        },
        "id": "N8pMD7tQWDfg",
        "outputId": "6bb3785e-d38a-4967-ca3a-69a576c8d902"
      },
      "execution_count": null,
      "outputs": [
        {
          "output_type": "execute_result",
          "data": {
            "text/plain": [
              "array([1, 2, 3, 4, 5, 6])"
            ]
          },
          "metadata": {},
          "execution_count": 65
        }
      ]
    },
    {
      "cell_type": "code",
      "source": [
        "arr1 = np.array([[1,2,3]])\n",
        "arr2 = np.array([[4,5,6]])"
      ],
      "metadata": {
        "id": "Cl_7E_skWLu_"
      },
      "execution_count": null,
      "outputs": []
    },
    {
      "cell_type": "code",
      "source": [
        "np.concatenate([arr1,arr2],axis=1) # axis=1 üzerinde concatenate işlemi yapabilmek için dimension 2d olması gerek"
      ],
      "metadata": {
        "colab": {
          "base_uri": "https://localhost:8080/"
        },
        "id": "WZ9hS74GWgdN",
        "outputId": "03f0b590-1547-48e6-c93b-ce6fbb1cf337"
      },
      "execution_count": null,
      "outputs": [
        {
          "output_type": "execute_result",
          "data": {
            "text/plain": [
              "array([[1, 2, 3, 4, 5, 6]])"
            ]
          },
          "metadata": {},
          "execution_count": 69
        }
      ]
    },
    {
      "cell_type": "markdown",
      "source": [
        "# Arrayleri Stackleme (Yığınlama)"
      ],
      "metadata": {
        "id": "0BkjmVEiW84P"
      }
    },
    {
      "cell_type": "code",
      "source": [
        "# Concatenate işleminin hemen hemen aynısıdır. Tek Farkı yeni bir boyut(eksen) üzerinde yığınamalar yapmasıdır."
      ],
      "metadata": {
        "id": "QONpr2ZXXAxO"
      },
      "execution_count": null,
      "outputs": []
    },
    {
      "cell_type": "code",
      "source": [
        "arr1"
      ],
      "metadata": {
        "colab": {
          "base_uri": "https://localhost:8080/"
        },
        "id": "ScvDDDGZXnJP",
        "outputId": "574975a7-051f-4158-ebf4-c43f9b930089"
      },
      "execution_count": null,
      "outputs": [
        {
          "output_type": "execute_result",
          "data": {
            "text/plain": [
              "array([[1, 2, 3]])"
            ]
          },
          "metadata": {},
          "execution_count": 70
        }
      ]
    },
    {
      "cell_type": "code",
      "source": [
        "arr2"
      ],
      "metadata": {
        "colab": {
          "base_uri": "https://localhost:8080/"
        },
        "id": "xA9cMKTtXtOL",
        "outputId": "30fa9425-15b8-48ee-825a-afaa4f2c28c1"
      },
      "execution_count": null,
      "outputs": [
        {
          "output_type": "execute_result",
          "data": {
            "text/plain": [
              "array([[4, 5, 6]])"
            ]
          },
          "metadata": {},
          "execution_count": 71
        }
      ]
    },
    {
      "cell_type": "code",
      "source": [
        "np.stack([arr1,arr2])"
      ],
      "metadata": {
        "colab": {
          "base_uri": "https://localhost:8080/"
        },
        "id": "JHWrWwHEXuxt",
        "outputId": "e495f2e3-4dcd-473e-c80e-300b607409f9"
      },
      "execution_count": null,
      "outputs": [
        {
          "output_type": "execute_result",
          "data": {
            "text/plain": [
              "array([[[1, 2, 3]],\n",
              "\n",
              "       [[4, 5, 6]]])"
            ]
          },
          "metadata": {},
          "execution_count": 72
        }
      ]
    },
    {
      "cell_type": "code",
      "source": [
        "np.stack([arr1,arr2],axis=1)"
      ],
      "metadata": {
        "colab": {
          "base_uri": "https://localhost:8080/"
        },
        "id": "TQXxuNjcX01S",
        "outputId": "cf5f0191-4c74-40a7-9c85-1989f9193b26"
      },
      "execution_count": null,
      "outputs": [
        {
          "output_type": "execute_result",
          "data": {
            "text/plain": [
              "array([[[1, 2, 3],\n",
              "        [4, 5, 6]]])"
            ]
          },
          "metadata": {},
          "execution_count": 73
        }
      ]
    },
    {
      "cell_type": "code",
      "source": [
        "# np.hstack() --> Satır boyunca yığınlama\n",
        "# np.vstack() --> Sütun boyunca Yığınlama"
      ],
      "metadata": {
        "id": "_vkrs18DYL_H"
      },
      "execution_count": null,
      "outputs": []
    },
    {
      "cell_type": "markdown",
      "source": [
        "# NumPy Arraylerinde Arama"
      ],
      "metadata": {
        "id": "dVrawcHPYYqk"
      }
    },
    {
      "cell_type": "code",
      "source": [
        "# Aradığımız değerlerin bulunduğu indexleri döndürmek için np.where() fonksiyonunu kullanırız.\n",
        "# np.where() içerisine argüman olarak condition(şart) alır."
      ],
      "metadata": {
        "id": "HQPBqNsFYcRX"
      },
      "execution_count": null,
      "outputs": []
    },
    {
      "cell_type": "code",
      "source": [
        "arr"
      ],
      "metadata": {
        "colab": {
          "base_uri": "https://localhost:8080/"
        },
        "id": "d7qzZm-uYwiT",
        "outputId": "fc0ce7ec-278e-46dc-c3e0-ea3e8a053916"
      },
      "execution_count": null,
      "outputs": [
        {
          "output_type": "execute_result",
          "data": {
            "text/plain": [
              "array([83, 37, 49, 43, 20,  8, 35, 75, 62, 12])"
            ]
          },
          "metadata": {},
          "execution_count": 74
        }
      ]
    },
    {
      "cell_type": "code",
      "source": [
        "np.where(arr == 8) # Arrayimizin kaçıncı indexinde istenilen eleman var olduğunu döndürür"
      ],
      "metadata": {
        "colab": {
          "base_uri": "https://localhost:8080/"
        },
        "id": "r3rn9IW4YyKN",
        "outputId": "9717c6aa-cf51-4a94-d371-ea959613b902"
      },
      "execution_count": null,
      "outputs": [
        {
          "output_type": "execute_result",
          "data": {
            "text/plain": [
              "(array([5]),)"
            ]
          },
          "metadata": {},
          "execution_count": 76
        }
      ]
    },
    {
      "cell_type": "code",
      "source": [
        "np.where(arr%2==0)"
      ],
      "metadata": {
        "colab": {
          "base_uri": "https://localhost:8080/"
        },
        "id": "9fC_I6E4Zcj3",
        "outputId": "e69a2431-471b-44e4-b679-d79bd5a58eb9"
      },
      "execution_count": null,
      "outputs": [
        {
          "output_type": "execute_result",
          "data": {
            "text/plain": [
              "(array([4, 5, 8, 9]),)"
            ]
          },
          "metadata": {},
          "execution_count": 77
        }
      ]
    },
    {
      "cell_type": "code",
      "source": [
        "#Ekstra\n",
        "np.random.randn(5) # Normal Dağılım"
      ],
      "metadata": {
        "colab": {
          "base_uri": "https://localhost:8080/"
        },
        "id": "9gETStc9aw-l",
        "outputId": "79e7a966-9c3f-4cb3-c652-654c8be8b497"
      },
      "execution_count": null,
      "outputs": [
        {
          "output_type": "execute_result",
          "data": {
            "text/plain": [
              "array([ 0.21686152, -1.47788565,  0.96608266, -0.60215007,  0.32561866])"
            ]
          },
          "metadata": {},
          "execution_count": 78
        }
      ]
    },
    {
      "cell_type": "code",
      "source": [
        "np.random.choice(arr) # Arrayin içinden random eleman seçer"
      ],
      "metadata": {
        "colab": {
          "base_uri": "https://localhost:8080/"
        },
        "id": "z2GpRmrta68P",
        "outputId": "b5eceffc-1c37-404a-90ae-99bab524f6b7"
      },
      "execution_count": null,
      "outputs": [
        {
          "output_type": "execute_result",
          "data": {
            "text/plain": [
              "75"
            ]
          },
          "metadata": {},
          "execution_count": 79
        }
      ]
    },
    {
      "cell_type": "code",
      "source": [
        "# Bitti :). Peace Out <3"
      ],
      "metadata": {
        "id": "g5U3nMG6bC7d"
      },
      "execution_count": null,
      "outputs": []
    }
  ]
}